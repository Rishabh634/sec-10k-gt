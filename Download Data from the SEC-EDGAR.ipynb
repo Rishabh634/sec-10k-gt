{
 "cells": [
  {
   "cell_type": "code",
   "execution_count": 1,
   "id": "f7ca3e43",
   "metadata": {},
   "outputs": [
    {
     "name": "stdout",
     "output_type": "stream",
     "text": [
      "Requirement already satisfied: sec-edgar-downloader in c:\\users\\risha\\anaconda3\\lib\\site-packages (5.0.2)\n",
      "Requirement already satisfied: requests in c:\\users\\risha\\appdata\\roaming\\python\\python311\\site-packages (from sec-edgar-downloader) (2.31.0)\n",
      "Requirement already satisfied: pyrate-limiter>=3.1.0 in c:\\users\\risha\\anaconda3\\lib\\site-packages (from sec-edgar-downloader) (3.6.1)\n",
      "Requirement already satisfied: charset-normalizer<4,>=2 in c:\\users\\risha\\anaconda3\\lib\\site-packages (from requests->sec-edgar-downloader) (3.3.2)\n",
      "Requirement already satisfied: idna<4,>=2.5 in c:\\users\\risha\\appdata\\roaming\\python\\python311\\site-packages (from requests->sec-edgar-downloader) (3.4)\n",
      "Collecting urllib3<3,>=1.21.1 (from requests->sec-edgar-downloader)\n",
      "  Using cached urllib3-2.2.1-py3-none-any.whl.metadata (6.4 kB)\n",
      "Requirement already satisfied: certifi>=2017.4.17 in c:\\users\\risha\\appdata\\roaming\\python\\python311\\site-packages (from requests->sec-edgar-downloader) (2023.7.22)\n",
      "Using cached urllib3-2.2.1-py3-none-any.whl (121 kB)\n",
      "Installing collected packages: urllib3\n",
      "Successfully installed urllib3-2.0.7\n"
     ]
    },
    {
     "name": "stderr",
     "output_type": "stream",
     "text": [
      "WARNING: Ignoring invalid distribution ~rllib3 (C:\\Users\\risha\\AppData\\Roaming\\Python\\Python311\\site-packages)\n",
      "WARNING: Ignoring invalid distribution ~rllib3 (C:\\Users\\risha\\AppData\\Roaming\\Python\\Python311\\site-packages)\n",
      "WARNING: Ignoring invalid distribution ~rllib3 (C:\\Users\\risha\\AppData\\Roaming\\Python\\Python311\\site-packages)\n",
      "ERROR: pip's dependency resolver does not currently take into account all the packages that are installed. This behaviour is the source of the following dependency conflicts.\n",
      "conda-repo-cli 1.0.75 requires requests_mock, which is not installed.\n",
      "anaconda-client 1.12.3 requires platformdirs<5.0,>=3.10.0, but you have platformdirs 3.9.1 which is incompatible.\n",
      "botocore 1.31.64 requires urllib3<2.1,>=1.25.4; python_version >= \"3.10\", but you have urllib3 2.2.1 which is incompatible.\n",
      "conda 24.4.0 requires platformdirs>=3.10.0, but you have platformdirs 3.9.1 which is incompatible.\n",
      "conda-build 24.1.2 requires jsonschema>=4.19, but you have jsonschema 4.18.4 which is incompatible.\n",
      "conda-repo-cli 1.0.75 requires clyent==1.2.1, but you have clyent 1.2.2 which is incompatible.\n",
      "WARNING: Ignoring invalid distribution ~rllib3 (C:\\Users\\risha\\AppData\\Roaming\\Python\\Python311\\site-packages)\n",
      "WARNING: Ignoring invalid distribution ~rllib3 (C:\\Users\\risha\\AppData\\Roaming\\Python\\Python311\\site-packages)\n",
      "WARNING: Ignoring invalid distribution ~rllib3 (C:\\Users\\risha\\AppData\\Roaming\\Python\\Python311\\site-packages)\n"
     ]
    }
   ],
   "source": [
    "!pip install sec-edgar-downloader"
   ]
  },
  {
   "cell_type": "code",
   "execution_count": 2,
   "id": "f248da6d",
   "metadata": {},
   "outputs": [],
   "source": [
    "from sec_edgar_downloader import Downloader"
   ]
  },
  {
   "cell_type": "code",
   "execution_count": 3,
   "id": "41003073",
   "metadata": {},
   "outputs": [],
   "source": [
    "#download 29 10-k files into directory \n",
    "from sec_edgar_downloader import Downloader\n",
    "\n",
    "# Initialize downloader\n",
    "dl = Downloader(\"Rishabh\", \"rishabhbhati478@gmail.com\", \"D:\\\\pythonGT3\")\n",
    "\n",
    "# Function to download 10-K filings for a given company ticker for each year from 1995 through 2023\n",
    "def download_10k_filings_for_period(ticker):\n",
    "    for year in range(1995, 2001):\n",
    "        # Construct the after and before dates for the current year\n",
    "        after_date = f\"{year}-01-01\"\n",
    "        before_date = f\"{year}-12-31\"\n",
    "        # Download 10-K filings for the year\n",
    "        dl.get(\"10-K\", ticker, after=after_date, before=before_date)"
   ]
  },
  {
   "cell_type": "code",
   "execution_count": 5,
   "id": "2767d871",
   "metadata": {},
   "outputs": [],
   "source": [
    "tickers = ['AAPL', 'GOOGL', 'MSFT']  # Example tickers\n",
    "for ticker in tickers:\n",
    "    download_10k_filings_for_period(ticker)"
   ]
  }
 ],
 "metadata": {
  "kernelspec": {
   "display_name": "Python 3 (ipykernel)",
   "language": "python",
   "name": "python3"
  },
  "language_info": {
   "codemirror_mode": {
    "name": "ipython",
    "version": 3
   },
   "file_extension": ".py",
   "mimetype": "text/x-python",
   "name": "python",
   "nbconvert_exporter": "python",
   "pygments_lexer": "ipython3",
   "version": "3.11.7"
  }
 },
 "nbformat": 4,
 "nbformat_minor": 5
}

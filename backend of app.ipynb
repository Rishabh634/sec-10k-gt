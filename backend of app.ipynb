{
 "cells": [
  {
   "cell_type": "code",
   "execution_count": 2,
   "id": "f39a898a",
   "metadata": {},
   "outputs": [
    {
     "ename": "ImportError",
     "evalue": "cannot import name 'Filing' from 'edgar' (C:\\Users\\risha\\anaconda3\\Lib\\site-packages\\edgar\\__init__.py)",
     "output_type": "error",
     "traceback": [
      "\u001b[1;31m---------------------------------------------------------------------------\u001b[0m",
      "\u001b[1;31mImportError\u001b[0m                               Traceback (most recent call last)",
      "Cell \u001b[1;32mIn[2], line 1\u001b[0m\n\u001b[1;32m----> 1\u001b[0m \u001b[38;5;28;01mfrom\u001b[39;00m \u001b[38;5;21;01medgar\u001b[39;00m \u001b[38;5;28;01mimport\u001b[39;00m \u001b[38;5;241m*\u001b[39m\n",
      "File \u001b[1;32m~\\anaconda3\\Lib\\site-packages\\edgar\\muniadvisors.py:14\u001b[0m\n\u001b[0;32m     11\u001b[0m \u001b[38;5;28;01mfrom\u001b[39;00m \u001b[38;5;21;01mrich\u001b[39;00m\u001b[38;5;21;01m.\u001b[39;00m\u001b[38;5;21;01mtable\u001b[39;00m \u001b[38;5;28;01mimport\u001b[39;00m Table\n\u001b[0;32m     12\u001b[0m \u001b[38;5;28;01mfrom\u001b[39;00m \u001b[38;5;21;01mrich\u001b[39;00m\u001b[38;5;21;01m.\u001b[39;00m\u001b[38;5;21;01mtext\u001b[39;00m \u001b[38;5;28;01mimport\u001b[39;00m Text\n\u001b[1;32m---> 14\u001b[0m \u001b[38;5;28;01mfrom\u001b[39;00m \u001b[38;5;21;01medgar\u001b[39;00m \u001b[38;5;28;01mimport\u001b[39;00m Filing\n\u001b[0;32m     15\u001b[0m \u001b[38;5;28;01mfrom\u001b[39;00m \u001b[38;5;21;01medgar\u001b[39;00m\u001b[38;5;21;01m.\u001b[39;00m\u001b[38;5;21;01m_party\u001b[39;00m \u001b[38;5;28;01mimport\u001b[39;00m Name, Address\n\u001b[0;32m     16\u001b[0m \u001b[38;5;28;01mfrom\u001b[39;00m \u001b[38;5;21;01medgar\u001b[39;00m\u001b[38;5;21;01m.\u001b[39;00m\u001b[38;5;21;01m_rich\u001b[39;00m \u001b[38;5;28;01mimport\u001b[39;00m repr_rich\n",
      "\u001b[1;31mImportError\u001b[0m: cannot import name 'Filing' from 'edgar' (C:\\Users\\risha\\anaconda3\\Lib\\site-packages\\edgar\\__init__.py)"
     ]
    }
   ],
   "source": [
    "from edgar import *"
   ]
  },
  {
   "cell_type": "code",
   "execution_count": 5,
   "id": "f44fa0aa",
   "metadata": {},
   "outputs": [
    {
     "name": "stdout",
     "output_type": "stream",
     "text": [
      "Requirement already satisfied: edgartools in c:\\users\\risha\\anaconda3\\lib\\site-packages (2.21.0)\n",
      "Requirement already satisfied: beautifulsoup4>=4.10.0 in c:\\users\\risha\\appdata\\roaming\\python\\python311\\site-packages (from edgartools) (4.12.2)\n",
      "Requirement already satisfied: charset-normalizer>=2.1.1 in c:\\users\\risha\\anaconda3\\lib\\site-packages (from edgartools) (3.3.2)\n",
      "Requirement already satisfied: fastcore>=1.5.29 in c:\\users\\risha\\anaconda3\\lib\\site-packages (from edgartools) (1.5.33)\n",
      "Requirement already satisfied: httpx>=0.25.0 in c:\\users\\risha\\anaconda3\\lib\\site-packages (from edgartools) (0.26.0)\n",
      "Requirement already satisfied: humanize>=4.0.0 in c:\\users\\risha\\anaconda3\\lib\\site-packages (from edgartools) (4.9.0)\n",
      "Requirement already satisfied: lxml>=4.4 in c:\\users\\risha\\anaconda3\\lib\\site-packages (from edgartools) (4.9.3)\n",
      "Requirement already satisfied: pandas>=2.0.0 in c:\\users\\risha\\anaconda3\\lib\\site-packages (from edgartools) (2.1.4)\n",
      "Requirement already satisfied: pyarrow>=14.0.0 in c:\\users\\risha\\anaconda3\\lib\\site-packages (from edgartools) (14.0.2)\n",
      "Requirement already satisfied: pydantic>=2.0.0 in c:\\users\\risha\\anaconda3\\lib\\site-packages (from edgartools) (2.7.1)\n",
      "Requirement already satisfied: rank-bm25==0.2.1 in c:\\users\\risha\\anaconda3\\lib\\site-packages (from edgartools) (0.2.1)\n",
      "Requirement already satisfied: retry>=0.9.2 in c:\\users\\risha\\anaconda3\\lib\\site-packages (from edgartools) (0.9.2)\n",
      "Requirement already satisfied: rich>=13.0.0 in c:\\users\\risha\\anaconda3\\lib\\site-packages (from edgartools) (13.3.5)\n",
      "Requirement already satisfied: tabulate>=0.9.0 in c:\\users\\risha\\anaconda3\\lib\\site-packages (from edgartools) (0.9.0)\n",
      "Requirement already satisfied: textdistance>=4.5.0 in c:\\users\\risha\\anaconda3\\lib\\site-packages (from edgartools) (4.6.2)\n",
      "Requirement already satisfied: numpy in c:\\users\\risha\\anaconda3\\lib\\site-packages (from rank-bm25==0.2.1->edgartools) (1.26.4)\n",
      "Requirement already satisfied: soupsieve>1.2 in c:\\users\\risha\\appdata\\roaming\\python\\python311\\site-packages (from beautifulsoup4>=4.10.0->edgartools) (2.4.1)\n",
      "Requirement already satisfied: packaging in c:\\users\\risha\\anaconda3\\lib\\site-packages (from fastcore>=1.5.29->edgartools) (23.2)\n",
      "Requirement already satisfied: anyio in c:\\users\\risha\\appdata\\roaming\\python\\python311\\site-packages (from httpx>=0.25.0->edgartools) (3.7.1)\n",
      "Requirement already satisfied: certifi in c:\\users\\risha\\appdata\\roaming\\python\\python311\\site-packages (from httpx>=0.25.0->edgartools) (2023.7.22)\n",
      "Requirement already satisfied: httpcore==1.* in c:\\users\\risha\\anaconda3\\lib\\site-packages (from httpx>=0.25.0->edgartools) (1.0.2)\n",
      "Requirement already satisfied: idna in c:\\users\\risha\\appdata\\roaming\\python\\python311\\site-packages (from httpx>=0.25.0->edgartools) (3.4)\n",
      "Requirement already satisfied: sniffio in c:\\users\\risha\\appdata\\roaming\\python\\python311\\site-packages (from httpx>=0.25.0->edgartools) (1.3.0)\n",
      "Requirement already satisfied: h11<0.15,>=0.13 in c:\\users\\risha\\anaconda3\\lib\\site-packages (from httpcore==1.*->httpx>=0.25.0->edgartools) (0.14.0)\n",
      "Requirement already satisfied: python-dateutil>=2.8.2 in c:\\users\\risha\\appdata\\roaming\\python\\python311\\site-packages (from pandas>=2.0.0->edgartools) (2.8.2)\n",
      "Requirement already satisfied: pytz>=2020.1 in c:\\users\\risha\\anaconda3\\lib\\site-packages (from pandas>=2.0.0->edgartools) (2023.3.post1)\n",
      "Requirement already satisfied: tzdata>=2022.1 in c:\\users\\risha\\anaconda3\\lib\\site-packages (from pandas>=2.0.0->edgartools) (2023.3)\n",
      "Requirement already satisfied: annotated-types>=0.4.0 in c:\\users\\risha\\anaconda3\\lib\\site-packages (from pydantic>=2.0.0->edgartools) (0.6.0)\n",
      "Requirement already satisfied: pydantic-core==2.18.2 in c:\\users\\risha\\anaconda3\\lib\\site-packages (from pydantic>=2.0.0->edgartools) (2.18.2)\n",
      "Requirement already satisfied: typing-extensions>=4.6.1 in c:\\users\\risha\\anaconda3\\lib\\site-packages (from pydantic>=2.0.0->edgartools) (4.9.0)\n",
      "Requirement already satisfied: decorator>=3.4.2 in c:\\users\\risha\\appdata\\roaming\\python\\python311\\site-packages (from retry>=0.9.2->edgartools) (5.1.1)\n",
      "Requirement already satisfied: py<2.0.0,>=1.4.26 in c:\\users\\risha\\anaconda3\\lib\\site-packages (from retry>=0.9.2->edgartools) (1.11.0)\n",
      "Requirement already satisfied: markdown-it-py<3.0.0,>=2.2.0 in c:\\users\\risha\\anaconda3\\lib\\site-packages (from rich>=13.0.0->edgartools) (2.2.0)\n",
      "Requirement already satisfied: pygments<3.0.0,>=2.13.0 in c:\\users\\risha\\appdata\\roaming\\python\\python311\\site-packages (from rich>=13.0.0->edgartools) (2.15.1)\n",
      "Requirement already satisfied: mdurl~=0.1 in c:\\users\\risha\\anaconda3\\lib\\site-packages (from markdown-it-py<3.0.0,>=2.2.0->rich>=13.0.0->edgartools) (0.1.0)\n",
      "Requirement already satisfied: six>=1.5 in c:\\users\\risha\\appdata\\roaming\\python\\python311\\site-packages (from python-dateutil>=2.8.2->pandas>=2.0.0->edgartools) (1.16.0)\n"
     ]
    },
    {
     "name": "stderr",
     "output_type": "stream",
     "text": [
      "WARNING: Ignoring invalid distribution ~rllib3 (C:\\Users\\risha\\AppData\\Roaming\\Python\\Python311\\site-packages)\n",
      "WARNING: Ignoring invalid distribution ~rllib3 (C:\\Users\\risha\\AppData\\Roaming\\Python\\Python311\\site-packages)\n",
      "WARNING: Ignoring invalid distribution ~rllib3 (C:\\Users\\risha\\AppData\\Roaming\\Python\\Python311\\site-packages)\n",
      "WARNING: Ignoring invalid distribution ~rllib3 (C:\\Users\\risha\\AppData\\Roaming\\Python\\Python311\\site-packages)\n",
      "WARNING: Ignoring invalid distribution ~rllib3 (C:\\Users\\risha\\AppData\\Roaming\\Python\\Python311\\site-packages)\n",
      "WARNING: Ignoring invalid distribution ~rllib3 (C:\\Users\\risha\\AppData\\Roaming\\Python\\Python311\\site-packages)\n"
     ]
    }
   ],
   "source": [
    "!pip install edgartools"
   ]
  },
  {
   "cell_type": "code",
   "execution_count": 3,
   "id": "b8a00633",
   "metadata": {},
   "outputs": [],
   "source": [
    "import edgar"
   ]
  },
  {
   "cell_type": "code",
   "execution_count": 6,
   "id": "40c194be",
   "metadata": {},
   "outputs": [
    {
     "ename": "ModuleNotFoundError",
     "evalue": "No module named 'edgartools'",
     "output_type": "error",
     "traceback": [
      "\u001b[1;31m---------------------------------------------------------------------------\u001b[0m",
      "\u001b[1;31mModuleNotFoundError\u001b[0m                       Traceback (most recent call last)",
      "Cell \u001b[1;32mIn[6], line 1\u001b[0m\n\u001b[1;32m----> 1\u001b[0m \u001b[38;5;28;01mimport\u001b[39;00m \u001b[38;5;21;01medgartools\u001b[39;00m\n",
      "\u001b[1;31mModuleNotFoundError\u001b[0m: No module named 'edgartools'"
     ]
    }
   ],
   "source": [
    "import edgartools"
   ]
  },
  {
   "cell_type": "code",
   "execution_count": 7,
   "id": "e3708ec9",
   "metadata": {},
   "outputs": [
    {
     "ename": "ImportError",
     "evalue": "cannot import name 'set_identity' from 'edgar' (C:\\Users\\risha\\anaconda3\\Lib\\site-packages\\edgar\\__init__.py)",
     "output_type": "error",
     "traceback": [
      "\u001b[1;31m---------------------------------------------------------------------------\u001b[0m",
      "\u001b[1;31mImportError\u001b[0m                               Traceback (most recent call last)",
      "Cell \u001b[1;32mIn[7], line 1\u001b[0m\n\u001b[1;32m----> 1\u001b[0m \u001b[38;5;28;01mfrom\u001b[39;00m \u001b[38;5;21;01medgar\u001b[39;00m \u001b[38;5;28;01mimport\u001b[39;00m Company, set_identity\n",
      "\u001b[1;31mImportError\u001b[0m: cannot import name 'set_identity' from 'edgar' (C:\\Users\\risha\\anaconda3\\Lib\\site-packages\\edgar\\__init__.py)"
     ]
    }
   ],
   "source": [
    "from edgar import Company, set_identity"
   ]
  },
  {
   "cell_type": "code",
   "execution_count": 1,
   "id": "ce4aa0c5",
   "metadata": {},
   "outputs": [
    {
     "ename": "NameError",
     "evalue": "name 'set_identity' is not defined",
     "output_type": "error",
     "traceback": [
      "\u001b[1;31m---------------------------------------------------------------------------\u001b[0m",
      "\u001b[1;31mNameError\u001b[0m                                 Traceback (most recent call last)",
      "Cell \u001b[1;32mIn[1], line 1\u001b[0m\n\u001b[1;32m----> 1\u001b[0m \u001b[43mset_identity\u001b[49m(\u001b[38;5;124m\"\u001b[39m\u001b[38;5;124mRishabh Bhati rishabhbhati478@gmail.com\u001b[39m\u001b[38;5;124m\"\u001b[39m)\n",
      "\u001b[1;31mNameError\u001b[0m: name 'set_identity' is not defined"
     ]
    }
   ],
   "source": [
    "set_identity(\"Rishabh Bhati rishabhbhati478@gmail.com\")"
   ]
  },
  {
   "cell_type": "code",
   "execution_count": 8,
   "id": "92977d51",
   "metadata": {},
   "outputs": [
    {
     "ename": "ImportError",
     "evalue": "cannot import name 'find' from 'edgar' (C:\\Users\\risha\\anaconda3\\Lib\\site-packages\\edgar\\__init__.py)",
     "output_type": "error",
     "traceback": [
      "\u001b[1;31m---------------------------------------------------------------------------\u001b[0m",
      "\u001b[1;31mImportError\u001b[0m                               Traceback (most recent call last)",
      "Cell \u001b[1;32mIn[8], line 1\u001b[0m\n\u001b[1;32m----> 1\u001b[0m \u001b[38;5;28;01mfrom\u001b[39;00m \u001b[38;5;21;01medgar\u001b[39;00m \u001b[38;5;28;01mimport\u001b[39;00m find\n\u001b[0;32m      2\u001b[0m filing \u001b[38;5;241m=\u001b[39m find(\u001b[38;5;124m\"\u001b[39m\u001b[38;5;124m0001065280-23-000273\u001b[39m\u001b[38;5;124m\"\u001b[39m)\n",
      "\u001b[1;31mImportError\u001b[0m: cannot import name 'find' from 'edgar' (C:\\Users\\risha\\anaconda3\\Lib\\site-packages\\edgar\\__init__.py)"
     ]
    }
   ],
   "source": [
    "from edgar import find\n",
    "filing = find(\"0001065280-23-000273\")"
   ]
  },
  {
   "cell_type": "code",
   "execution_count": 4,
   "id": "452e2d39",
   "metadata": {},
   "outputs": [],
   "source": [
    "filings = get_filings(index=\"xbrl\")"
   ]
  },
  {
   "cell_type": "code",
   "execution_count": 5,
   "id": "454c59cc",
   "metadata": {},
   "outputs": [
    {
     "data": {
      "text/html": [
       "<div>\n",
       "<style scoped>\n",
       "    .dataframe tbody tr th:only-of-type {\n",
       "        vertical-align: middle;\n",
       "    }\n",
       "\n",
       "    .dataframe tbody tr th {\n",
       "        vertical-align: top;\n",
       "    }\n",
       "\n",
       "    .dataframe thead th {\n",
       "        text-align: right;\n",
       "    }\n",
       "</style>\n",
       "<table border=\"1\" class=\"dataframe\">\n",
       "  <thead>\n",
       "    <tr style=\"text-align: right;\">\n",
       "      <th></th>\n",
       "      <th>cik</th>\n",
       "      <th>company</th>\n",
       "      <th>form</th>\n",
       "      <th>filing_date</th>\n",
       "      <th>accession_number</th>\n",
       "    </tr>\n",
       "  </thead>\n",
       "  <tbody>\n",
       "    <tr>\n",
       "      <th>0</th>\n",
       "      <td>1011378</td>\n",
       "      <td>MORGAN STANLEY VARIABLE INSURANCE FUND INC.</td>\n",
       "      <td>497</td>\n",
       "      <td>2024-05-03</td>\n",
       "      <td>0001133228-24-005253</td>\n",
       "    </tr>\n",
       "    <tr>\n",
       "      <th>1</th>\n",
       "      <td>1011509</td>\n",
       "      <td>Golden Minerals Co</td>\n",
       "      <td>8-K</td>\n",
       "      <td>2024-05-03</td>\n",
       "      <td>0001104659-24-056962</td>\n",
       "    </tr>\n",
       "    <tr>\n",
       "      <th>2</th>\n",
       "      <td>1015739</td>\n",
       "      <td>AWARE INC /MA/</td>\n",
       "      <td>10-Q</td>\n",
       "      <td>2024-05-03</td>\n",
       "      <td>0000950170-24-052854</td>\n",
       "    </tr>\n",
       "    <tr>\n",
       "      <th>3</th>\n",
       "      <td>1016281</td>\n",
       "      <td>CARRIAGE SERVICES INC</td>\n",
       "      <td>10-Q</td>\n",
       "      <td>2024-05-03</td>\n",
       "      <td>0001016281-24-000091</td>\n",
       "    </tr>\n",
       "    <tr>\n",
       "      <th>4</th>\n",
       "      <td>1017491</td>\n",
       "      <td>SEELOS THERAPEUTICS, INC.</td>\n",
       "      <td>8-K</td>\n",
       "      <td>2024-05-03</td>\n",
       "      <td>0001104659-24-057058</td>\n",
       "    </tr>\n",
       "    <tr>\n",
       "      <th>...</th>\n",
       "      <td>...</td>\n",
       "      <td>...</td>\n",
       "      <td>...</td>\n",
       "      <td>...</td>\n",
       "      <td>...</td>\n",
       "    </tr>\n",
       "    <tr>\n",
       "      <th>13584</th>\n",
       "      <td>946644</td>\n",
       "      <td>AIM ImmunoTech Inc.</td>\n",
       "      <td>10-K</td>\n",
       "      <td>2024-04-01</td>\n",
       "      <td>0001493152-24-012058</td>\n",
       "    </tr>\n",
       "    <tr>\n",
       "      <th>13585</th>\n",
       "      <td>95953</td>\n",
       "      <td>ASCENT INDUSTRIES CO.</td>\n",
       "      <td>10-K</td>\n",
       "      <td>2024-04-01</td>\n",
       "      <td>0000095953-24-000018</td>\n",
       "    </tr>\n",
       "    <tr>\n",
       "      <th>13586</th>\n",
       "      <td>96943</td>\n",
       "      <td>TELEFLEX INC</td>\n",
       "      <td>DEF 14A</td>\n",
       "      <td>2024-04-01</td>\n",
       "      <td>0001193125-24-083481</td>\n",
       "    </tr>\n",
       "    <tr>\n",
       "      <th>13587</th>\n",
       "      <td>98362</td>\n",
       "      <td>TIMKEN CO</td>\n",
       "      <td>8-K</td>\n",
       "      <td>2024-04-01</td>\n",
       "      <td>0000098362-24-000045</td>\n",
       "    </tr>\n",
       "    <tr>\n",
       "      <th>13588</th>\n",
       "      <td>99106</td>\n",
       "      <td>TRANS LUX Corp</td>\n",
       "      <td>10-K</td>\n",
       "      <td>2024-04-01</td>\n",
       "      <td>0001513162-24-000044</td>\n",
       "    </tr>\n",
       "  </tbody>\n",
       "</table>\n",
       "<p>13589 rows × 5 columns</p>\n",
       "</div>"
      ],
      "text/plain": [
       "           cik                                      company     form  \\\n",
       "0      1011378  MORGAN STANLEY VARIABLE INSURANCE FUND INC.      497   \n",
       "1      1011509                           Golden Minerals Co      8-K   \n",
       "2      1015739                               AWARE INC /MA/     10-Q   \n",
       "3      1016281                        CARRIAGE SERVICES INC     10-Q   \n",
       "4      1017491                    SEELOS THERAPEUTICS, INC.      8-K   \n",
       "...        ...                                          ...      ...   \n",
       "13584   946644                          AIM ImmunoTech Inc.     10-K   \n",
       "13585    95953                        ASCENT INDUSTRIES CO.     10-K   \n",
       "13586    96943                                 TELEFLEX INC  DEF 14A   \n",
       "13587    98362                                    TIMKEN CO      8-K   \n",
       "13588    99106                               TRANS LUX Corp     10-K   \n",
       "\n",
       "      filing_date      accession_number  \n",
       "0      2024-05-03  0001133228-24-005253  \n",
       "1      2024-05-03  0001104659-24-056962  \n",
       "2      2024-05-03  0000950170-24-052854  \n",
       "3      2024-05-03  0001016281-24-000091  \n",
       "4      2024-05-03  0001104659-24-057058  \n",
       "...           ...                   ...  \n",
       "13584  2024-04-01  0001493152-24-012058  \n",
       "13585  2024-04-01  0000095953-24-000018  \n",
       "13586  2024-04-01  0001193125-24-083481  \n",
       "13587  2024-04-01  0000098362-24-000045  \n",
       "13588  2024-04-01  0001513162-24-000044  \n",
       "\n",
       "[13589 rows x 5 columns]"
      ]
     },
     "execution_count": 5,
     "metadata": {},
     "output_type": "execute_result"
    }
   ],
   "source": [
    "filings.to_pandas()"
   ]
  },
  {
   "cell_type": "code",
   "execution_count": 6,
   "id": "210c3b25",
   "metadata": {},
   "outputs": [
    {
     "ename": "TypeError",
     "evalue": "Company.__init__() missing 1 required positional argument: 'name'",
     "output_type": "error",
     "traceback": [
      "\u001b[1;31m---------------------------------------------------------------------------\u001b[0m",
      "\u001b[1;31mTypeError\u001b[0m                                 Traceback (most recent call last)",
      "Cell \u001b[1;32mIn[6], line 1\u001b[0m\n\u001b[1;32m----> 1\u001b[0m company \u001b[38;5;241m=\u001b[39m \u001b[43mCompany\u001b[49m\u001b[43m(\u001b[49m\u001b[43mcik\u001b[49m\u001b[38;5;241;43m=\u001b[39;49m\u001b[38;5;124;43m\"\u001b[39;49m\u001b[38;5;124;43m0000320193\u001b[39;49m\u001b[38;5;124;43m\"\u001b[39;49m\u001b[43m)\u001b[49m\n",
      "\u001b[1;31mTypeError\u001b[0m: Company.__init__() missing 1 required positional argument: 'name'"
     ]
    }
   ],
   "source": [
    "company = Company(cik=\"0000320193\")"
   ]
  },
  {
   "cell_type": "code",
   "execution_count": 7,
   "id": "103b0432",
   "metadata": {},
   "outputs": [
    {
     "data": {
      "text/html": [
       "<div>\n",
       "<style scoped>\n",
       "    .dataframe tbody tr th:only-of-type {\n",
       "        vertical-align: middle;\n",
       "    }\n",
       "\n",
       "    .dataframe tbody tr th {\n",
       "        vertical-align: top;\n",
       "    }\n",
       "\n",
       "    .dataframe thead th {\n",
       "        text-align: right;\n",
       "    }\n",
       "</style>\n",
       "<table border=\"1\" class=\"dataframe\">\n",
       "  <thead>\n",
       "    <tr style=\"text-align: right;\">\n",
       "      <th></th>\n",
       "      <th>namespace</th>\n",
       "      <th>fact</th>\n",
       "      <th>val</th>\n",
       "      <th>accn</th>\n",
       "      <th>end</th>\n",
       "      <th>fy</th>\n",
       "      <th>fp</th>\n",
       "      <th>form</th>\n",
       "      <th>filed</th>\n",
       "      <th>frame</th>\n",
       "      <th>start</th>\n",
       "    </tr>\n",
       "  </thead>\n",
       "  <tbody>\n",
       "    <tr>\n",
       "      <th>0</th>\n",
       "      <td>dei</td>\n",
       "      <td>EntityCommonStockSharesOutstanding</td>\n",
       "      <td>8.958168e+08</td>\n",
       "      <td>0001193125-09-153165</td>\n",
       "      <td>2009-06-27</td>\n",
       "      <td>2009</td>\n",
       "      <td>Q3</td>\n",
       "      <td>10-Q</td>\n",
       "      <td>2009-07-22</td>\n",
       "      <td>CY2009Q2I</td>\n",
       "      <td>None</td>\n",
       "    </tr>\n",
       "    <tr>\n",
       "      <th>1</th>\n",
       "      <td>dei</td>\n",
       "      <td>EntityCommonStockSharesOutstanding</td>\n",
       "      <td>9.006785e+08</td>\n",
       "      <td>0001193125-09-214859</td>\n",
       "      <td>2009-10-16</td>\n",
       "      <td>2009</td>\n",
       "      <td>FY</td>\n",
       "      <td>10-K</td>\n",
       "      <td>2009-10-27</td>\n",
       "      <td>None</td>\n",
       "      <td>None</td>\n",
       "    </tr>\n",
       "    <tr>\n",
       "      <th>2</th>\n",
       "      <td>dei</td>\n",
       "      <td>EntityCommonStockSharesOutstanding</td>\n",
       "      <td>9.006785e+08</td>\n",
       "      <td>0001193125-10-012091</td>\n",
       "      <td>2009-10-16</td>\n",
       "      <td>2009</td>\n",
       "      <td>FY</td>\n",
       "      <td>10-K/A</td>\n",
       "      <td>2010-01-25</td>\n",
       "      <td>CY2009Q3I</td>\n",
       "      <td>None</td>\n",
       "    </tr>\n",
       "    <tr>\n",
       "      <th>3</th>\n",
       "      <td>dei</td>\n",
       "      <td>EntityCommonStockSharesOutstanding</td>\n",
       "      <td>9.067946e+08</td>\n",
       "      <td>0001193125-10-012085</td>\n",
       "      <td>2010-01-15</td>\n",
       "      <td>2010</td>\n",
       "      <td>Q1</td>\n",
       "      <td>10-Q</td>\n",
       "      <td>2010-01-25</td>\n",
       "      <td>CY2009Q4I</td>\n",
       "      <td>None</td>\n",
       "    </tr>\n",
       "    <tr>\n",
       "      <th>4</th>\n",
       "      <td>dei</td>\n",
       "      <td>EntityCommonStockSharesOutstanding</td>\n",
       "      <td>9.099384e+08</td>\n",
       "      <td>0001193125-10-088957</td>\n",
       "      <td>2010-04-09</td>\n",
       "      <td>2010</td>\n",
       "      <td>Q2</td>\n",
       "      <td>10-Q</td>\n",
       "      <td>2010-04-21</td>\n",
       "      <td>CY2010Q1I</td>\n",
       "      <td>None</td>\n",
       "    </tr>\n",
       "    <tr>\n",
       "      <th>...</th>\n",
       "      <td>...</td>\n",
       "      <td>...</td>\n",
       "      <td>...</td>\n",
       "      <td>...</td>\n",
       "      <td>...</td>\n",
       "      <td>...</td>\n",
       "      <td>...</td>\n",
       "      <td>...</td>\n",
       "      <td>...</td>\n",
       "      <td>...</td>\n",
       "      <td>...</td>\n",
       "    </tr>\n",
       "    <tr>\n",
       "      <th>22572</th>\n",
       "      <td>us-gaap</td>\n",
       "      <td>IncrementalCommonSharesAttributableToShareBase...</td>\n",
       "      <td>6.687800e+07</td>\n",
       "      <td>0000320193-24-000006</td>\n",
       "      <td>2023-12-30</td>\n",
       "      <td>2024</td>\n",
       "      <td>Q1</td>\n",
       "      <td>10-Q</td>\n",
       "      <td>2024-02-02</td>\n",
       "      <td>CY2023Q4</td>\n",
       "      <td>2023-10-01</td>\n",
       "    </tr>\n",
       "    <tr>\n",
       "      <th>22573</th>\n",
       "      <td>us-gaap</td>\n",
       "      <td>IncrementalCommonSharesAttributableToShareBase...</td>\n",
       "      <td>6.286500e+07</td>\n",
       "      <td>0000320193-24-000069</td>\n",
       "      <td>2024-03-30</td>\n",
       "      <td>2024</td>\n",
       "      <td>Q2</td>\n",
       "      <td>10-Q</td>\n",
       "      <td>2024-05-03</td>\n",
       "      <td>None</td>\n",
       "      <td>2023-10-01</td>\n",
       "    </tr>\n",
       "    <tr>\n",
       "      <th>22574</th>\n",
       "      <td>us-gaap</td>\n",
       "      <td>IncrementalCommonSharesAttributableToShareBase...</td>\n",
       "      <td>5.885300e+07</td>\n",
       "      <td>0000320193-24-000069</td>\n",
       "      <td>2024-03-30</td>\n",
       "      <td>2024</td>\n",
       "      <td>Q2</td>\n",
       "      <td>10-Q</td>\n",
       "      <td>2024-05-03</td>\n",
       "      <td>CY2024Q1</td>\n",
       "      <td>2023-12-31</td>\n",
       "    </tr>\n",
       "    <tr>\n",
       "      <th>22575</th>\n",
       "      <td>us-gaap</td>\n",
       "      <td>OtherAssetsMiscellaneousNoncurrent</td>\n",
       "      <td>3.905300e+10</td>\n",
       "      <td>0000320193-23-000106</td>\n",
       "      <td>2022-09-24</td>\n",
       "      <td>2023</td>\n",
       "      <td>FY</td>\n",
       "      <td>10-K</td>\n",
       "      <td>2023-11-03</td>\n",
       "      <td>CY2022Q3I</td>\n",
       "      <td>None</td>\n",
       "    </tr>\n",
       "    <tr>\n",
       "      <th>22576</th>\n",
       "      <td>us-gaap</td>\n",
       "      <td>OtherAssetsMiscellaneousNoncurrent</td>\n",
       "      <td>4.690600e+10</td>\n",
       "      <td>0000320193-23-000106</td>\n",
       "      <td>2023-09-30</td>\n",
       "      <td>2023</td>\n",
       "      <td>FY</td>\n",
       "      <td>10-K</td>\n",
       "      <td>2023-11-03</td>\n",
       "      <td>CY2023Q3I</td>\n",
       "      <td>None</td>\n",
       "    </tr>\n",
       "  </tbody>\n",
       "</table>\n",
       "<p>22577 rows × 11 columns</p>\n",
       "</div>"
      ],
      "text/plain": [
       "      namespace                                               fact  \\\n",
       "0           dei                 EntityCommonStockSharesOutstanding   \n",
       "1           dei                 EntityCommonStockSharesOutstanding   \n",
       "2           dei                 EntityCommonStockSharesOutstanding   \n",
       "3           dei                 EntityCommonStockSharesOutstanding   \n",
       "4           dei                 EntityCommonStockSharesOutstanding   \n",
       "...         ...                                                ...   \n",
       "22572   us-gaap  IncrementalCommonSharesAttributableToShareBase...   \n",
       "22573   us-gaap  IncrementalCommonSharesAttributableToShareBase...   \n",
       "22574   us-gaap  IncrementalCommonSharesAttributableToShareBase...   \n",
       "22575   us-gaap                 OtherAssetsMiscellaneousNoncurrent   \n",
       "22576   us-gaap                 OtherAssetsMiscellaneousNoncurrent   \n",
       "\n",
       "                val                  accn         end    fy  fp    form  \\\n",
       "0      8.958168e+08  0001193125-09-153165  2009-06-27  2009  Q3    10-Q   \n",
       "1      9.006785e+08  0001193125-09-214859  2009-10-16  2009  FY    10-K   \n",
       "2      9.006785e+08  0001193125-10-012091  2009-10-16  2009  FY  10-K/A   \n",
       "3      9.067946e+08  0001193125-10-012085  2010-01-15  2010  Q1    10-Q   \n",
       "4      9.099384e+08  0001193125-10-088957  2010-04-09  2010  Q2    10-Q   \n",
       "...             ...                   ...         ...   ...  ..     ...   \n",
       "22572  6.687800e+07  0000320193-24-000006  2023-12-30  2024  Q1    10-Q   \n",
       "22573  6.286500e+07  0000320193-24-000069  2024-03-30  2024  Q2    10-Q   \n",
       "22574  5.885300e+07  0000320193-24-000069  2024-03-30  2024  Q2    10-Q   \n",
       "22575  3.905300e+10  0000320193-23-000106  2022-09-24  2023  FY    10-K   \n",
       "22576  4.690600e+10  0000320193-23-000106  2023-09-30  2023  FY    10-K   \n",
       "\n",
       "            filed      frame       start  \n",
       "0      2009-07-22  CY2009Q2I        None  \n",
       "1      2009-10-27       None        None  \n",
       "2      2010-01-25  CY2009Q3I        None  \n",
       "3      2010-01-25  CY2009Q4I        None  \n",
       "4      2010-04-21  CY2010Q1I        None  \n",
       "...           ...        ...         ...  \n",
       "22572  2024-02-02   CY2023Q4  2023-10-01  \n",
       "22573  2024-05-03       None  2023-10-01  \n",
       "22574  2024-05-03   CY2024Q1  2023-12-31  \n",
       "22575  2023-11-03  CY2022Q3I        None  \n",
       "22576  2023-11-03  CY2023Q3I        None  \n",
       "\n",
       "[22577 rows x 11 columns]"
      ]
     },
     "execution_count": 7,
     "metadata": {},
     "output_type": "execute_result"
    }
   ],
   "source": [
    "company.get_facts().to_pandas()"
   ]
  },
  {
   "cell_type": "code",
   "execution_count": 8,
   "id": "db8e7563",
   "metadata": {},
   "outputs": [
    {
     "data": {
      "text/html": [
       "<pre style=\"white-space:pre;overflow-x:auto;line-height:normal;font-family:Menlo,'DejaVu Sans Mono',consolas,'Courier New',monospace\"></pre>\n"
      ],
      "text/plain": []
     },
     "metadata": {},
     "output_type": "display_data"
    },
    {
     "data": {
      "text/plain": [
       "\u001b[1;38;5;39m                                             Balance Sheet                                             \u001b[0m\n",
       "                                                                                                       \n",
       " \u001b[1m \u001b[0m\u001b[1m                                          \u001b[0m\u001b[1m \u001b[0m \u001b[1m \u001b[0m\u001b[1m      2023-09-30\u001b[0m\u001b[1m \u001b[0m \u001b[1m \u001b[0m\u001b[1m      2022-09-24\u001b[0m\u001b[1m \u001b[0m \u001b[1m \u001b[0m\u001b[1m      2021-09-25\u001b[0m\u001b[1m \u001b[0m \n",
       " ━━━━━━━━━━━━━━━━━━━━━━━━━━━━━━━━━━━━━━━━━━━━━━━━━━━━━━━━━━━━━━━━━━━━━━━━━━━━━━━━━━━━━━━━━━━━━━━━━━━━━ \n",
       "  \u001b[1;38;5;39mASSETS:                                   \u001b[0m                                                           \n",
       "  \u001b[1;38;5;39mCURRENT ASSETS:                           \u001b[0m                                                           \n",
       "    Cash and Cash Equivalents                    29,965,000,000     23,646,000,000                     \n",
       "    Short-term Investments                                                                             \n",
       "    Other Current Assets                         14,695,000,000     21,223,000,000                     \n",
       "  \u001b[1;38;5;32m  Total Current Assets                    \u001b[0m    143,566,000,000    135,405,000,000                     \n",
       "                                                                                                       \n",
       "  \u001b[1;38;5;39mNONCURRENT ASSETS:                        \u001b[0m                                                           \n",
       "    Marketable Securities                       100,544,000,000    120,805,000,000                     \n",
       "    Property, Plant and Equipment                43,715,000,000     42,117,000,000                     \n",
       "    Other Noncurrent Assets                      64,758,000,000     54,428,000,000                     \n",
       "  \u001b[1;38;5;32m  Total Noncurrent Assets                 \u001b[0m    209,017,000,000    217,350,000,000                     \n",
       "                                                                                                       \n",
       "  \u001b[1;38;5;32mTotal Assets                              \u001b[0m    352,583,000,000    352,755,000,000                     \n",
       "                                                                                                       \n",
       "  \u001b[1;38;5;39mLIABILITIES AND STOCKHOLDERS' EQUITY:     \u001b[0m                                                           \n",
       "  \u001b[1;38;5;39mCURRENT LIABILITIES:                      \u001b[0m                                                           \n",
       "    Accounts Payable                             62,611,000,000     64,115,000,000                     \n",
       "    Other Current Liabilities                    58,829,000,000     60,845,000,000                     \n",
       "    Deferred Revenue                              8,061,000,000      7,912,000,000                     \n",
       "    Commercial Paper                              5,985,000,000      9,982,000,000                     \n",
       "    Term Debt                                     9,822,000,000     11,128,000,000                     \n",
       "    Accrued Liabilities                                                                                \n",
       "  \u001b[1;38;5;32m  Total Current Liabilities               \u001b[0m    145,308,000,000    153,982,000,000                     \n",
       "                                                                                                       \n",
       "  \u001b[1;38;5;39mNONCURRENT LIABILITIES:                   \u001b[0m                                                           \n",
       "    Non-current Long Term Debt                   95,281,000,000     98,959,000,000                     \n",
       "    Other Noncurrent Liabilities                 49,848,000,000     49,142,000,000                     \n",
       "  \u001b[1;38;5;32m  Total Noncurrent Liabilities            \u001b[0m    145,129,000,000    148,101,000,000                     \n",
       "                                                                                                       \n",
       "  \u001b[1;38;5;32mTotal Liabilities                         \u001b[0m    290,437,000,000    302,083,000,000                     \n",
       "                                                                                                       \n",
       "  \u001b[1;38;5;39mSTOCKHOLDERS' EQUITY:                     \u001b[0m                                                           \n",
       "    Common Stock and paid-in Capital             73,812,000,000     64,849,000,000                     \n",
       "    Retained Earnings                              -214,000,000     -3,068,000,000                     \n",
       "    Accumulated Other Comprehensive Income      -11,452,000,000    -11,109,000,000                     \n",
       "  \u001b[1;38;5;32m  Total Stockholders' Equity              \u001b[0m     62,146,000,000     50,672,000,000     63,090,000,000  \n",
       "                                                                                                       \n",
       "  \u001b[1;38;5;32mTotal Liabilities and Stockholders' Equity\u001b[0m    352,583,000,000    352,755,000,000                     \n",
       "                                                                                                       "
      ]
     },
     "execution_count": 8,
     "metadata": {},
     "output_type": "execute_result"
    }
   ],
   "source": [
    "company.financials.balance_sheet"
   ]
  },
  {
   "cell_type": "code",
   "execution_count": 9,
   "id": "801a82f5",
   "metadata": {},
   "outputs": [
    {
     "data": {
      "text/html": [
       "<pre style=\"white-space:pre;overflow-x:auto;line-height:normal;font-family:Menlo,'DejaVu Sans Mono',consolas,'Courier New',monospace\"></pre>\n"
      ],
      "text/plain": []
     },
     "metadata": {},
     "output_type": "display_data"
    },
    {
     "data": {
      "text/plain": [
       "\u001b[1;38;5;39m                                   Consolidated Statement of Operations                                   \u001b[0m\n",
       "                                                                                                          \n",
       " \u001b[1m \u001b[0m\u001b[1m                                             \u001b[0m\u001b[1m \u001b[0m \u001b[1m \u001b[0m\u001b[1m      2023-09-30\u001b[0m\u001b[1m \u001b[0m \u001b[1m \u001b[0m\u001b[1m      2022-09-24\u001b[0m\u001b[1m \u001b[0m \u001b[1m \u001b[0m\u001b[1m      2021-09-25\u001b[0m\u001b[1m \u001b[0m \n",
       " ━━━━━━━━━━━━━━━━━━━━━━━━━━━━━━━━━━━━━━━━━━━━━━━━━━━━━━━━━━━━━━━━━━━━━━━━━━━━━━━━━━━━━━━━━━━━━━━━━━━━━━━━ \n",
       "  \u001b[1;38;5;39mSALES:                                       \u001b[0m                                                           \n",
       "  \u001b[1;38;5;32mTotal Net Sales                              \u001b[0m    383,285,000,000    394,328,000,000    365,817,000,000  \n",
       "                                                                                                          \n",
       "  \u001b[1;38;5;39mCOST OF SALES:                               \u001b[0m                                                           \n",
       "  \u001b[1;38;5;32mCost Goods and Services Sold                 \u001b[0m    214,137,000,000    223,546,000,000    212,981,000,000  \n",
       "                                                                                                          \n",
       "  \u001b[1;38;5;32mGross Profit                                 \u001b[0m    169,148,000,000    170,782,000,000    152,836,000,000  \n",
       "                                                                                                          \n",
       "  \u001b[1;38;5;39mOPERATING EXPENSES:                          \u001b[0m                                                           \n",
       "    Marketing Expense                                                                                     \n",
       "    Research and Development Expenses               29,915,000,000     26,251,000,000     21,914,000,000  \n",
       "    Selling General and Administrative Expenses     24,932,000,000     25,094,000,000     21,973,000,000  \n",
       "  \u001b[1;38;5;32mTotal Operating Expenses                     \u001b[0m     54,847,000,000     51,345,000,000     43,887,000,000  \n",
       "                                                                                                          \n",
       "  \u001b[1;38;5;32mOperating Income                             \u001b[0m    114,301,000,000    119,437,000,000    108,949,000,000  \n",
       "                                                                                                          \n",
       "  \u001b[1;38;5;39mOTHER INCOME/EXPENSE:                        \u001b[0m                                                           \n",
       "    Interest Expense                                 3,933,000,000      2,931,000,000      2,645,000,000  \n",
       "    Nonoperating Income                               -565,000,000       -334,000,000        258,000,000  \n",
       "  \u001b[1;38;5;32mIncome Before Taxes                          \u001b[0m    113,736,000,000    119,103,000,000    109,207,000,000  \n",
       "                                                                                                          \n",
       "  Income Tax Expense                                16,741,000,000     19,300,000,000     14,527,000,000  \n",
       "  \u001b[1;38;5;32mNet Income                                   \u001b[0m     96,995,000,000     99,803,000,000     94,680,000,000  \n",
       "                                                                                                          \n",
       "  \u001b[1;38;5;39mEARNINGS PER SHARE:                          \u001b[0m                                                           \n",
       "    Basic                                                     6.16               6.15               5.67  \n",
       "    Diluted                                                   6.13               6.11               5.61  \n",
       "  \u001b[1;38;5;39mWEIGHTED AVERAGE SHARES OUTSTANDING:         \u001b[0m                                                           \n",
       "    Basic                                           15,744,231,000     16,215,963,000     16,701,272,000  \n",
       "    Diluted                                         15,812,547,000     16,325,819,000     16,864,919,000  \n",
       "                                                                                                          "
      ]
     },
     "execution_count": 9,
     "metadata": {},
     "output_type": "execute_result"
    }
   ],
   "source": [
    "company.financials.income_statement"
   ]
  },
  {
   "cell_type": "code",
   "execution_count": 12,
   "id": "6eb52a1b",
   "metadata": {},
   "outputs": [
    {
     "ename": "NameError",
     "evalue": "name 'filing' is not defined",
     "output_type": "error",
     "traceback": [
      "\u001b[1;31m---------------------------------------------------------------------------\u001b[0m",
      "\u001b[1;31mNameError\u001b[0m                                 Traceback (most recent call last)",
      "Cell \u001b[1;32mIn[12], line 2\u001b[0m\n\u001b[0;32m      1\u001b[0m \u001b[38;5;28;01mfrom\u001b[39;00m \u001b[38;5;21;01medgar\u001b[39;00m\u001b[38;5;21;01m.\u001b[39;00m\u001b[38;5;21;01mfinancials\u001b[39;00m \u001b[38;5;28;01mimport\u001b[39;00m Financials\n\u001b[1;32m----> 2\u001b[0m financials \u001b[38;5;241m=\u001b[39m Financials\u001b[38;5;241m.\u001b[39mfrom_xbrl(\u001b[43mfiling\u001b[49m\u001b[38;5;241m.\u001b[39mxbrl())\n\u001b[0;32m      3\u001b[0m balance_sheet_df \u001b[38;5;241m=\u001b[39m financials\u001b[38;5;241m.\u001b[39mincome_statement\u001b[38;5;241m.\u001b[39mto_dataframe()\n",
      "\u001b[1;31mNameError\u001b[0m: name 'filing' is not defined"
     ]
    }
   ],
   "source": [
    "from edgar.financials import Financials\n",
    "financials = Financials.from_xbrl(filing.xbrl())\n",
    "balance_sheet_df = financials.income_statement.to_dataframe()"
   ]
  },
  {
   "cell_type": "code",
   "execution_count": 17,
   "id": "8e3e2384",
   "metadata": {},
   "outputs": [
    {
     "data": {
      "text/html": [
       "<div>\n",
       "<style scoped>\n",
       "    .dataframe tbody tr th:only-of-type {\n",
       "        vertical-align: middle;\n",
       "    }\n",
       "\n",
       "    .dataframe tbody tr th {\n",
       "        vertical-align: top;\n",
       "    }\n",
       "\n",
       "    .dataframe thead th {\n",
       "        text-align: right;\n",
       "    }\n",
       "</style>\n",
       "<table border=\"1\" class=\"dataframe\">\n",
       "  <thead>\n",
       "    <tr style=\"text-align: right;\">\n",
       "      <th></th>\n",
       "      <th>2023-09-30</th>\n",
       "      <th>2022-09-24</th>\n",
       "      <th>2021-09-25</th>\n",
       "    </tr>\n",
       "    <tr>\n",
       "      <th>Fact</th>\n",
       "      <th></th>\n",
       "      <th></th>\n",
       "      <th></th>\n",
       "    </tr>\n",
       "  </thead>\n",
       "  <tbody>\n",
       "    <tr>\n",
       "      <th>GrossProfit</th>\n",
       "      <td>169148000000</td>\n",
       "      <td>170782000000</td>\n",
       "      <td>152836000000</td>\n",
       "    </tr>\n",
       "    <tr>\n",
       "      <th>ResearchAndDevelopmentExpense</th>\n",
       "      <td>29915000000</td>\n",
       "      <td>26251000000</td>\n",
       "      <td>21914000000</td>\n",
       "    </tr>\n",
       "    <tr>\n",
       "      <th>OperatingExpenses</th>\n",
       "      <td>54847000000</td>\n",
       "      <td>51345000000</td>\n",
       "      <td>43887000000</td>\n",
       "    </tr>\n",
       "    <tr>\n",
       "      <th>OperatingIncomeLoss</th>\n",
       "      <td>114301000000</td>\n",
       "      <td>119437000000</td>\n",
       "      <td>108949000000</td>\n",
       "    </tr>\n",
       "    <tr>\n",
       "      <th>InterestExpense</th>\n",
       "      <td>3933000000</td>\n",
       "      <td>2931000000</td>\n",
       "      <td>2645000000</td>\n",
       "    </tr>\n",
       "    <tr>\n",
       "      <th>NonoperatingIncomeExpense</th>\n",
       "      <td>-565000000</td>\n",
       "      <td>-334000000</td>\n",
       "      <td>258000000</td>\n",
       "    </tr>\n",
       "    <tr>\n",
       "      <th>IncomeLossFromContinuingOperationsBeforeIncomeTaxesExtraordinaryItemsNoncontrollingInterest</th>\n",
       "      <td>113736000000</td>\n",
       "      <td>119103000000</td>\n",
       "      <td>109207000000</td>\n",
       "    </tr>\n",
       "    <tr>\n",
       "      <th>IncomeTaxExpenseBenefit</th>\n",
       "      <td>16741000000</td>\n",
       "      <td>19300000000</td>\n",
       "      <td>14527000000</td>\n",
       "    </tr>\n",
       "    <tr>\n",
       "      <th>NetIncomeLoss</th>\n",
       "      <td>96995000000</td>\n",
       "      <td>99803000000</td>\n",
       "      <td>94680000000</td>\n",
       "    </tr>\n",
       "    <tr>\n",
       "      <th>EarningsPerShareBasic</th>\n",
       "      <td>6.16</td>\n",
       "      <td>6.15</td>\n",
       "      <td>5.67</td>\n",
       "    </tr>\n",
       "    <tr>\n",
       "      <th>EarningsPerShareDiluted</th>\n",
       "      <td>6.13</td>\n",
       "      <td>6.11</td>\n",
       "      <td>5.61</td>\n",
       "    </tr>\n",
       "    <tr>\n",
       "      <th>WeightedAverageNumberOfSharesOutstandingBasic</th>\n",
       "      <td>15744231000</td>\n",
       "      <td>16215963000</td>\n",
       "      <td>16701272000</td>\n",
       "    </tr>\n",
       "    <tr>\n",
       "      <th>WeightedAverageNumberOfDilutedSharesOutstanding</th>\n",
       "      <td>15812547000</td>\n",
       "      <td>16325819000</td>\n",
       "      <td>16864919000</td>\n",
       "    </tr>\n",
       "  </tbody>\n",
       "</table>\n",
       "</div>"
      ],
      "text/plain": [
       "                                                      2023-09-30  \\\n",
       "Fact                                                               \n",
       "GrossProfit                                         169148000000   \n",
       "ResearchAndDevelopmentExpense                        29915000000   \n",
       "OperatingExpenses                                    54847000000   \n",
       "OperatingIncomeLoss                                 114301000000   \n",
       "InterestExpense                                       3933000000   \n",
       "NonoperatingIncomeExpense                             -565000000   \n",
       "IncomeLossFromContinuingOperationsBeforeIncomeT...  113736000000   \n",
       "IncomeTaxExpenseBenefit                              16741000000   \n",
       "NetIncomeLoss                                        96995000000   \n",
       "EarningsPerShareBasic                                       6.16   \n",
       "EarningsPerShareDiluted                                     6.13   \n",
       "WeightedAverageNumberOfSharesOutstandingBasic        15744231000   \n",
       "WeightedAverageNumberOfDilutedSharesOutstanding      15812547000   \n",
       "\n",
       "                                                      2022-09-24    2021-09-25  \n",
       "Fact                                                                            \n",
       "GrossProfit                                         170782000000  152836000000  \n",
       "ResearchAndDevelopmentExpense                        26251000000   21914000000  \n",
       "OperatingExpenses                                    51345000000   43887000000  \n",
       "OperatingIncomeLoss                                 119437000000  108949000000  \n",
       "InterestExpense                                       2931000000    2645000000  \n",
       "NonoperatingIncomeExpense                             -334000000     258000000  \n",
       "IncomeLossFromContinuingOperationsBeforeIncomeT...  119103000000  109207000000  \n",
       "IncomeTaxExpenseBenefit                              19300000000   14527000000  \n",
       "NetIncomeLoss                                        99803000000   94680000000  \n",
       "EarningsPerShareBasic                                       6.15          5.67  \n",
       "EarningsPerShareDiluted                                     6.11          5.61  \n",
       "WeightedAverageNumberOfSharesOutstandingBasic        16215963000   16701272000  \n",
       "WeightedAverageNumberOfDilutedSharesOutstanding      16325819000   16864919000  "
      ]
     },
     "execution_count": 17,
     "metadata": {},
     "output_type": "execute_result"
    }
   ],
   "source": [
    "tenk = Company(\"AAPL\").get_filings(form=\"10-K\").latest(1).obj()\n",
    "financials = tenk.financials\n",
    "income_statement_df = financials.income_statement.to_dataframe()\n",
    "income_statement_df"
   ]
  },
  {
   "cell_type": "code",
   "execution_count": null,
   "id": "c118a179",
   "metadata": {},
   "outputs": [],
   "source": []
  },
  {
   "cell_type": "code",
   "execution_count": null,
   "id": "f7063874",
   "metadata": {},
   "outputs": [],
   "source": []
  },
  {
   "cell_type": "code",
   "execution_count": 10,
   "id": "ef081010",
   "metadata": {},
   "outputs": [
    {
     "data": {
      "text/html": [
       "<pre style=\"white-space:pre;overflow-x:auto;line-height:normal;font-family:Menlo,'DejaVu Sans Mono',consolas,'Courier New',monospace\"></pre>\n"
      ],
      "text/plain": []
     },
     "metadata": {},
     "output_type": "display_data"
    },
    {
     "data": {
      "text/plain": [
       "\u001b[1;38;5;39m                                                Cashflow Statement                                                \u001b[0m\n",
       "                                                                                                                  \n",
       " \u001b[1m \u001b[0m\u001b[1m                                                     \u001b[0m\u001b[1m \u001b[0m \u001b[1m \u001b[0m\u001b[1m      2023-09-30\u001b[0m\u001b[1m \u001b[0m \u001b[1m \u001b[0m\u001b[1m      2022-09-24\u001b[0m\u001b[1m \u001b[0m \u001b[1m \u001b[0m\u001b[1m      2021-09-25\u001b[0m\u001b[1m \u001b[0m \n",
       " ━━━━━━━━━━━━━━━━━━━━━━━━━━━━━━━━━━━━━━━━━━━━━━━━━━━━━━━━━━━━━━━━━━━━━━━━━━━━━━━━━━━━━━━━━━━━━━━━━━━━━━━━━━━━━━━━ \n",
       "  \u001b[1;38;5;39mOPERATING ACTIVITIES:                                \u001b[0m                                                           \n",
       "    Net Income                                              96,995,000,000     99,803,000,000     94,680,000,000  \n",
       "    Depreciation and Amortization                           11,519,000,000     11,104,000,000     11,284,000,000  \n",
       "    Stock-based Compensation                                10,833,000,000      9,038,000,000      7,906,000,000  \n",
       "    Foreign Currency Transaction Gain/Loss                                                                        \n",
       "    Other Noncash Income/Expense                             2,227,000,000     -1,006,000,000      4,921,000,000  \n",
       "    Changes in Other Current Assets                                                                               \n",
       "    Changes in Accounts Payable                             -1,889,000,000      9,448,000,000     12,326,000,000  \n",
       "    Changes in Inventories                                   1,618,000,000     -1,484,000,000      2,642,000,000  \n",
       "    Changes in Deferred Revenue                                                                                   \n",
       "  \u001b[1;38;5;32m  Net Cash Provided by Operating Activities          \u001b[0m    110,543,000,000    122,151,000,000    104,038,000,000  \n",
       "                                                                                                                  \n",
       "  \u001b[1;38;5;39mINVESTING ACTIVITIES:                                \u001b[0m                                                           \n",
       "    Purchases of Marketable Securities                      29,513,000,000     76,923,000,000    109,558,000,000  \n",
       "    Proceeds from Maturities of Marketable Securities       39,686,000,000     29,917,000,000     59,023,000,000  \n",
       "    Proceeds from Sale of Marketable Securities              5,828,000,000     37,446,000,000     47,460,000,000  \n",
       "    Purchases of Property, Plant and Equipment              10,959,000,000     10,708,000,000     11,085,000,000  \n",
       "    Payments to Acquire Investments                                                                               \n",
       "    Payments to Acquire Businesses                                                                                \n",
       "    Deferred Revenue                                                                                              \n",
       "    Other Investing Activities                               1,337,000,000      2,086,000,000        385,000,000  \n",
       "  \u001b[1;38;5;32m  Net Cash Provided by Investing Activities          \u001b[0m      3,705,000,000    -22,354,000,000    -14,545,000,000  \n",
       "                                                                                                                  \n",
       "  \u001b[1;38;5;39mFINANCING ACTIVITIES:                                \u001b[0m                                                           \n",
       "    Payments of Tax for Share-based Compensation             5,431,000,000      6,223,000,000      6,556,000,000  \n",
       "    Dividends Paid                                          15,025,000,000     14,841,000,000     14,467,000,000  \n",
       "    Repurchases of Common Stock                             77,550,000,000     89,402,000,000     85,971,000,000  \n",
       "    Proceeds from Issuance of Common Stock                                                                        \n",
       "    Repayments of Long-term Debt                            11,151,000,000      9,543,000,000      8,750,000,000  \n",
       "  \u001b[1;38;5;32m  Net Cash Provided by Financing Activities          \u001b[0m   -108,488,000,000   -110,749,000,000    -93,353,000,000  \n",
       "                                                                                                                  \n",
       "  Changes in Cash, cash equivalents and restricted cash      5,760,000,000    -10,952,000,000     -3,860,000,000  \n",
       "  \u001b[1;38;5;32mCash, cash equivalents and restricted cash           \u001b[0m     30,737,000,000     24,977,000,000     35,929,000,000  \n",
       "                                                                                                                  "
      ]
     },
     "execution_count": 10,
     "metadata": {},
     "output_type": "execute_result"
    }
   ],
   "source": [
    "company.financials.cash_flow_statement"
   ]
  },
  {
   "cell_type": "code",
   "execution_count": 12,
   "id": "bc75cd30",
   "metadata": {},
   "outputs": [],
   "source": [
    "filings = get_filings(year=range(2010, 2020))"
   ]
  },
  {
   "cell_type": "code",
   "execution_count": 13,
   "id": "7e7e0134",
   "metadata": {},
   "outputs": [
    {
     "data": {
      "text/html": [
       "<div>\n",
       "<style scoped>\n",
       "    .dataframe tbody tr th:only-of-type {\n",
       "        vertical-align: middle;\n",
       "    }\n",
       "\n",
       "    .dataframe tbody tr th {\n",
       "        vertical-align: top;\n",
       "    }\n",
       "\n",
       "    .dataframe thead th {\n",
       "        text-align: right;\n",
       "    }\n",
       "</style>\n",
       "<table border=\"1\" class=\"dataframe\">\n",
       "  <thead>\n",
       "    <tr style=\"text-align: right;\">\n",
       "      <th></th>\n",
       "      <th>form</th>\n",
       "      <th>company</th>\n",
       "      <th>cik</th>\n",
       "      <th>filing_date</th>\n",
       "      <th>accession_number</th>\n",
       "    </tr>\n",
       "  </thead>\n",
       "  <tbody>\n",
       "    <tr>\n",
       "      <th>0</th>\n",
       "      <td>1-A/A</td>\n",
       "      <td>20/20 GeneSystems, Inc.</td>\n",
       "      <td>1139685</td>\n",
       "      <td>2019-12-31</td>\n",
       "      <td>0001213900-19-027270</td>\n",
       "    </tr>\n",
       "    <tr>\n",
       "      <th>1</th>\n",
       "      <td>1-A/A</td>\n",
       "      <td>Aqua Quest International, Inc.</td>\n",
       "      <td>1558636</td>\n",
       "      <td>2019-12-31</td>\n",
       "      <td>0001683168-19-004103</td>\n",
       "    </tr>\n",
       "    <tr>\n",
       "      <th>2</th>\n",
       "      <td>1-A/A</td>\n",
       "      <td>Green Stream Holdings Inc.</td>\n",
       "      <td>1437476</td>\n",
       "      <td>2019-12-31</td>\n",
       "      <td>0001213900-19-027274</td>\n",
       "    </tr>\n",
       "    <tr>\n",
       "      <th>3</th>\n",
       "      <td>1-A/A</td>\n",
       "      <td>Legion Capital Corp</td>\n",
       "      <td>1661166</td>\n",
       "      <td>2019-12-31</td>\n",
       "      <td>0001213900-19-027279</td>\n",
       "    </tr>\n",
       "    <tr>\n",
       "      <th>4</th>\n",
       "      <td>1-U</td>\n",
       "      <td>FUNDRISE REAL ESTATE INVESTMENT TRUST, LLC</td>\n",
       "      <td>1645583</td>\n",
       "      <td>2019-12-31</td>\n",
       "      <td>0001104659-19-077015</td>\n",
       "    </tr>\n",
       "    <tr>\n",
       "      <th>...</th>\n",
       "      <td>...</td>\n",
       "      <td>...</td>\n",
       "      <td>...</td>\n",
       "      <td>...</td>\n",
       "      <td>...</td>\n",
       "    </tr>\n",
       "    <tr>\n",
       "      <th>9743650</th>\n",
       "      <td>X-17A-5</td>\n",
       "      <td>MBSC SECURITIES CORPORATION</td>\n",
       "      <td>277871</td>\n",
       "      <td>2010-01-04</td>\n",
       "      <td>9999999997-10-000331</td>\n",
       "    </tr>\n",
       "    <tr>\n",
       "      <th>9743651</th>\n",
       "      <td>X-17A-5/A</td>\n",
       "      <td>AUSDAL FINANCIAL PARTNERS, INC.</td>\n",
       "      <td>314828</td>\n",
       "      <td>2010-01-04</td>\n",
       "      <td>9999999997-10-002673</td>\n",
       "    </tr>\n",
       "    <tr>\n",
       "      <th>9743652</th>\n",
       "      <td>X-17A-5/A</td>\n",
       "      <td>PENNMONT SECURITIES</td>\n",
       "      <td>700449</td>\n",
       "      <td>2010-01-04</td>\n",
       "      <td>9999999997-10-006123</td>\n",
       "    </tr>\n",
       "    <tr>\n",
       "      <th>9743653</th>\n",
       "      <td>UPLOAD</td>\n",
       "      <td>WELLS CORE OFFICE INCOME REIT INC</td>\n",
       "      <td>1256069</td>\n",
       "      <td>2010-01-03</td>\n",
       "      <td>0000000000-10-000016</td>\n",
       "    </tr>\n",
       "    <tr>\n",
       "      <th>9743654</th>\n",
       "      <td>UPLOAD</td>\n",
       "      <td>RIGHTNOW TECHNOLOGIES INC</td>\n",
       "      <td>1111247</td>\n",
       "      <td>2010-01-02</td>\n",
       "      <td>0000000000-10-000005</td>\n",
       "    </tr>\n",
       "  </tbody>\n",
       "</table>\n",
       "<p>9743655 rows × 5 columns</p>\n",
       "</div>"
      ],
      "text/plain": [
       "              form                                     company      cik  \\\n",
       "0            1-A/A                     20/20 GeneSystems, Inc.  1139685   \n",
       "1            1-A/A              Aqua Quest International, Inc.  1558636   \n",
       "2            1-A/A                  Green Stream Holdings Inc.  1437476   \n",
       "3            1-A/A                         Legion Capital Corp  1661166   \n",
       "4              1-U  FUNDRISE REAL ESTATE INVESTMENT TRUST, LLC  1645583   \n",
       "...            ...                                         ...      ...   \n",
       "9743650    X-17A-5                 MBSC SECURITIES CORPORATION   277871   \n",
       "9743651  X-17A-5/A             AUSDAL FINANCIAL PARTNERS, INC.   314828   \n",
       "9743652  X-17A-5/A                         PENNMONT SECURITIES   700449   \n",
       "9743653     UPLOAD           WELLS CORE OFFICE INCOME REIT INC  1256069   \n",
       "9743654     UPLOAD                   RIGHTNOW TECHNOLOGIES INC  1111247   \n",
       "\n",
       "        filing_date      accession_number  \n",
       "0        2019-12-31  0001213900-19-027270  \n",
       "1        2019-12-31  0001683168-19-004103  \n",
       "2        2019-12-31  0001213900-19-027274  \n",
       "3        2019-12-31  0001213900-19-027279  \n",
       "4        2019-12-31  0001104659-19-077015  \n",
       "...             ...                   ...  \n",
       "9743650  2010-01-04  9999999997-10-000331  \n",
       "9743651  2010-01-04  9999999997-10-002673  \n",
       "9743652  2010-01-04  9999999997-10-006123  \n",
       "9743653  2010-01-03  0000000000-10-000016  \n",
       "9743654  2010-01-02  0000000000-10-000005  \n",
       "\n",
       "[9743655 rows x 5 columns]"
      ]
     },
     "execution_count": 13,
     "metadata": {},
     "output_type": "execute_result"
    }
   ],
   "source": [
    "filings.to_pandas()"
   ]
  },
  {
   "cell_type": "code",
   "execution_count": 19,
   "id": "99879218",
   "metadata": {},
   "outputs": [
    {
     "name": "stdout",
     "output_type": "stream",
     "text": [
      "Collecting yfinance"
     ]
    },
    {
     "name": "stderr",
     "output_type": "stream",
     "text": [
      "WARNING: Ignoring invalid distribution ~rllib3 (C:\\Users\\risha\\AppData\\Roaming\\Python\\Python311\\site-packages)\n",
      "WARNING: Ignoring invalid distribution ~rllib3 (C:\\Users\\risha\\AppData\\Roaming\\Python\\Python311\\site-packages)\n",
      "WARNING: Ignoring invalid distribution ~rllib3 (C:\\Users\\risha\\AppData\\Roaming\\Python\\Python311\\site-packages)\n",
      "ERROR: pip's dependency resolver does not currently take into account all the packages that are installed. This behaviour is the source of the following dependency conflicts.\n",
      "conda-repo-cli 1.0.75 requires requests_mock, which is not installed.\n",
      "anaconda-client 1.12.3 requires platformdirs<5.0,>=3.10.0, but you have platformdirs 3.9.1 which is incompatible.\n",
      "botocore 1.31.64 requires urllib3<2.1,>=1.25.4; python_version >= \"3.10\", but you have urllib3 2.2.1 which is incompatible.\n",
      "conda 24.4.0 requires platformdirs>=3.10.0, but you have platformdirs 3.9.1 which is incompatible.\n",
      "conda-build 24.1.2 requires jsonschema>=4.19, but you have jsonschema 4.18.4 which is incompatible.\n",
      "conda-repo-cli 1.0.75 requires clyent==1.2.1, but you have clyent 1.2.2 which is incompatible.\n",
      "WARNING: Ignoring invalid distribution ~rllib3 (C:\\Users\\risha\\AppData\\Roaming\\Python\\Python311\\site-packages)\n",
      "WARNING: Ignoring invalid distribution ~rllib3 (C:\\Users\\risha\\AppData\\Roaming\\Python\\Python311\\site-packages)\n",
      "WARNING: Ignoring invalid distribution ~rllib3 (C:\\Users\\risha\\AppData\\Roaming\\Python\\Python311\\site-packages)\n"
     ]
    },
    {
     "name": "stdout",
     "output_type": "stream",
     "text": [
      "\n",
      "  Downloading yfinance-0.2.38-py2.py3-none-any.whl.metadata (11 kB)\n",
      "Requirement already satisfied: pandas>=1.3.0 in c:\\users\\risha\\anaconda3\\lib\\site-packages (from yfinance) (2.1.4)\n",
      "Requirement already satisfied: numpy>=1.16.5 in c:\\users\\risha\\anaconda3\\lib\\site-packages (from yfinance) (1.26.4)\n",
      "Requirement already satisfied: requests>=2.31 in c:\\users\\risha\\appdata\\roaming\\python\\python311\\site-packages (from yfinance) (2.31.0)\n",
      "Collecting multitasking>=0.0.7 (from yfinance)\n",
      "  Downloading multitasking-0.0.11-py3-none-any.whl.metadata (5.5 kB)\n",
      "Requirement already satisfied: lxml>=4.9.1 in c:\\users\\risha\\anaconda3\\lib\\site-packages (from yfinance) (4.9.3)\n",
      "Requirement already satisfied: appdirs>=1.4.4 in c:\\users\\risha\\anaconda3\\lib\\site-packages (from yfinance) (1.4.4)\n",
      "Requirement already satisfied: pytz>=2022.5 in c:\\users\\risha\\anaconda3\\lib\\site-packages (from yfinance) (2023.3.post1)\n",
      "Collecting frozendict>=2.3.4 (from yfinance)\n",
      "  Downloading frozendict-2.4.3.tar.gz (315 kB)\n",
      "     ---------------------------------------- 0.0/316.0 kB ? eta -:--:--\n",
      "     ---- -------------------------------- 41.0/316.0 kB 991.0 kB/s eta 0:00:01\n",
      "     ------------ ------------------------- 102.4/316.0 kB 1.2 MB/s eta 0:00:01\n",
      "     ---------------------------- --------- 235.5/316.0 kB 2.0 MB/s eta 0:00:01\n",
      "     -------------------------------------- 316.0/316.0 kB 2.2 MB/s eta 0:00:00\n",
      "  Installing build dependencies: started\n",
      "  Installing build dependencies: finished with status 'done'\n",
      "  Getting requirements to build wheel: started\n",
      "  Getting requirements to build wheel: finished with status 'done'\n",
      "  Preparing metadata (pyproject.toml): started\n",
      "  Preparing metadata (pyproject.toml): finished with status 'done'\n",
      "Collecting peewee>=3.16.2 (from yfinance)\n",
      "  Downloading peewee-3.17.3.tar.gz (3.0 MB)\n",
      "     ---------------------------------------- 0.0/3.0 MB ? eta -:--:--\n",
      "     - -------------------------------------- 0.1/3.0 MB 4.0 MB/s eta 0:00:01\n",
      "     ------- -------------------------------- 0.6/3.0 MB 9.1 MB/s eta 0:00:01\n",
      "     ----------------- ---------------------- 1.3/3.0 MB 11.5 MB/s eta 0:00:01\n",
      "     ----------------------------------- ---- 2.6/3.0 MB 16.7 MB/s eta 0:00:01\n",
      "     ---------------------------------------- 3.0/3.0 MB 15.7 MB/s eta 0:00:00\n",
      "  Installing build dependencies: started\n",
      "  Installing build dependencies: finished with status 'done'\n",
      "  Getting requirements to build wheel: started\n",
      "  Getting requirements to build wheel: finished with status 'done'\n",
      "  Preparing metadata (pyproject.toml): started\n",
      "  Preparing metadata (pyproject.toml): finished with status 'done'\n",
      "Requirement already satisfied: beautifulsoup4>=4.11.1 in c:\\users\\risha\\appdata\\roaming\\python\\python311\\site-packages (from yfinance) (4.12.2)\n",
      "Collecting html5lib>=1.1 (from yfinance)\n",
      "  Downloading html5lib-1.1-py2.py3-none-any.whl.metadata (16 kB)\n",
      "Requirement already satisfied: soupsieve>1.2 in c:\\users\\risha\\appdata\\roaming\\python\\python311\\site-packages (from beautifulsoup4>=4.11.1->yfinance) (2.4.1)\n",
      "Requirement already satisfied: six>=1.9 in c:\\users\\risha\\appdata\\roaming\\python\\python311\\site-packages (from html5lib>=1.1->yfinance) (1.16.0)\n",
      "Requirement already satisfied: webencodings in c:\\users\\risha\\appdata\\roaming\\python\\python311\\site-packages (from html5lib>=1.1->yfinance) (0.5.1)\n",
      "Requirement already satisfied: python-dateutil>=2.8.2 in c:\\users\\risha\\appdata\\roaming\\python\\python311\\site-packages (from pandas>=1.3.0->yfinance) (2.8.2)\n",
      "Requirement already satisfied: tzdata>=2022.1 in c:\\users\\risha\\anaconda3\\lib\\site-packages (from pandas>=1.3.0->yfinance) (2023.3)\n",
      "Requirement already satisfied: charset-normalizer<4,>=2 in c:\\users\\risha\\anaconda3\\lib\\site-packages (from requests>=2.31->yfinance) (3.3.2)\n",
      "Requirement already satisfied: idna<4,>=2.5 in c:\\users\\risha\\appdata\\roaming\\python\\python311\\site-packages (from requests>=2.31->yfinance) (3.4)\n",
      "Collecting urllib3<3,>=1.21.1 (from requests>=2.31->yfinance)\n",
      "  Using cached urllib3-2.2.1-py3-none-any.whl.metadata (6.4 kB)\n",
      "Requirement already satisfied: certifi>=2017.4.17 in c:\\users\\risha\\appdata\\roaming\\python\\python311\\site-packages (from requests>=2.31->yfinance) (2023.7.22)\n",
      "Downloading yfinance-0.2.38-py2.py3-none-any.whl (72 kB)\n",
      "   ---------------------------------------- 0.0/73.0 kB ? eta -:--:--\n",
      "   ---------------------------------------- 73.0/73.0 kB 3.9 MB/s eta 0:00:00\n",
      "Downloading html5lib-1.1-py2.py3-none-any.whl (112 kB)\n",
      "   ---------------------------------------- 0.0/112.2 kB ? eta -:--:--\n",
      "   ---------------------------------------- 112.2/112.2 kB 6.8 MB/s eta 0:00:00\n",
      "Downloading multitasking-0.0.11-py3-none-any.whl (8.5 kB)\n",
      "Using cached urllib3-2.2.1-py3-none-any.whl (121 kB)\n",
      "Building wheels for collected packages: frozendict, peewee\n",
      "  Building wheel for frozendict (pyproject.toml): started\n",
      "  Building wheel for frozendict (pyproject.toml): finished with status 'done'\n",
      "  Created wheel for frozendict: filename=frozendict-2.4.3-cp311-cp311-win_amd64.whl size=16068 sha256=1424fbde738b23865cfe13d079999d15fc434a42b962b7b798899d8e6547958e\n",
      "  Stored in directory: c:\\users\\risha\\appdata\\local\\pip\\cache\\wheels\\e9\\0d\\6a\\7c254cc5688827bffc138a55a13bf6fd7b68b6035864f9cfdb\n",
      "  Building wheel for peewee (pyproject.toml): started\n",
      "  Building wheel for peewee (pyproject.toml): finished with status 'done'\n",
      "  Created wheel for peewee: filename=peewee-3.17.3-py3-none-any.whl size=138453 sha256=c90fa17e93f9d1360b2e72831efce76d85c11756785e56bca86a53e41ce82ec6\n",
      "  Stored in directory: c:\\users\\risha\\appdata\\local\\pip\\cache\\wheels\\3e\\3d\\30\\a54ad8c2307aa653f234a6f651ab12fbc5cfbb3f383145ab6a\n",
      "Successfully built frozendict peewee\n",
      "Installing collected packages: peewee, multitasking, urllib3, html5lib, frozendict, yfinance\n",
      "Successfully installed frozendict-2.4.3 html5lib-1.1 multitasking-0.0.11 peewee-3.17.3 urllib3-2.0.7 yfinance-0.2.38\n"
     ]
    }
   ],
   "source": [
    "!pip install yfinance"
   ]
  },
  {
   "cell_type": "code",
   "execution_count": 27,
   "id": "bdea4a49",
   "metadata": {},
   "outputs": [
    {
     "data": {
      "text/html": [
       "<pre style=\"white-space:pre;overflow-x:auto;line-height:normal;font-family:Menlo,'DejaVu Sans Mono',consolas,'Courier New',monospace\"></pre>\n"
      ],
      "text/plain": []
     },
     "metadata": {},
     "output_type": "display_data"
    },
    {
     "data": {
      "text/plain": [
       "╭──────────────────────────────────────── Filings for Apple Inc. [320193] ────────────────────────────────────────╮\n",
       "│                                                                                                                 │\n",
       "│  \u001b[1m \u001b[0m\u001b[1m  \u001b[0m\u001b[1m \u001b[0m \u001b[1;38;5;71m \u001b[0m\u001b[1;38;5;71mform\u001b[0m\u001b[1;38;5;71m \u001b[0m \u001b[1;38;5;39m \u001b[0m\u001b[1;38;5;39mfiled     \u001b[0m\u001b[1;38;5;39m \u001b[0m \u001b[1m \u001b[0m\u001b[1maccession_number    \u001b[0m\u001b[1m \u001b[0m \u001b[1m \u001b[0m\u001b[1mxbrl\u001b[0m\u001b[1m \u001b[0m                                                         │\n",
       "│  ──────────────────────────────────────────────────────                                                         │\n",
       "│  \u001b[1m \u001b[0m\u001b[1m0 \u001b[0m\u001b[1m \u001b[0m \u001b[1;38;5;71m \u001b[0m\u001b[1;38;5;71m10-K\u001b[0m\u001b[1;38;5;71m \u001b[0m \u001b[1;38;5;39m \u001b[0m\u001b[1;38;5;39m2023-11-03\u001b[0m\u001b[1;38;5;39m \u001b[0m \u001b[1m \u001b[0m\u001b[1m0000320193-23-000106\u001b[0m\u001b[1m \u001b[0m \u001b[1m \u001b[0m\u001b[1m✓   \u001b[0m\u001b[1m \u001b[0m                                                         │\n",
       "│   1   \u001b[38;5;71m \u001b[0m\u001b[38;5;71m10-K\u001b[0m\u001b[38;5;71m \u001b[0m \u001b[38;5;39m \u001b[0m\u001b[38;5;39m2022-10-28\u001b[0m\u001b[38;5;39m \u001b[0m  0000320193-22-000108   ✓                                                             │\n",
       "│  \u001b[1m \u001b[0m\u001b[1m2 \u001b[0m\u001b[1m \u001b[0m \u001b[1;38;5;71m \u001b[0m\u001b[1;38;5;71m10-K\u001b[0m\u001b[1;38;5;71m \u001b[0m \u001b[1;38;5;39m \u001b[0m\u001b[1;38;5;39m2021-10-29\u001b[0m\u001b[1;38;5;39m \u001b[0m \u001b[1m \u001b[0m\u001b[1m0000320193-21-000105\u001b[0m\u001b[1m \u001b[0m \u001b[1m \u001b[0m\u001b[1m✓   \u001b[0m\u001b[1m \u001b[0m                                                         │\n",
       "│   3   \u001b[38;5;71m \u001b[0m\u001b[38;5;71m10-K\u001b[0m\u001b[38;5;71m \u001b[0m \u001b[38;5;39m \u001b[0m\u001b[38;5;39m2020-10-30\u001b[0m\u001b[38;5;39m \u001b[0m  0000320193-20-000096   ✓                                                             │\n",
       "│  \u001b[1m \u001b[0m\u001b[1m4 \u001b[0m\u001b[1m \u001b[0m \u001b[1;38;5;71m \u001b[0m\u001b[1;38;5;71m10-K\u001b[0m\u001b[1;38;5;71m \u001b[0m \u001b[1;38;5;39m \u001b[0m\u001b[1;38;5;39m2019-10-31\u001b[0m\u001b[1;38;5;39m \u001b[0m \u001b[1m \u001b[0m\u001b[1m0000320193-19-000119\u001b[0m\u001b[1m \u001b[0m \u001b[1m \u001b[0m\u001b[1m✓   \u001b[0m\u001b[1m \u001b[0m                                                         │\n",
       "│   5   \u001b[38;5;71m \u001b[0m\u001b[38;5;71m10-K\u001b[0m\u001b[38;5;71m \u001b[0m \u001b[38;5;39m \u001b[0m\u001b[38;5;39m2018-11-05\u001b[0m\u001b[38;5;39m \u001b[0m  0000320193-18-000145   ✓                                                             │\n",
       "│  \u001b[1m \u001b[0m\u001b[1m6 \u001b[0m\u001b[1m \u001b[0m \u001b[1;38;5;71m \u001b[0m\u001b[1;38;5;71m10-K\u001b[0m\u001b[1;38;5;71m \u001b[0m \u001b[1;38;5;39m \u001b[0m\u001b[1;38;5;39m2017-11-03\u001b[0m\u001b[1;38;5;39m \u001b[0m \u001b[1m \u001b[0m\u001b[1m0000320193-17-000070\u001b[0m\u001b[1m \u001b[0m \u001b[1m \u001b[0m\u001b[1m✓   \u001b[0m\u001b[1m \u001b[0m                                                         │\n",
       "│   7   \u001b[38;5;71m \u001b[0m\u001b[38;5;71m10-K\u001b[0m\u001b[38;5;71m \u001b[0m \u001b[38;5;39m \u001b[0m\u001b[38;5;39m2016-10-26\u001b[0m\u001b[38;5;39m \u001b[0m  0001628280-16-020309   ✓                                                             │\n",
       "│  \u001b[1m \u001b[0m\u001b[1m8 \u001b[0m\u001b[1m \u001b[0m \u001b[1;38;5;71m \u001b[0m\u001b[1;38;5;71m10-K\u001b[0m\u001b[1;38;5;71m \u001b[0m \u001b[1;38;5;39m \u001b[0m\u001b[1;38;5;39m2015-10-28\u001b[0m\u001b[1;38;5;39m \u001b[0m \u001b[1m \u001b[0m\u001b[1m0001193125-15-356351\u001b[0m\u001b[1m \u001b[0m \u001b[1m \u001b[0m\u001b[1m✓   \u001b[0m\u001b[1m \u001b[0m                                                         │\n",
       "│   9   \u001b[38;5;71m \u001b[0m\u001b[38;5;71m10-K\u001b[0m\u001b[38;5;71m \u001b[0m \u001b[38;5;39m \u001b[0m\u001b[38;5;39m2014-10-27\u001b[0m\u001b[38;5;39m \u001b[0m  0001193125-14-383437   ✓                                                             │\n",
       "│  \u001b[1m \u001b[0m\u001b[1m10\u001b[0m\u001b[1m \u001b[0m \u001b[1;38;5;71m \u001b[0m\u001b[1;38;5;71m10-K\u001b[0m\u001b[1;38;5;71m \u001b[0m \u001b[1;38;5;39m \u001b[0m\u001b[1;38;5;39m2013-10-30\u001b[0m\u001b[1;38;5;39m \u001b[0m \u001b[1m \u001b[0m\u001b[1m0001193125-13-416534\u001b[0m\u001b[1m \u001b[0m \u001b[1m \u001b[0m\u001b[1m✓   \u001b[0m\u001b[1m \u001b[0m                                                         │\n",
       "│   11  \u001b[38;5;71m \u001b[0m\u001b[38;5;71m10-K\u001b[0m\u001b[38;5;71m \u001b[0m \u001b[38;5;39m \u001b[0m\u001b[38;5;39m2012-10-31\u001b[0m\u001b[38;5;39m \u001b[0m  0001193125-12-444068   ✓                                                             │\n",
       "│  \u001b[1m \u001b[0m\u001b[1m12\u001b[0m\u001b[1m \u001b[0m \u001b[1;38;5;71m \u001b[0m\u001b[1;38;5;71m10-K\u001b[0m\u001b[1;38;5;71m \u001b[0m \u001b[1;38;5;39m \u001b[0m\u001b[1;38;5;39m2011-10-26\u001b[0m\u001b[1;38;5;39m \u001b[0m \u001b[1m \u001b[0m\u001b[1m0001193125-11-282113\u001b[0m\u001b[1m \u001b[0m \u001b[1m \u001b[0m\u001b[1m✓   \u001b[0m\u001b[1m \u001b[0m                                                         │\n",
       "│   13  \u001b[38;5;71m \u001b[0m\u001b[38;5;71m10-K\u001b[0m\u001b[38;5;71m \u001b[0m \u001b[38;5;39m \u001b[0m\u001b[38;5;39m2010-10-27\u001b[0m\u001b[38;5;39m \u001b[0m  0001193125-10-238044   ✓                                                             │\n",
       "│  \u001b[1m \u001b[0m\u001b[1m14\u001b[0m\u001b[1m \u001b[0m \u001b[1;38;5;71m \u001b[0m\u001b[1;38;5;71m10-K\u001b[0m\u001b[1;38;5;71m \u001b[0m \u001b[1;38;5;39m \u001b[0m\u001b[1;38;5;39m2009-10-27\u001b[0m\u001b[1;38;5;39m \u001b[0m \u001b[1m \u001b[0m\u001b[1m0001193125-09-214859\u001b[0m\u001b[1m \u001b[0m \u001b[1m \u001b[0m\u001b[1m✓   \u001b[0m\u001b[1m \u001b[0m                                                         │\n",
       "│   15  \u001b[38;5;71m \u001b[0m\u001b[38;5;71m10-K\u001b[0m\u001b[38;5;71m \u001b[0m \u001b[38;5;39m \u001b[0m\u001b[38;5;39m2008-11-05\u001b[0m\u001b[38;5;39m \u001b[0m  0001193125-08-224958                                                                 │\n",
       "│  \u001b[1m \u001b[0m\u001b[1m16\u001b[0m\u001b[1m \u001b[0m \u001b[1;38;5;71m \u001b[0m\u001b[1;38;5;71m10-K\u001b[0m\u001b[1;38;5;71m \u001b[0m \u001b[1;38;5;39m \u001b[0m\u001b[1;38;5;39m2007-11-15\u001b[0m\u001b[1;38;5;39m \u001b[0m \u001b[1m \u001b[0m\u001b[1m0001047469-07-009340\u001b[0m\u001b[1m \u001b[0m \u001b[1m \u001b[0m\u001b[1m    \u001b[0m\u001b[1m \u001b[0m                                                         │\n",
       "│   17  \u001b[38;5;71m \u001b[0m\u001b[38;5;71m10-K\u001b[0m\u001b[38;5;71m \u001b[0m \u001b[38;5;39m \u001b[0m\u001b[38;5;39m2006-12-29\u001b[0m\u001b[38;5;39m \u001b[0m  0001104659-06-084288                                                                 │\n",
       "│  \u001b[1m \u001b[0m\u001b[1m18\u001b[0m\u001b[1m \u001b[0m \u001b[1;38;5;71m \u001b[0m\u001b[1;38;5;71m10-K\u001b[0m\u001b[1;38;5;71m \u001b[0m \u001b[1;38;5;39m \u001b[0m\u001b[1;38;5;39m2005-12-01\u001b[0m\u001b[1;38;5;39m \u001b[0m \u001b[1m \u001b[0m\u001b[1m0001104659-05-058421\u001b[0m\u001b[1m \u001b[0m \u001b[1m \u001b[0m\u001b[1m    \u001b[0m\u001b[1m \u001b[0m                                                         │\n",
       "│   19  \u001b[38;5;71m \u001b[0m\u001b[38;5;71m10-K\u001b[0m\u001b[38;5;71m \u001b[0m \u001b[38;5;39m \u001b[0m\u001b[38;5;39m2004-12-03\u001b[0m\u001b[38;5;39m \u001b[0m  0001047469-04-035975                                                                 │\n",
       "│  \u001b[1m \u001b[0m\u001b[1m20\u001b[0m\u001b[1m \u001b[0m \u001b[1;38;5;71m \u001b[0m\u001b[1;38;5;71m10-K\u001b[0m\u001b[1;38;5;71m \u001b[0m \u001b[1;38;5;39m \u001b[0m\u001b[1;38;5;39m2003-12-19\u001b[0m\u001b[1;38;5;39m \u001b[0m \u001b[1m \u001b[0m\u001b[1m0001047469-03-041604\u001b[0m\u001b[1m \u001b[0m \u001b[1m \u001b[0m\u001b[1m    \u001b[0m\u001b[1m \u001b[0m                                                         │\n",
       "│   21  \u001b[38;5;71m \u001b[0m\u001b[38;5;71m10-K\u001b[0m\u001b[38;5;71m \u001b[0m \u001b[38;5;39m \u001b[0m\u001b[38;5;39m2002-12-19\u001b[0m\u001b[38;5;39m \u001b[0m  0001047469-02-007674                                                                 │\n",
       "│  \u001b[1m \u001b[0m\u001b[1m22\u001b[0m\u001b[1m \u001b[0m \u001b[1;38;5;71m \u001b[0m\u001b[1;38;5;71m10-K\u001b[0m\u001b[1;38;5;71m \u001b[0m \u001b[1;38;5;39m \u001b[0m\u001b[1;38;5;39m2000-12-14\u001b[0m\u001b[1;38;5;39m \u001b[0m \u001b[1m \u001b[0m\u001b[1m0000912057-00-053623\u001b[0m\u001b[1m \u001b[0m \u001b[1m \u001b[0m\u001b[1m    \u001b[0m\u001b[1m \u001b[0m                                                         │\n",
       "│   23  \u001b[38;5;71m \u001b[0m\u001b[38;5;71m10-K\u001b[0m\u001b[38;5;71m \u001b[0m \u001b[38;5;39m \u001b[0m\u001b[38;5;39m1999-12-22\u001b[0m\u001b[38;5;39m \u001b[0m  0000912057-99-010244                                                                 │\n",
       "│  \u001b[1m \u001b[0m\u001b[1m24\u001b[0m\u001b[1m \u001b[0m \u001b[1;38;5;71m \u001b[0m\u001b[1;38;5;71m10-K\u001b[0m\u001b[1;38;5;71m \u001b[0m \u001b[1;38;5;39m \u001b[0m\u001b[1;38;5;39m1997-12-05\u001b[0m\u001b[1;38;5;39m \u001b[0m \u001b[1m \u001b[0m\u001b[1m0001047469-97-006960\u001b[0m\u001b[1m \u001b[0m \u001b[1m \u001b[0m\u001b[1m    \u001b[0m\u001b[1m \u001b[0m                                                         │\n",
       "│   25  \u001b[38;5;71m \u001b[0m\u001b[38;5;71m10-K\u001b[0m\u001b[38;5;71m \u001b[0m \u001b[38;5;39m \u001b[0m\u001b[38;5;39m1996-12-19\u001b[0m\u001b[38;5;39m \u001b[0m  0000320193-96-000023                                                                 │\n",
       "│  \u001b[1m \u001b[0m\u001b[1m26\u001b[0m\u001b[1m \u001b[0m \u001b[1;38;5;71m \u001b[0m\u001b[1;38;5;71m10-K\u001b[0m\u001b[1;38;5;71m \u001b[0m \u001b[1;38;5;39m \u001b[0m\u001b[1;38;5;39m1995-12-19\u001b[0m\u001b[1;38;5;39m \u001b[0m \u001b[1m \u001b[0m\u001b[1m0000320193-95-000016\u001b[0m\u001b[1m \u001b[0m \u001b[1m \u001b[0m\u001b[1m    \u001b[0m\u001b[1m \u001b[0m                                                         │\n",
       "│   27  \u001b[38;5;71m \u001b[0m\u001b[38;5;71m10-K\u001b[0m\u001b[38;5;71m \u001b[0m \u001b[38;5;39m \u001b[0m\u001b[38;5;39m1994-12-13\u001b[0m\u001b[38;5;39m \u001b[0m  0000320193-94-000016                                                                 │\n",
       "│                                                                                                                 │\n",
       "│ Showing 28 filings of 28 total                                                                                  │\n",
       "╰─────────────────────────────────────────────────────────────────────────────────────────────────────────────────╯"
      ]
     },
     "execution_count": 27,
     "metadata": {},
     "output_type": "execute_result"
    }
   ],
   "source": [
    "company = Company(\"AAPL\")\n",
    "filings = get_filings(2020)\n",
    "company.get_filings(form=\"10-K\")"
   ]
  },
  {
   "cell_type": "code",
   "execution_count": 28,
   "id": "4d349b27",
   "metadata": {},
   "outputs": [
    {
     "data": {
      "text/html": [
       "<pre style=\"white-space:pre;overflow-x:auto;line-height:normal;font-family:Menlo,'DejaVu Sans Mono',consolas,'Courier New',monospace\"></pre>\n"
      ],
      "text/plain": []
     },
     "metadata": {},
     "output_type": "display_data"
    },
    {
     "data": {
      "text/plain": [
       "╭───────────────────────────── Company Facts(Apple Inc. [320193] 22,577 total facts) ─────────────────────────────╮\n",
       "│                                                                                                                 │\n",
       "│  \u001b[1m \u001b[0m\u001b[1m     \u001b[0m\u001b[1m \u001b[0m \u001b[1m \u001b[0m\u001b[1mnamesp…\u001b[0m\u001b[1m \u001b[0m \u001b[1;38;5;39m \u001b[0m\u001b[1;38;5;39mfact   \u001b[0m\u001b[1;38;5;39m \u001b[0m \u001b[1m \u001b[0m\u001b[1mval    \u001b[0m\u001b[1m \u001b[0m \u001b[1m \u001b[0m\u001b[1maccn   \u001b[0m\u001b[1m \u001b[0m \u001b[1m \u001b[0m\u001b[1mend    \u001b[0m\u001b[1m \u001b[0m \u001b[1m \u001b[0m\u001b[1mfy  \u001b[0m\u001b[1m \u001b[0m \u001b[1m \u001b[0m\u001b[1mfp \u001b[0m\u001b[1m \u001b[0m \u001b[1;38;5;71m \u001b[0m\u001b[1;38;5;71mform  \u001b[0m\u001b[1;38;5;71m \u001b[0m \u001b[1;38;5;39m \u001b[0m\u001b[1;38;5;39mfiled  \u001b[0m\u001b[1;38;5;39m \u001b[0m \u001b[1m \u001b[0m\u001b[1mframe  \u001b[0m\u001b[1m \u001b[0m \u001b[1m \u001b[0m\u001b[1mstart  \u001b[0m\u001b[1m \u001b[0m  │\n",
       "│  ─────────────────────────────────────────────────────────────────────────────────────────────────────────────  │\n",
       "│  \u001b[1m \u001b[0m\u001b[1m0    \u001b[0m\u001b[1m \u001b[0m \u001b[1m \u001b[0m\u001b[1mdei    \u001b[0m\u001b[1m \u001b[0m \u001b[1;38;5;39m \u001b[0m\u001b[1;38;5;39mEntity…\u001b[0m\u001b[1;38;5;39m \u001b[0m \u001b[1m \u001b[0m\u001b[1m895816…\u001b[0m\u001b[1m \u001b[0m \u001b[1m \u001b[0m\u001b[1m000119…\u001b[0m\u001b[1m \u001b[0m \u001b[1m \u001b[0m\u001b[1m2009-0…\u001b[0m\u001b[1m \u001b[0m \u001b[1m \u001b[0m\u001b[1m2009\u001b[0m\u001b[1m \u001b[0m \u001b[1m \u001b[0m\u001b[1mQ3 \u001b[0m\u001b[1m \u001b[0m \u001b[1;38;5;71m \u001b[0m\u001b[1;38;5;71m10-Q  \u001b[0m\u001b[1;38;5;71m \u001b[0m \u001b[1;38;5;39m \u001b[0m\u001b[1;38;5;39m2009-0…\u001b[0m\u001b[1;38;5;39m \u001b[0m \u001b[1m \u001b[0m\u001b[1mCY2009…\u001b[0m\u001b[1m \u001b[0m \u001b[1m \u001b[0m\u001b[1mNone   \u001b[0m\u001b[1m \u001b[0m  │\n",
       "│   1       dei      \u001b[38;5;39m \u001b[0m\u001b[38;5;39mEntity…\u001b[0m\u001b[38;5;39m \u001b[0m  900678…   000119…   2009-1…   2009   FY   \u001b[38;5;71m \u001b[0m\u001b[38;5;71m10-K  \u001b[0m\u001b[38;5;71m \u001b[0m \u001b[38;5;39m \u001b[0m\u001b[38;5;39m2009-1…\u001b[0m\u001b[38;5;39m \u001b[0m  None      None      │\n",
       "│  \u001b[1m \u001b[0m\u001b[1m2    \u001b[0m\u001b[1m \u001b[0m \u001b[1m \u001b[0m\u001b[1mdei    \u001b[0m\u001b[1m \u001b[0m \u001b[1;38;5;39m \u001b[0m\u001b[1;38;5;39mEntity…\u001b[0m\u001b[1;38;5;39m \u001b[0m \u001b[1m \u001b[0m\u001b[1m900678…\u001b[0m\u001b[1m \u001b[0m \u001b[1m \u001b[0m\u001b[1m000119…\u001b[0m\u001b[1m \u001b[0m \u001b[1m \u001b[0m\u001b[1m2009-1…\u001b[0m\u001b[1m \u001b[0m \u001b[1m \u001b[0m\u001b[1m2009\u001b[0m\u001b[1m \u001b[0m \u001b[1m \u001b[0m\u001b[1mFY \u001b[0m\u001b[1m \u001b[0m \u001b[1;38;5;71m \u001b[0m\u001b[1;38;5;71m10-K/A\u001b[0m\u001b[1;38;5;71m \u001b[0m \u001b[1;38;5;39m \u001b[0m\u001b[1;38;5;39m2010-0…\u001b[0m\u001b[1;38;5;39m \u001b[0m \u001b[1m \u001b[0m\u001b[1mCY2009…\u001b[0m\u001b[1m \u001b[0m \u001b[1m \u001b[0m\u001b[1mNone   \u001b[0m\u001b[1m \u001b[0m  │\n",
       "│   3       dei      \u001b[38;5;39m \u001b[0m\u001b[38;5;39mEntity…\u001b[0m\u001b[38;5;39m \u001b[0m  906794…   000119…   2010-0…   2010   Q1   \u001b[38;5;71m \u001b[0m\u001b[38;5;71m10-Q  \u001b[0m\u001b[38;5;71m \u001b[0m \u001b[38;5;39m \u001b[0m\u001b[38;5;39m2010-0…\u001b[0m\u001b[38;5;39m \u001b[0m  CY2009…   None      │\n",
       "│  \u001b[1m \u001b[0m\u001b[1m4    \u001b[0m\u001b[1m \u001b[0m \u001b[1m \u001b[0m\u001b[1mdei    \u001b[0m\u001b[1m \u001b[0m \u001b[1;38;5;39m \u001b[0m\u001b[1;38;5;39mEntity…\u001b[0m\u001b[1;38;5;39m \u001b[0m \u001b[1m \u001b[0m\u001b[1m909938…\u001b[0m\u001b[1m \u001b[0m \u001b[1m \u001b[0m\u001b[1m000119…\u001b[0m\u001b[1m \u001b[0m \u001b[1m \u001b[0m\u001b[1m2010-0…\u001b[0m\u001b[1m \u001b[0m \u001b[1m \u001b[0m\u001b[1m2010\u001b[0m\u001b[1m \u001b[0m \u001b[1m \u001b[0m\u001b[1mQ2 \u001b[0m\u001b[1m \u001b[0m \u001b[1;38;5;71m \u001b[0m\u001b[1;38;5;71m10-Q  \u001b[0m\u001b[1;38;5;71m \u001b[0m \u001b[1;38;5;39m \u001b[0m\u001b[1;38;5;39m2010-0…\u001b[0m\u001b[1;38;5;39m \u001b[0m \u001b[1m \u001b[0m\u001b[1mCY2010…\u001b[0m\u001b[1m \u001b[0m \u001b[1m \u001b[0m\u001b[1mNone   \u001b[0m\u001b[1m \u001b[0m  │\n",
       "│   5       dei      \u001b[38;5;39m \u001b[0m\u001b[38;5;39mEntity…\u001b[0m\u001b[38;5;39m \u001b[0m  913562…   000119…   2010-0…   2010   Q3   \u001b[38;5;71m \u001b[0m\u001b[38;5;71m10-Q  \u001b[0m\u001b[38;5;71m \u001b[0m \u001b[38;5;39m \u001b[0m\u001b[38;5;39m2010-0…\u001b[0m\u001b[38;5;39m \u001b[0m  CY2010…   None      │\n",
       "│  \u001b[1m \u001b[0m\u001b[1m6    \u001b[0m\u001b[1m \u001b[0m \u001b[1m \u001b[0m\u001b[1mdei    \u001b[0m\u001b[1m \u001b[0m \u001b[1;38;5;39m \u001b[0m\u001b[1;38;5;39mEntity…\u001b[0m\u001b[1;38;5;39m \u001b[0m \u001b[1m \u001b[0m\u001b[1m917307…\u001b[0m\u001b[1m \u001b[0m \u001b[1m \u001b[0m\u001b[1m000119…\u001b[0m\u001b[1m \u001b[0m \u001b[1m \u001b[0m\u001b[1m2010-1…\u001b[0m\u001b[1m \u001b[0m \u001b[1m \u001b[0m\u001b[1m2010\u001b[0m\u001b[1m \u001b[0m \u001b[1m \u001b[0m\u001b[1mFY \u001b[0m\u001b[1m \u001b[0m \u001b[1;38;5;71m \u001b[0m\u001b[1;38;5;71m10-K  \u001b[0m\u001b[1;38;5;71m \u001b[0m \u001b[1;38;5;39m \u001b[0m\u001b[1;38;5;39m2010-1…\u001b[0m\u001b[1;38;5;39m \u001b[0m \u001b[1m \u001b[0m\u001b[1mCY2010…\u001b[0m\u001b[1m \u001b[0m \u001b[1m \u001b[0m\u001b[1mNone   \u001b[0m\u001b[1m \u001b[0m  │\n",
       "│   7       dei      \u001b[38;5;39m \u001b[0m\u001b[38;5;39mEntity…\u001b[0m\u001b[38;5;39m \u001b[0m  921278…   000119…   2011-0…   2011   Q1   \u001b[38;5;71m \u001b[0m\u001b[38;5;71m10-Q  \u001b[0m\u001b[38;5;71m \u001b[0m \u001b[38;5;39m \u001b[0m\u001b[38;5;39m2011-0…\u001b[0m\u001b[38;5;39m \u001b[0m  CY2010…   None      │\n",
       "│  \u001b[1m \u001b[0m\u001b[1m8    \u001b[0m\u001b[1m \u001b[0m \u001b[1m \u001b[0m\u001b[1mdei    \u001b[0m\u001b[1m \u001b[0m \u001b[1;38;5;39m \u001b[0m\u001b[1;38;5;39mEntity…\u001b[0m\u001b[1;38;5;39m \u001b[0m \u001b[1m \u001b[0m\u001b[1m924754…\u001b[0m\u001b[1m \u001b[0m \u001b[1m \u001b[0m\u001b[1m000119…\u001b[0m\u001b[1m \u001b[0m \u001b[1m \u001b[0m\u001b[1m2011-0…\u001b[0m\u001b[1m \u001b[0m \u001b[1m \u001b[0m\u001b[1m2011\u001b[0m\u001b[1m \u001b[0m \u001b[1m \u001b[0m\u001b[1mQ2 \u001b[0m\u001b[1m \u001b[0m \u001b[1;38;5;71m \u001b[0m\u001b[1;38;5;71m10-Q  \u001b[0m\u001b[1;38;5;71m \u001b[0m \u001b[1;38;5;39m \u001b[0m\u001b[1;38;5;39m2011-0…\u001b[0m\u001b[1;38;5;39m \u001b[0m \u001b[1m \u001b[0m\u001b[1mCY2011…\u001b[0m\u001b[1m \u001b[0m \u001b[1m \u001b[0m\u001b[1mNone   \u001b[0m\u001b[1m \u001b[0m  │\n",
       "│   9       dei      \u001b[38;5;39m \u001b[0m\u001b[38;5;39mEntity…\u001b[0m\u001b[38;5;39m \u001b[0m  927090…   000119…   2011-0…   2011   Q3   \u001b[38;5;71m \u001b[0m\u001b[38;5;71m10-Q  \u001b[0m\u001b[38;5;71m \u001b[0m \u001b[38;5;39m \u001b[0m\u001b[38;5;39m2011-0…\u001b[0m\u001b[38;5;39m \u001b[0m  CY2011…   None      │\n",
       "│  \u001b[1m \u001b[0m\u001b[1m...  \u001b[0m\u001b[1m \u001b[0m \u001b[1m \u001b[0m\u001b[1m...    \u001b[0m\u001b[1m \u001b[0m \u001b[1;38;5;39m \u001b[0m\u001b[1;38;5;39m...    \u001b[0m\u001b[1;38;5;39m \u001b[0m \u001b[1m \u001b[0m\u001b[1m...    \u001b[0m\u001b[1m \u001b[0m \u001b[1m \u001b[0m\u001b[1m...    \u001b[0m\u001b[1m \u001b[0m \u001b[1m \u001b[0m\u001b[1m...    \u001b[0m\u001b[1m \u001b[0m \u001b[1m \u001b[0m\u001b[1m... \u001b[0m\u001b[1m \u001b[0m \u001b[1m \u001b[0m\u001b[1m...\u001b[0m\u001b[1m \u001b[0m \u001b[1;38;5;71m \u001b[0m\u001b[1;38;5;71m...   \u001b[0m\u001b[1;38;5;71m \u001b[0m \u001b[1;38;5;39m \u001b[0m\u001b[1;38;5;39m...    \u001b[0m\u001b[1;38;5;39m \u001b[0m \u001b[1m \u001b[0m\u001b[1m...    \u001b[0m\u001b[1m \u001b[0m \u001b[1m \u001b[0m\u001b[1m...    \u001b[0m\u001b[1m \u001b[0m  │\n",
       "│   22567   us-gaap  \u001b[38;5;39m \u001b[0m\u001b[38;5;39mIncrem…\u001b[0m\u001b[38;5;39m \u001b[0m  109856…   000032…   2022-0…   2023   FY   \u001b[38;5;71m \u001b[0m\u001b[38;5;71m10-K  \u001b[0m\u001b[38;5;71m \u001b[0m \u001b[38;5;39m \u001b[0m\u001b[38;5;39m2023-1…\u001b[0m\u001b[38;5;39m \u001b[0m  CY2022    2021-0…   │\n",
       "│  \u001b[1m \u001b[0m\u001b[1m22568\u001b[0m\u001b[1m \u001b[0m \u001b[1m \u001b[0m\u001b[1mus-gaap\u001b[0m\u001b[1m \u001b[0m \u001b[1;38;5;39m \u001b[0m\u001b[1;38;5;39mIncrem…\u001b[0m\u001b[1;38;5;39m \u001b[0m \u001b[1m \u001b[0m\u001b[1m629950…\u001b[0m\u001b[1m \u001b[0m \u001b[1m \u001b[0m\u001b[1m000032…\u001b[0m\u001b[1m \u001b[0m \u001b[1m \u001b[0m\u001b[1m2022-1…\u001b[0m\u001b[1m \u001b[0m \u001b[1m \u001b[0m\u001b[1m2024\u001b[0m\u001b[1m \u001b[0m \u001b[1m \u001b[0m\u001b[1mQ1 \u001b[0m\u001b[1m \u001b[0m \u001b[1;38;5;71m \u001b[0m\u001b[1;38;5;71m10-Q  \u001b[0m\u001b[1;38;5;71m \u001b[0m \u001b[1;38;5;39m \u001b[0m\u001b[1;38;5;39m2024-0…\u001b[0m\u001b[1;38;5;39m \u001b[0m \u001b[1m \u001b[0m\u001b[1mCY2022…\u001b[0m\u001b[1m \u001b[0m \u001b[1m \u001b[0m\u001b[1m2022-0…\u001b[0m\u001b[1m \u001b[0m  │\n",
       "│   22569   us-gaap  \u001b[38;5;39m \u001b[0m\u001b[38;5;39mIncrem…\u001b[0m\u001b[38;5;39m \u001b[0m  614450…   000032…   2023-0…   2024   Q2   \u001b[38;5;71m \u001b[0m\u001b[38;5;71m10-Q  \u001b[0m\u001b[38;5;71m \u001b[0m \u001b[38;5;39m \u001b[0m\u001b[38;5;39m2024-0…\u001b[0m\u001b[38;5;39m \u001b[0m  None      2022-0…   │\n",
       "│  \u001b[1m \u001b[0m\u001b[1m22570\u001b[0m\u001b[1m \u001b[0m \u001b[1m \u001b[0m\u001b[1mus-gaap\u001b[0m\u001b[1m \u001b[0m \u001b[1;38;5;39m \u001b[0m\u001b[1;38;5;39mIncrem…\u001b[0m\u001b[1;38;5;39m \u001b[0m \u001b[1m \u001b[0m\u001b[1m598960…\u001b[0m\u001b[1m \u001b[0m \u001b[1m \u001b[0m\u001b[1m000032…\u001b[0m\u001b[1m \u001b[0m \u001b[1m \u001b[0m\u001b[1m2023-0…\u001b[0m\u001b[1m \u001b[0m \u001b[1m \u001b[0m\u001b[1m2024\u001b[0m\u001b[1m \u001b[0m \u001b[1m \u001b[0m\u001b[1mQ2 \u001b[0m\u001b[1m \u001b[0m \u001b[1;38;5;71m \u001b[0m\u001b[1;38;5;71m10-Q  \u001b[0m\u001b[1;38;5;71m \u001b[0m \u001b[1;38;5;39m \u001b[0m\u001b[1;38;5;39m2024-0…\u001b[0m\u001b[1;38;5;39m \u001b[0m \u001b[1m \u001b[0m\u001b[1mCY2023…\u001b[0m\u001b[1m \u001b[0m \u001b[1m \u001b[0m\u001b[1m2023-0…\u001b[0m\u001b[1m \u001b[0m  │\n",
       "│   22571   us-gaap  \u001b[38;5;39m \u001b[0m\u001b[38;5;39mIncrem…\u001b[0m\u001b[38;5;39m \u001b[0m  683160…   000032…   2023-0…   2023   FY   \u001b[38;5;71m \u001b[0m\u001b[38;5;71m10-K  \u001b[0m\u001b[38;5;71m \u001b[0m \u001b[38;5;39m \u001b[0m\u001b[38;5;39m2023-1…\u001b[0m\u001b[38;5;39m \u001b[0m  CY2023    2022-0…   │\n",
       "│  \u001b[1m \u001b[0m\u001b[1m22572\u001b[0m\u001b[1m \u001b[0m \u001b[1m \u001b[0m\u001b[1mus-gaap\u001b[0m\u001b[1m \u001b[0m \u001b[1;38;5;39m \u001b[0m\u001b[1;38;5;39mIncrem…\u001b[0m\u001b[1;38;5;39m \u001b[0m \u001b[1m \u001b[0m\u001b[1m668780…\u001b[0m\u001b[1m \u001b[0m \u001b[1m \u001b[0m\u001b[1m000032…\u001b[0m\u001b[1m \u001b[0m \u001b[1m \u001b[0m\u001b[1m2023-1…\u001b[0m\u001b[1m \u001b[0m \u001b[1m \u001b[0m\u001b[1m2024\u001b[0m\u001b[1m \u001b[0m \u001b[1m \u001b[0m\u001b[1mQ1 \u001b[0m\u001b[1m \u001b[0m \u001b[1;38;5;71m \u001b[0m\u001b[1;38;5;71m10-Q  \u001b[0m\u001b[1;38;5;71m \u001b[0m \u001b[1;38;5;39m \u001b[0m\u001b[1;38;5;39m2024-0…\u001b[0m\u001b[1;38;5;39m \u001b[0m \u001b[1m \u001b[0m\u001b[1mCY2023…\u001b[0m\u001b[1m \u001b[0m \u001b[1m \u001b[0m\u001b[1m2023-1…\u001b[0m\u001b[1m \u001b[0m  │\n",
       "│   22573   us-gaap  \u001b[38;5;39m \u001b[0m\u001b[38;5;39mIncrem…\u001b[0m\u001b[38;5;39m \u001b[0m  628650…   000032…   2024-0…   2024   Q2   \u001b[38;5;71m \u001b[0m\u001b[38;5;71m10-Q  \u001b[0m\u001b[38;5;71m \u001b[0m \u001b[38;5;39m \u001b[0m\u001b[38;5;39m2024-0…\u001b[0m\u001b[38;5;39m \u001b[0m  None      2023-1…   │\n",
       "│  \u001b[1m \u001b[0m\u001b[1m22574\u001b[0m\u001b[1m \u001b[0m \u001b[1m \u001b[0m\u001b[1mus-gaap\u001b[0m\u001b[1m \u001b[0m \u001b[1;38;5;39m \u001b[0m\u001b[1;38;5;39mIncrem…\u001b[0m\u001b[1;38;5;39m \u001b[0m \u001b[1m \u001b[0m\u001b[1m588530…\u001b[0m\u001b[1m \u001b[0m \u001b[1m \u001b[0m\u001b[1m000032…\u001b[0m\u001b[1m \u001b[0m \u001b[1m \u001b[0m\u001b[1m2024-0…\u001b[0m\u001b[1m \u001b[0m \u001b[1m \u001b[0m\u001b[1m2024\u001b[0m\u001b[1m \u001b[0m \u001b[1m \u001b[0m\u001b[1mQ2 \u001b[0m\u001b[1m \u001b[0m \u001b[1;38;5;71m \u001b[0m\u001b[1;38;5;71m10-Q  \u001b[0m\u001b[1;38;5;71m \u001b[0m \u001b[1;38;5;39m \u001b[0m\u001b[1;38;5;39m2024-0…\u001b[0m\u001b[1;38;5;39m \u001b[0m \u001b[1m \u001b[0m\u001b[1mCY2024…\u001b[0m\u001b[1m \u001b[0m \u001b[1m \u001b[0m\u001b[1m2023-1…\u001b[0m\u001b[1m \u001b[0m  │\n",
       "│   22575   us-gaap  \u001b[38;5;39m \u001b[0m\u001b[38;5;39mOtherA…\u001b[0m\u001b[38;5;39m \u001b[0m  390530…   000032…   2022-0…   2023   FY   \u001b[38;5;71m \u001b[0m\u001b[38;5;71m10-K  \u001b[0m\u001b[38;5;71m \u001b[0m \u001b[38;5;39m \u001b[0m\u001b[38;5;39m2023-1…\u001b[0m\u001b[38;5;39m \u001b[0m  CY2022…   None      │\n",
       "│  \u001b[1m \u001b[0m\u001b[1m22576\u001b[0m\u001b[1m \u001b[0m \u001b[1m \u001b[0m\u001b[1mus-gaap\u001b[0m\u001b[1m \u001b[0m \u001b[1;38;5;39m \u001b[0m\u001b[1;38;5;39mOtherA…\u001b[0m\u001b[1;38;5;39m \u001b[0m \u001b[1m \u001b[0m\u001b[1m469060…\u001b[0m\u001b[1m \u001b[0m \u001b[1m \u001b[0m\u001b[1m000032…\u001b[0m\u001b[1m \u001b[0m \u001b[1m \u001b[0m\u001b[1m2023-0…\u001b[0m\u001b[1m \u001b[0m \u001b[1m \u001b[0m\u001b[1m2023\u001b[0m\u001b[1m \u001b[0m \u001b[1m \u001b[0m\u001b[1mFY \u001b[0m\u001b[1m \u001b[0m \u001b[1;38;5;71m \u001b[0m\u001b[1;38;5;71m10-K  \u001b[0m\u001b[1;38;5;71m \u001b[0m \u001b[1;38;5;39m \u001b[0m\u001b[1;38;5;39m2023-1…\u001b[0m\u001b[1;38;5;39m \u001b[0m \u001b[1m \u001b[0m\u001b[1mCY2023…\u001b[0m\u001b[1m \u001b[0m \u001b[1m \u001b[0m\u001b[1mNone   \u001b[0m\u001b[1m \u001b[0m  │\n",
       "│                                                                                                                 │\n",
       "╰─────────────────────────────────────────────────────────────────────────────────────────────────────────────────╯"
      ]
     },
     "execution_count": 28,
     "metadata": {},
     "output_type": "execute_result"
    }
   ],
   "source": [
    "company.get_facts()"
   ]
  },
  {
   "cell_type": "code",
   "execution_count": 29,
   "id": "eca85f6e",
   "metadata": {},
   "outputs": [
    {
     "data": {
      "text/html": [
       "<div>\n",
       "<style scoped>\n",
       "    .dataframe tbody tr th:only-of-type {\n",
       "        vertical-align: middle;\n",
       "    }\n",
       "\n",
       "    .dataframe tbody tr th {\n",
       "        vertical-align: top;\n",
       "    }\n",
       "\n",
       "    .dataframe thead th {\n",
       "        text-align: right;\n",
       "    }\n",
       "</style>\n",
       "<table border=\"1\" class=\"dataframe\">\n",
       "  <thead>\n",
       "    <tr style=\"text-align: right;\">\n",
       "      <th></th>\n",
       "      <th>namespace</th>\n",
       "      <th>fact</th>\n",
       "      <th>val</th>\n",
       "      <th>accn</th>\n",
       "      <th>end</th>\n",
       "      <th>fy</th>\n",
       "      <th>fp</th>\n",
       "      <th>form</th>\n",
       "      <th>filed</th>\n",
       "      <th>frame</th>\n",
       "      <th>start</th>\n",
       "    </tr>\n",
       "  </thead>\n",
       "  <tbody>\n",
       "    <tr>\n",
       "      <th>0</th>\n",
       "      <td>dei</td>\n",
       "      <td>EntityCommonStockSharesOutstanding</td>\n",
       "      <td>8.958168e+08</td>\n",
       "      <td>0001193125-09-153165</td>\n",
       "      <td>2009-06-27</td>\n",
       "      <td>2009</td>\n",
       "      <td>Q3</td>\n",
       "      <td>10-Q</td>\n",
       "      <td>2009-07-22</td>\n",
       "      <td>CY2009Q2I</td>\n",
       "      <td>None</td>\n",
       "    </tr>\n",
       "    <tr>\n",
       "      <th>1</th>\n",
       "      <td>dei</td>\n",
       "      <td>EntityCommonStockSharesOutstanding</td>\n",
       "      <td>9.006785e+08</td>\n",
       "      <td>0001193125-09-214859</td>\n",
       "      <td>2009-10-16</td>\n",
       "      <td>2009</td>\n",
       "      <td>FY</td>\n",
       "      <td>10-K</td>\n",
       "      <td>2009-10-27</td>\n",
       "      <td>None</td>\n",
       "      <td>None</td>\n",
       "    </tr>\n",
       "    <tr>\n",
       "      <th>2</th>\n",
       "      <td>dei</td>\n",
       "      <td>EntityCommonStockSharesOutstanding</td>\n",
       "      <td>9.006785e+08</td>\n",
       "      <td>0001193125-10-012091</td>\n",
       "      <td>2009-10-16</td>\n",
       "      <td>2009</td>\n",
       "      <td>FY</td>\n",
       "      <td>10-K/A</td>\n",
       "      <td>2010-01-25</td>\n",
       "      <td>CY2009Q3I</td>\n",
       "      <td>None</td>\n",
       "    </tr>\n",
       "    <tr>\n",
       "      <th>3</th>\n",
       "      <td>dei</td>\n",
       "      <td>EntityCommonStockSharesOutstanding</td>\n",
       "      <td>9.067946e+08</td>\n",
       "      <td>0001193125-10-012085</td>\n",
       "      <td>2010-01-15</td>\n",
       "      <td>2010</td>\n",
       "      <td>Q1</td>\n",
       "      <td>10-Q</td>\n",
       "      <td>2010-01-25</td>\n",
       "      <td>CY2009Q4I</td>\n",
       "      <td>None</td>\n",
       "    </tr>\n",
       "    <tr>\n",
       "      <th>4</th>\n",
       "      <td>dei</td>\n",
       "      <td>EntityCommonStockSharesOutstanding</td>\n",
       "      <td>9.099384e+08</td>\n",
       "      <td>0001193125-10-088957</td>\n",
       "      <td>2010-04-09</td>\n",
       "      <td>2010</td>\n",
       "      <td>Q2</td>\n",
       "      <td>10-Q</td>\n",
       "      <td>2010-04-21</td>\n",
       "      <td>CY2010Q1I</td>\n",
       "      <td>None</td>\n",
       "    </tr>\n",
       "    <tr>\n",
       "      <th>...</th>\n",
       "      <td>...</td>\n",
       "      <td>...</td>\n",
       "      <td>...</td>\n",
       "      <td>...</td>\n",
       "      <td>...</td>\n",
       "      <td>...</td>\n",
       "      <td>...</td>\n",
       "      <td>...</td>\n",
       "      <td>...</td>\n",
       "      <td>...</td>\n",
       "      <td>...</td>\n",
       "    </tr>\n",
       "    <tr>\n",
       "      <th>22572</th>\n",
       "      <td>us-gaap</td>\n",
       "      <td>IncrementalCommonSharesAttributableToShareBase...</td>\n",
       "      <td>6.687800e+07</td>\n",
       "      <td>0000320193-24-000006</td>\n",
       "      <td>2023-12-30</td>\n",
       "      <td>2024</td>\n",
       "      <td>Q1</td>\n",
       "      <td>10-Q</td>\n",
       "      <td>2024-02-02</td>\n",
       "      <td>CY2023Q4</td>\n",
       "      <td>2023-10-01</td>\n",
       "    </tr>\n",
       "    <tr>\n",
       "      <th>22573</th>\n",
       "      <td>us-gaap</td>\n",
       "      <td>IncrementalCommonSharesAttributableToShareBase...</td>\n",
       "      <td>6.286500e+07</td>\n",
       "      <td>0000320193-24-000069</td>\n",
       "      <td>2024-03-30</td>\n",
       "      <td>2024</td>\n",
       "      <td>Q2</td>\n",
       "      <td>10-Q</td>\n",
       "      <td>2024-05-03</td>\n",
       "      <td>None</td>\n",
       "      <td>2023-10-01</td>\n",
       "    </tr>\n",
       "    <tr>\n",
       "      <th>22574</th>\n",
       "      <td>us-gaap</td>\n",
       "      <td>IncrementalCommonSharesAttributableToShareBase...</td>\n",
       "      <td>5.885300e+07</td>\n",
       "      <td>0000320193-24-000069</td>\n",
       "      <td>2024-03-30</td>\n",
       "      <td>2024</td>\n",
       "      <td>Q2</td>\n",
       "      <td>10-Q</td>\n",
       "      <td>2024-05-03</td>\n",
       "      <td>CY2024Q1</td>\n",
       "      <td>2023-12-31</td>\n",
       "    </tr>\n",
       "    <tr>\n",
       "      <th>22575</th>\n",
       "      <td>us-gaap</td>\n",
       "      <td>OtherAssetsMiscellaneousNoncurrent</td>\n",
       "      <td>3.905300e+10</td>\n",
       "      <td>0000320193-23-000106</td>\n",
       "      <td>2022-09-24</td>\n",
       "      <td>2023</td>\n",
       "      <td>FY</td>\n",
       "      <td>10-K</td>\n",
       "      <td>2023-11-03</td>\n",
       "      <td>CY2022Q3I</td>\n",
       "      <td>None</td>\n",
       "    </tr>\n",
       "    <tr>\n",
       "      <th>22576</th>\n",
       "      <td>us-gaap</td>\n",
       "      <td>OtherAssetsMiscellaneousNoncurrent</td>\n",
       "      <td>4.690600e+10</td>\n",
       "      <td>0000320193-23-000106</td>\n",
       "      <td>2023-09-30</td>\n",
       "      <td>2023</td>\n",
       "      <td>FY</td>\n",
       "      <td>10-K</td>\n",
       "      <td>2023-11-03</td>\n",
       "      <td>CY2023Q3I</td>\n",
       "      <td>None</td>\n",
       "    </tr>\n",
       "  </tbody>\n",
       "</table>\n",
       "<p>22577 rows × 11 columns</p>\n",
       "</div>"
      ],
      "text/plain": [
       "      namespace                                               fact  \\\n",
       "0           dei                 EntityCommonStockSharesOutstanding   \n",
       "1           dei                 EntityCommonStockSharesOutstanding   \n",
       "2           dei                 EntityCommonStockSharesOutstanding   \n",
       "3           dei                 EntityCommonStockSharesOutstanding   \n",
       "4           dei                 EntityCommonStockSharesOutstanding   \n",
       "...         ...                                                ...   \n",
       "22572   us-gaap  IncrementalCommonSharesAttributableToShareBase...   \n",
       "22573   us-gaap  IncrementalCommonSharesAttributableToShareBase...   \n",
       "22574   us-gaap  IncrementalCommonSharesAttributableToShareBase...   \n",
       "22575   us-gaap                 OtherAssetsMiscellaneousNoncurrent   \n",
       "22576   us-gaap                 OtherAssetsMiscellaneousNoncurrent   \n",
       "\n",
       "                val                  accn         end    fy  fp    form  \\\n",
       "0      8.958168e+08  0001193125-09-153165  2009-06-27  2009  Q3    10-Q   \n",
       "1      9.006785e+08  0001193125-09-214859  2009-10-16  2009  FY    10-K   \n",
       "2      9.006785e+08  0001193125-10-012091  2009-10-16  2009  FY  10-K/A   \n",
       "3      9.067946e+08  0001193125-10-012085  2010-01-15  2010  Q1    10-Q   \n",
       "4      9.099384e+08  0001193125-10-088957  2010-04-09  2010  Q2    10-Q   \n",
       "...             ...                   ...         ...   ...  ..     ...   \n",
       "22572  6.687800e+07  0000320193-24-000006  2023-12-30  2024  Q1    10-Q   \n",
       "22573  6.286500e+07  0000320193-24-000069  2024-03-30  2024  Q2    10-Q   \n",
       "22574  5.885300e+07  0000320193-24-000069  2024-03-30  2024  Q2    10-Q   \n",
       "22575  3.905300e+10  0000320193-23-000106  2022-09-24  2023  FY    10-K   \n",
       "22576  4.690600e+10  0000320193-23-000106  2023-09-30  2023  FY    10-K   \n",
       "\n",
       "            filed      frame       start  \n",
       "0      2009-07-22  CY2009Q2I        None  \n",
       "1      2009-10-27       None        None  \n",
       "2      2010-01-25  CY2009Q3I        None  \n",
       "3      2010-01-25  CY2009Q4I        None  \n",
       "4      2010-04-21  CY2010Q1I        None  \n",
       "...           ...        ...         ...  \n",
       "22572  2024-02-02   CY2023Q4  2023-10-01  \n",
       "22573  2024-05-03       None  2023-10-01  \n",
       "22574  2024-05-03   CY2024Q1  2023-12-31  \n",
       "22575  2023-11-03  CY2022Q3I        None  \n",
       "22576  2023-11-03  CY2023Q3I        None  \n",
       "\n",
       "[22577 rows x 11 columns]"
      ]
     },
     "execution_count": 29,
     "metadata": {},
     "output_type": "execute_result"
    }
   ],
   "source": [
    "company.get_facts().to_pandas()"
   ]
  },
  {
   "cell_type": "code",
   "execution_count": 32,
   "id": "265b2e82",
   "metadata": {},
   "outputs": [
    {
     "data": {
      "text/html": [
       "<pre style=\"white-space:pre;overflow-x:auto;line-height:normal;font-family:Menlo,'DejaVu Sans Mono',consolas,'Courier New',monospace\"></pre>\n"
      ],
      "text/plain": []
     },
     "metadata": {},
     "output_type": "display_data"
    },
    {
     "data": {
      "text/plain": [
       "╭──────────────────────────────────────── Filings for Apple Inc. [320193] ────────────────────────────────────────╮\n",
       "│                                                                                                                 │\n",
       "│  \u001b[1m \u001b[0m\u001b[1m  \u001b[0m\u001b[1m \u001b[0m \u001b[1;38;5;71m \u001b[0m\u001b[1;38;5;71mform    \u001b[0m\u001b[1;38;5;71m \u001b[0m \u001b[1;38;5;39m \u001b[0m\u001b[1;38;5;39mfiled     \u001b[0m\u001b[1;38;5;39m \u001b[0m \u001b[1m \u001b[0m\u001b[1maccession_number    \u001b[0m\u001b[1m \u001b[0m \u001b[1m \u001b[0m\u001b[1mxbrl\u001b[0m\u001b[1m \u001b[0m                                                     │\n",
       "│  ──────────────────────────────────────────────────────────                                                     │\n",
       "│  \u001b[1m \u001b[0m\u001b[1m0 \u001b[0m\u001b[1m \u001b[0m \u001b[1;38;5;71m \u001b[0m\u001b[1;38;5;71m8-K     \u001b[0m\u001b[1;38;5;71m \u001b[0m \u001b[1;38;5;39m \u001b[0m\u001b[1;38;5;39m2024-05-03\u001b[0m\u001b[1;38;5;39m \u001b[0m \u001b[1m \u001b[0m\u001b[1m0001140361-24-024352\u001b[0m\u001b[1m \u001b[0m \u001b[1m \u001b[0m\u001b[1m✓   \u001b[0m\u001b[1m \u001b[0m                                                     │\n",
       "│   1   \u001b[38;5;71m \u001b[0m\u001b[38;5;71m10-Q    \u001b[0m\u001b[38;5;71m \u001b[0m \u001b[38;5;39m \u001b[0m\u001b[38;5;39m2024-05-03\u001b[0m\u001b[38;5;39m \u001b[0m  0000320193-24-000069   ✓                                                         │\n",
       "│  \u001b[1m \u001b[0m\u001b[1m2 \u001b[0m\u001b[1m \u001b[0m \u001b[1;38;5;71m \u001b[0m\u001b[1;38;5;71m8-K     \u001b[0m\u001b[1;38;5;71m \u001b[0m \u001b[1;38;5;39m \u001b[0m\u001b[1;38;5;39m2024-05-02\u001b[0m\u001b[1;38;5;39m \u001b[0m \u001b[1m \u001b[0m\u001b[1m0000320193-24-000067\u001b[0m\u001b[1m \u001b[0m \u001b[1m \u001b[0m\u001b[1m✓   \u001b[0m\u001b[1m \u001b[0m                                                     │\n",
       "│   3   \u001b[38;5;71m \u001b[0m\u001b[38;5;71m4       \u001b[0m\u001b[38;5;71m \u001b[0m \u001b[38;5;39m \u001b[0m\u001b[38;5;39m2024-04-17\u001b[0m\u001b[38;5;39m \u001b[0m  0000320193-24-000058                                                             │\n",
       "│  \u001b[1m \u001b[0m\u001b[1m4 \u001b[0m\u001b[1m \u001b[0m \u001b[1;38;5;71m \u001b[0m\u001b[1;38;5;71m4       \u001b[0m\u001b[1;38;5;71m \u001b[0m \u001b[1;38;5;39m \u001b[0m\u001b[1;38;5;39m2024-04-15\u001b[0m\u001b[1;38;5;39m \u001b[0m \u001b[1m \u001b[0m\u001b[1m0000320193-24-000056\u001b[0m\u001b[1m \u001b[0m \u001b[1m \u001b[0m\u001b[1m    \u001b[0m\u001b[1m \u001b[0m                                                     │\n",
       "│   5   \u001b[38;5;71m \u001b[0m\u001b[38;5;71m4       \u001b[0m\u001b[38;5;71m \u001b[0m \u001b[38;5;39m \u001b[0m\u001b[38;5;39m2024-04-15\u001b[0m\u001b[38;5;39m \u001b[0m  0000320193-24-000055                                                             │\n",
       "│  \u001b[1m \u001b[0m\u001b[1m6 \u001b[0m\u001b[1m \u001b[0m \u001b[1;38;5;71m \u001b[0m\u001b[1;38;5;71m144     \u001b[0m\u001b[1;38;5;71m \u001b[0m \u001b[1;38;5;39m \u001b[0m\u001b[1;38;5;39m2024-04-11\u001b[0m\u001b[1;38;5;39m \u001b[0m \u001b[1m \u001b[0m\u001b[1m0001958244-24-001666\u001b[0m\u001b[1m \u001b[0m \u001b[1m \u001b[0m\u001b[1m    \u001b[0m\u001b[1m \u001b[0m                                                     │\n",
       "│   7   \u001b[38;5;71m \u001b[0m\u001b[38;5;71m144     \u001b[0m\u001b[38;5;71m \u001b[0m \u001b[38;5;39m \u001b[0m\u001b[38;5;39m2024-04-11\u001b[0m\u001b[38;5;39m \u001b[0m  0001973141-24-000220                                                             │\n",
       "│  \u001b[1m \u001b[0m\u001b[1m8 \u001b[0m\u001b[1m \u001b[0m \u001b[1;38;5;71m \u001b[0m\u001b[1;38;5;71m4       \u001b[0m\u001b[1;38;5;71m \u001b[0m \u001b[1;38;5;39m \u001b[0m\u001b[1;38;5;39m2024-04-03\u001b[0m\u001b[1;38;5;39m \u001b[0m \u001b[1m \u001b[0m\u001b[1m0000320193-24-000052\u001b[0m\u001b[1m \u001b[0m \u001b[1m \u001b[0m\u001b[1m    \u001b[0m\u001b[1m \u001b[0m                                                     │\n",
       "│   9   \u001b[38;5;71m \u001b[0m\u001b[38;5;71m4       \u001b[0m\u001b[38;5;71m \u001b[0m \u001b[38;5;39m \u001b[0m\u001b[38;5;39m2024-04-03\u001b[0m\u001b[38;5;39m \u001b[0m  0000320193-24-000051                                                             │\n",
       "│  \u001b[1m \u001b[0m\u001b[1m10\u001b[0m\u001b[1m \u001b[0m \u001b[1;38;5;71m \u001b[0m\u001b[1;38;5;71m4       \u001b[0m\u001b[1;38;5;71m \u001b[0m \u001b[1;38;5;39m \u001b[0m\u001b[1;38;5;39m2024-04-03\u001b[0m\u001b[1;38;5;39m \u001b[0m \u001b[1m \u001b[0m\u001b[1m0000320193-24-000050\u001b[0m\u001b[1m \u001b[0m \u001b[1m \u001b[0m\u001b[1m    \u001b[0m\u001b[1m \u001b[0m                                                     │\n",
       "│   11  \u001b[38;5;71m \u001b[0m\u001b[38;5;71m4       \u001b[0m\u001b[38;5;71m \u001b[0m \u001b[38;5;39m \u001b[0m\u001b[38;5;39m2024-04-03\u001b[0m\u001b[38;5;39m \u001b[0m  0000320193-24-000049                                                             │\n",
       "│  \u001b[1m \u001b[0m\u001b[1m12\u001b[0m\u001b[1m \u001b[0m \u001b[1;38;5;71m \u001b[0m\u001b[1;38;5;71m4       \u001b[0m\u001b[1;38;5;71m \u001b[0m \u001b[1;38;5;39m \u001b[0m\u001b[1;38;5;39m2024-04-03\u001b[0m\u001b[1;38;5;39m \u001b[0m \u001b[1m \u001b[0m\u001b[1m0000320193-24-000048\u001b[0m\u001b[1m \u001b[0m \u001b[1m \u001b[0m\u001b[1m    \u001b[0m\u001b[1m \u001b[0m                                                     │\n",
       "│   13  \u001b[38;5;71m \u001b[0m\u001b[38;5;71m144     \u001b[0m\u001b[38;5;71m \u001b[0m \u001b[38;5;39m \u001b[0m\u001b[38;5;39m2024-04-02\u001b[0m\u001b[38;5;39m \u001b[0m  0001973141-24-000208                                                             │\n",
       "│  \u001b[1m \u001b[0m\u001b[1m14\u001b[0m\u001b[1m \u001b[0m \u001b[1;38;5;71m \u001b[0m\u001b[1;38;5;71m144     \u001b[0m\u001b[1;38;5;71m \u001b[0m \u001b[1;38;5;39m \u001b[0m\u001b[1;38;5;39m2024-04-02\u001b[0m\u001b[1;38;5;39m \u001b[0m \u001b[1m \u001b[0m\u001b[1m0001950047-24-002876\u001b[0m\u001b[1m \u001b[0m \u001b[1m \u001b[0m\u001b[1m    \u001b[0m\u001b[1m \u001b[0m                                                     │\n",
       "│   15  \u001b[38;5;71m \u001b[0m\u001b[38;5;71m144     \u001b[0m\u001b[38;5;71m \u001b[0m \u001b[38;5;39m \u001b[0m\u001b[38;5;39m2024-04-02\u001b[0m\u001b[38;5;39m \u001b[0m  0001959173-24-002769                                                             │\n",
       "│  \u001b[1m \u001b[0m\u001b[1m16\u001b[0m\u001b[1m \u001b[0m \u001b[1;38;5;71m \u001b[0m\u001b[1;38;5;71mSD      \u001b[0m\u001b[1;38;5;71m \u001b[0m \u001b[1;38;5;39m \u001b[0m\u001b[1;38;5;39m2024-03-27\u001b[0m\u001b[1;38;5;39m \u001b[0m \u001b[1m \u001b[0m\u001b[1m0001140361-24-015633\u001b[0m\u001b[1m \u001b[0m \u001b[1m \u001b[0m\u001b[1m    \u001b[0m\u001b[1m \u001b[0m                                                     │\n",
       "│   17  \u001b[38;5;71m \u001b[0m\u001b[38;5;71m4       \u001b[0m\u001b[38;5;71m \u001b[0m \u001b[38;5;39m \u001b[0m\u001b[38;5;39m2024-03-01\u001b[0m\u001b[38;5;39m \u001b[0m  0000320193-24-000039                                                             │\n",
       "│  \u001b[1m \u001b[0m\u001b[1m18\u001b[0m\u001b[1m \u001b[0m \u001b[1;38;5;71m \u001b[0m\u001b[1;38;5;71m4       \u001b[0m\u001b[1;38;5;71m \u001b[0m \u001b[1;38;5;39m \u001b[0m\u001b[1;38;5;39m2024-03-01\u001b[0m\u001b[1;38;5;39m \u001b[0m \u001b[1m \u001b[0m\u001b[1m0000320193-24-000038\u001b[0m\u001b[1m \u001b[0m \u001b[1m \u001b[0m\u001b[1m    \u001b[0m\u001b[1m \u001b[0m                                                     │\n",
       "│   19  \u001b[38;5;71m \u001b[0m\u001b[38;5;71m4       \u001b[0m\u001b[38;5;71m \u001b[0m \u001b[38;5;39m \u001b[0m\u001b[38;5;39m2024-03-01\u001b[0m\u001b[38;5;39m \u001b[0m  0000320193-24-000037                                                             │\n",
       "│  \u001b[1m \u001b[0m\u001b[1m20\u001b[0m\u001b[1m \u001b[0m \u001b[1;38;5;71m \u001b[0m\u001b[1;38;5;71m4       \u001b[0m\u001b[1;38;5;71m \u001b[0m \u001b[1;38;5;39m \u001b[0m\u001b[1;38;5;39m2024-03-01\u001b[0m\u001b[1;38;5;39m \u001b[0m \u001b[1m \u001b[0m\u001b[1m0000320193-24-000036\u001b[0m\u001b[1m \u001b[0m \u001b[1m \u001b[0m\u001b[1m    \u001b[0m\u001b[1m \u001b[0m                                                     │\n",
       "│   21  \u001b[38;5;71m \u001b[0m\u001b[38;5;71m4       \u001b[0m\u001b[38;5;71m \u001b[0m \u001b[38;5;39m \u001b[0m\u001b[38;5;39m2024-03-01\u001b[0m\u001b[38;5;39m \u001b[0m  0000320193-24-000035                                                             │\n",
       "│  \u001b[1m \u001b[0m\u001b[1m22\u001b[0m\u001b[1m \u001b[0m \u001b[1;38;5;71m \u001b[0m\u001b[1;38;5;71m4       \u001b[0m\u001b[1;38;5;71m \u001b[0m \u001b[1;38;5;39m \u001b[0m\u001b[1;38;5;39m2024-03-01\u001b[0m\u001b[1;38;5;39m \u001b[0m \u001b[1m \u001b[0m\u001b[1m0000320193-24-000034\u001b[0m\u001b[1m \u001b[0m \u001b[1m \u001b[0m\u001b[1m    \u001b[0m\u001b[1m \u001b[0m                                                     │\n",
       "│   23  \u001b[38;5;71m \u001b[0m\u001b[38;5;71m4       \u001b[0m\u001b[38;5;71m \u001b[0m \u001b[38;5;39m \u001b[0m\u001b[38;5;39m2024-03-01\u001b[0m\u001b[38;5;39m \u001b[0m  0000320193-24-000033                                                             │\n",
       "│  \u001b[1m \u001b[0m\u001b[1m24\u001b[0m\u001b[1m \u001b[0m \u001b[1;38;5;71m \u001b[0m\u001b[1;38;5;71m3       \u001b[0m\u001b[1;38;5;71m \u001b[0m \u001b[1;38;5;39m \u001b[0m\u001b[1;38;5;39m2024-03-01\u001b[0m\u001b[1;38;5;39m \u001b[0m \u001b[1m \u001b[0m\u001b[1m0000320193-24-000032\u001b[0m\u001b[1m \u001b[0m \u001b[1m \u001b[0m\u001b[1m    \u001b[0m\u001b[1m \u001b[0m                                                     │\n",
       "│   25  \u001b[38;5;71m \u001b[0m\u001b[38;5;71m144     \u001b[0m\u001b[38;5;71m \u001b[0m \u001b[38;5;39m \u001b[0m\u001b[38;5;39m2024-02-29\u001b[0m\u001b[38;5;39m \u001b[0m  0001921094-24-000276                                                             │\n",
       "│  \u001b[1m \u001b[0m\u001b[1m26\u001b[0m\u001b[1m \u001b[0m \u001b[1;38;5;71m \u001b[0m\u001b[1;38;5;71m8-K     \u001b[0m\u001b[1;38;5;71m \u001b[0m \u001b[1;38;5;39m \u001b[0m\u001b[1;38;5;39m2024-02-28\u001b[0m\u001b[1;38;5;39m \u001b[0m \u001b[1m \u001b[0m\u001b[1m0001140361-24-010155\u001b[0m\u001b[1m \u001b[0m \u001b[1m \u001b[0m\u001b[1m✓   \u001b[0m\u001b[1m \u001b[0m                                                     │\n",
       "│   27  \u001b[38;5;71m \u001b[0m\u001b[38;5;71mSC 13G/A\u001b[0m\u001b[38;5;71m \u001b[0m \u001b[38;5;39m \u001b[0m\u001b[38;5;39m2024-02-14\u001b[0m\u001b[38;5;39m \u001b[0m  0001193125-24-036431                                                             │\n",
       "│  \u001b[1m \u001b[0m\u001b[1m28\u001b[0m\u001b[1m \u001b[0m \u001b[1;38;5;71m \u001b[0m\u001b[1;38;5;71mSC 13G/A\u001b[0m\u001b[1;38;5;71m \u001b[0m \u001b[1;38;5;39m \u001b[0m\u001b[1;38;5;39m2024-02-13\u001b[0m\u001b[1;38;5;39m \u001b[0m \u001b[1m \u001b[0m\u001b[1m0001104659-24-020009\u001b[0m\u001b[1m \u001b[0m \u001b[1m \u001b[0m\u001b[1m    \u001b[0m\u001b[1m \u001b[0m                                                     │\n",
       "│   29  \u001b[38;5;71m \u001b[0m\u001b[38;5;71mSC 13G/A\u001b[0m\u001b[38;5;71m \u001b[0m \u001b[38;5;39m \u001b[0m\u001b[38;5;39m2024-02-12\u001b[0m\u001b[38;5;39m \u001b[0m  0001086364-24-006980                                                             │\n",
       "│  \u001b[1m \u001b[0m\u001b[1m30\u001b[0m\u001b[1m \u001b[0m \u001b[1;38;5;71m \u001b[0m\u001b[1;38;5;71mPX14A6G \u001b[0m\u001b[1;38;5;71m \u001b[0m \u001b[1;38;5;39m \u001b[0m\u001b[1;38;5;39m2024-02-09\u001b[0m\u001b[1;38;5;39m \u001b[0m \u001b[1m \u001b[0m\u001b[1m0001096906-24-000181\u001b[0m\u001b[1m \u001b[0m \u001b[1m \u001b[0m\u001b[1m    \u001b[0m\u001b[1m \u001b[0m                                                     │\n",
       "│   31  \u001b[38;5;71m \u001b[0m\u001b[38;5;71m4       \u001b[0m\u001b[38;5;71m \u001b[0m \u001b[38;5;39m \u001b[0m\u001b[38;5;39m2024-02-05\u001b[0m\u001b[38;5;39m \u001b[0m  0000320193-24-000022                                                             │\n",
       "│  \u001b[1m \u001b[0m\u001b[1m32\u001b[0m\u001b[1m \u001b[0m \u001b[1;38;5;71m \u001b[0m\u001b[1;38;5;71m4       \u001b[0m\u001b[1;38;5;71m \u001b[0m \u001b[1;38;5;39m \u001b[0m\u001b[1;38;5;39m2024-02-05\u001b[0m\u001b[1;38;5;39m \u001b[0m \u001b[1m \u001b[0m\u001b[1m0000320193-24-000021\u001b[0m\u001b[1m \u001b[0m \u001b[1m \u001b[0m\u001b[1m    \u001b[0m\u001b[1m \u001b[0m                                                     │\n",
       "│   33  \u001b[38;5;71m \u001b[0m\u001b[38;5;71m4       \u001b[0m\u001b[38;5;71m \u001b[0m \u001b[38;5;39m \u001b[0m\u001b[38;5;39m2024-02-05\u001b[0m\u001b[38;5;39m \u001b[0m  0000320193-24-000020                                                             │\n",
       "│  \u001b[1m \u001b[0m\u001b[1m34\u001b[0m\u001b[1m \u001b[0m \u001b[1;38;5;71m \u001b[0m\u001b[1;38;5;71m4       \u001b[0m\u001b[1;38;5;71m \u001b[0m \u001b[1;38;5;39m \u001b[0m\u001b[1;38;5;39m2024-02-05\u001b[0m\u001b[1;38;5;39m \u001b[0m \u001b[1m \u001b[0m\u001b[1m0000320193-24-000019\u001b[0m\u001b[1m \u001b[0m \u001b[1m \u001b[0m\u001b[1m    \u001b[0m\u001b[1m \u001b[0m                                                     │\n",
       "│   35  \u001b[38;5;71m \u001b[0m\u001b[38;5;71m4       \u001b[0m\u001b[38;5;71m \u001b[0m \u001b[38;5;39m \u001b[0m\u001b[38;5;39m2024-02-05\u001b[0m\u001b[38;5;39m \u001b[0m  0000320193-24-000018                                                             │\n",
       "│  \u001b[1m \u001b[0m\u001b[1m36\u001b[0m\u001b[1m \u001b[0m \u001b[1;38;5;71m \u001b[0m\u001b[1;38;5;71m4       \u001b[0m\u001b[1;38;5;71m \u001b[0m \u001b[1;38;5;39m \u001b[0m\u001b[1;38;5;39m2024-02-05\u001b[0m\u001b[1;38;5;39m \u001b[0m \u001b[1m \u001b[0m\u001b[1m0000320193-24-000017\u001b[0m\u001b[1m \u001b[0m \u001b[1m \u001b[0m\u001b[1m    \u001b[0m\u001b[1m \u001b[0m                                                     │\n",
       "│   37  \u001b[38;5;71m \u001b[0m\u001b[38;5;71m4       \u001b[0m\u001b[38;5;71m \u001b[0m \u001b[38;5;39m \u001b[0m\u001b[38;5;39m2024-02-05\u001b[0m\u001b[38;5;39m \u001b[0m  0000320193-24-000016                                                             │\n",
       "│  \u001b[1m \u001b[0m\u001b[1m38\u001b[0m\u001b[1m \u001b[0m \u001b[1;38;5;71m \u001b[0m\u001b[1;38;5;71m4       \u001b[0m\u001b[1;38;5;71m \u001b[0m \u001b[1;38;5;39m \u001b[0m\u001b[1;38;5;39m2024-02-05\u001b[0m\u001b[1;38;5;39m \u001b[0m \u001b[1m \u001b[0m\u001b[1m0000320193-24-000015\u001b[0m\u001b[1m \u001b[0m \u001b[1m \u001b[0m\u001b[1m    \u001b[0m\u001b[1m \u001b[0m                                                     │\n",
       "│   39  \u001b[38;5;71m \u001b[0m\u001b[38;5;71mPX14A6G \u001b[0m\u001b[38;5;71m \u001b[0m \u001b[38;5;39m \u001b[0m\u001b[38;5;39m2024-02-05\u001b[0m\u001b[38;5;39m \u001b[0m  0001096906-24-000156                                                             │\n",
       "│  \u001b[1m \u001b[0m\u001b[1m40\u001b[0m\u001b[1m \u001b[0m \u001b[1;38;5;71m \u001b[0m\u001b[1;38;5;71mPX14A6G \u001b[0m\u001b[1;38;5;71m \u001b[0m \u001b[1;38;5;39m \u001b[0m\u001b[1;38;5;39m2024-02-02\u001b[0m\u001b[1;38;5;39m \u001b[0m \u001b[1m \u001b[0m\u001b[1m0001096906-24-000151\u001b[0m\u001b[1m \u001b[0m \u001b[1m \u001b[0m\u001b[1m    \u001b[0m\u001b[1m \u001b[0m                                                     │\n",
       "│   41  \u001b[38;5;71m \u001b[0m\u001b[38;5;71m10-Q    \u001b[0m\u001b[38;5;71m \u001b[0m \u001b[38;5;39m \u001b[0m\u001b[38;5;39m2024-02-02\u001b[0m\u001b[38;5;39m \u001b[0m  0000320193-24-000006   ✓                                                         │\n",
       "│  \u001b[1m \u001b[0m\u001b[1m42\u001b[0m\u001b[1m \u001b[0m \u001b[1;38;5;71m \u001b[0m\u001b[1;38;5;71m8-K     \u001b[0m\u001b[1;38;5;71m \u001b[0m \u001b[1;38;5;39m \u001b[0m\u001b[1;38;5;39m2024-02-01\u001b[0m\u001b[1;38;5;39m \u001b[0m \u001b[1m \u001b[0m\u001b[1m0000320193-24-000005\u001b[0m\u001b[1m \u001b[0m \u001b[1m \u001b[0m\u001b[1m✓   \u001b[0m\u001b[1m \u001b[0m                                                     │\n",
       "│   43  \u001b[38;5;71m \u001b[0m\u001b[38;5;71mPX14A6G \u001b[0m\u001b[38;5;71m \u001b[0m \u001b[38;5;39m \u001b[0m\u001b[38;5;39m2024-02-01\u001b[0m\u001b[38;5;39m \u001b[0m  0001096906-24-000149                                                             │\n",
       "│  \u001b[1m \u001b[0m\u001b[1m44\u001b[0m\u001b[1m \u001b[0m \u001b[1;38;5;71m \u001b[0m\u001b[1;38;5;71mPX14A6G \u001b[0m\u001b[1;38;5;71m \u001b[0m \u001b[1;38;5;39m \u001b[0m\u001b[1;38;5;39m2024-02-01\u001b[0m\u001b[1;38;5;39m \u001b[0m \u001b[1m \u001b[0m\u001b[1m0001096906-24-000148\u001b[0m\u001b[1m \u001b[0m \u001b[1m \u001b[0m\u001b[1m    \u001b[0m\u001b[1m \u001b[0m                                                     │\n",
       "│   45  \u001b[38;5;71m \u001b[0m\u001b[38;5;71mPX14A6G \u001b[0m\u001b[38;5;71m \u001b[0m \u001b[38;5;39m \u001b[0m\u001b[38;5;39m2024-02-01\u001b[0m\u001b[38;5;39m \u001b[0m  0001096906-24-000147                                                             │\n",
       "│  \u001b[1m \u001b[0m\u001b[1m46\u001b[0m\u001b[1m \u001b[0m \u001b[1;38;5;71m \u001b[0m\u001b[1;38;5;71mPX14A6G \u001b[0m\u001b[1;38;5;71m \u001b[0m \u001b[1;38;5;39m \u001b[0m\u001b[1;38;5;39m2024-02-01\u001b[0m\u001b[1;38;5;39m \u001b[0m \u001b[1m \u001b[0m\u001b[1m0001096906-24-000145\u001b[0m\u001b[1m \u001b[0m \u001b[1m \u001b[0m\u001b[1m    \u001b[0m\u001b[1m \u001b[0m                                                     │\n",
       "│   47  \u001b[38;5;71m \u001b[0m\u001b[38;5;71mPX14A6G \u001b[0m\u001b[38;5;71m \u001b[0m \u001b[38;5;39m \u001b[0m\u001b[38;5;39m2024-01-22\u001b[0m\u001b[38;5;39m \u001b[0m  0001214659-24-001028                                                             │\n",
       "│  \u001b[1m \u001b[0m\u001b[1m48\u001b[0m\u001b[1m \u001b[0m \u001b[1;38;5;71m \u001b[0m\u001b[1;38;5;71m25-NSE  \u001b[0m\u001b[1;38;5;71m \u001b[0m \u001b[1;38;5;39m \u001b[0m\u001b[1;38;5;39m2024-01-17\u001b[0m\u001b[1;38;5;39m \u001b[0m \u001b[1m \u001b[0m\u001b[1m0001354457-24-000017\u001b[0m\u001b[1m \u001b[0m \u001b[1m \u001b[0m\u001b[1m    \u001b[0m\u001b[1m \u001b[0m                                                     │\n",
       "│   49  \u001b[38;5;71m \u001b[0m\u001b[38;5;71mDEFA14A \u001b[0m\u001b[38;5;71m \u001b[0m \u001b[38;5;39m \u001b[0m\u001b[38;5;39m2024-01-11\u001b[0m\u001b[38;5;39m \u001b[0m  0001308179-24-000011                                                             │\n",
       "│                                                                                                                 │\n",
       "│ Showing 50 filings of 2,060 total                                                                               │\n",
       "╰─────────────────────────────────────────────────────────────────────────────────────────────────────────────────╯"
      ]
     },
     "execution_count": 32,
     "metadata": {},
     "output_type": "execute_result"
    }
   ],
   "source": [
    "company.get_filings()"
   ]
  },
  {
   "cell_type": "markdown",
   "id": "25a18820",
   "metadata": {},
   "source": [
    "## Visualization"
   ]
  },
  {
   "cell_type": "code",
   "execution_count": 6,
   "id": "4b810b7c",
   "metadata": {},
   "outputs": [
    {
     "name": "stdout",
     "output_type": "stream",
     "text": [
      "Requirement already satisfied: edgartools in c:\\users\\risha\\anaconda3\\lib\\site-packages (2.21.0)\n",
      "Requirement already satisfied: beautifulsoup4>=4.10.0 in c:\\users\\risha\\appdata\\roaming\\python\\python311\\site-packages (from edgartools) (4.12.2)\n",
      "Requirement already satisfied: charset-normalizer>=2.1.1 in c:\\users\\risha\\anaconda3\\lib\\site-packages (from edgartools) (3.3.2)\n",
      "Requirement already satisfied: fastcore>=1.5.29 in c:\\users\\risha\\anaconda3\\lib\\site-packages (from edgartools) (1.5.33)\n",
      "Requirement already satisfied: httpx>=0.25.0 in c:\\users\\risha\\anaconda3\\lib\\site-packages (from edgartools) (0.26.0)\n",
      "Requirement already satisfied: humanize>=4.0.0 in c:\\users\\risha\\anaconda3\\lib\\site-packages (from edgartools) (4.9.0)\n",
      "Requirement already satisfied: lxml>=4.4 in c:\\users\\risha\\anaconda3\\lib\\site-packages (from edgartools) (4.9.3)\n",
      "Requirement already satisfied: pandas>=2.0.0 in c:\\users\\risha\\anaconda3\\lib\\site-packages (from edgartools) (2.1.4)\n",
      "Requirement already satisfied: pyarrow>=14.0.0 in c:\\users\\risha\\anaconda3\\lib\\site-packages (from edgartools) (14.0.2)\n",
      "Requirement already satisfied: pydantic>=2.0.0 in c:\\users\\risha\\anaconda3\\lib\\site-packages (from edgartools) (2.7.1)\n",
      "Requirement already satisfied: rank-bm25==0.2.1 in c:\\users\\risha\\anaconda3\\lib\\site-packages (from edgartools) (0.2.1)\n",
      "Requirement already satisfied: retry>=0.9.2 in c:\\users\\risha\\anaconda3\\lib\\site-packages (from edgartools) (0.9.2)\n",
      "Requirement already satisfied: rich>=13.0.0 in c:\\users\\risha\\anaconda3\\lib\\site-packages (from edgartools) (13.3.5)\n",
      "Requirement already satisfied: tabulate>=0.9.0 in c:\\users\\risha\\anaconda3\\lib\\site-packages (from edgartools) (0.9.0)\n",
      "Requirement already satisfied: textdistance>=4.5.0 in c:\\users\\risha\\anaconda3\\lib\\site-packages (from edgartools) (4.6.2)\n",
      "Requirement already satisfied: numpy in c:\\users\\risha\\anaconda3\\lib\\site-packages (from rank-bm25==0.2.1->edgartools) (1.26.4)\n",
      "Requirement already satisfied: soupsieve>1.2 in c:\\users\\risha\\appdata\\roaming\\python\\python311\\site-packages (from beautifulsoup4>=4.10.0->edgartools) (2.4.1)\n",
      "Requirement already satisfied: packaging in c:\\users\\risha\\anaconda3\\lib\\site-packages (from fastcore>=1.5.29->edgartools) (23.2)\n",
      "Requirement already satisfied: anyio in c:\\users\\risha\\appdata\\roaming\\python\\python311\\site-packages (from httpx>=0.25.0->edgartools) (3.7.1)\n",
      "Requirement already satisfied: certifi in c:\\users\\risha\\appdata\\roaming\\python\\python311\\site-packages (from httpx>=0.25.0->edgartools) (2023.7.22)\n",
      "Requirement already satisfied: httpcore==1.* in c:\\users\\risha\\anaconda3\\lib\\site-packages (from httpx>=0.25.0->edgartools) (1.0.2)\n",
      "Requirement already satisfied: idna in c:\\users\\risha\\appdata\\roaming\\python\\python311\\site-packages (from httpx>=0.25.0->edgartools) (3.4)\n",
      "Requirement already satisfied: sniffio in c:\\users\\risha\\appdata\\roaming\\python\\python311\\site-packages (from httpx>=0.25.0->edgartools) (1.3.0)\n",
      "Requirement already satisfied: h11<0.15,>=0.13 in c:\\users\\risha\\anaconda3\\lib\\site-packages (from httpcore==1.*->httpx>=0.25.0->edgartools) (0.14.0)\n",
      "Requirement already satisfied: python-dateutil>=2.8.2 in c:\\users\\risha\\appdata\\roaming\\python\\python311\\site-packages (from pandas>=2.0.0->edgartools) (2.8.2)\n",
      "Requirement already satisfied: pytz>=2020.1 in c:\\users\\risha\\anaconda3\\lib\\site-packages (from pandas>=2.0.0->edgartools) (2023.3.post1)\n",
      "Requirement already satisfied: tzdata>=2022.1 in c:\\users\\risha\\anaconda3\\lib\\site-packages (from pandas>=2.0.0->edgartools) (2023.3)\n",
      "Requirement already satisfied: annotated-types>=0.4.0 in c:\\users\\risha\\anaconda3\\lib\\site-packages (from pydantic>=2.0.0->edgartools) (0.6.0)\n",
      "Requirement already satisfied: pydantic-core==2.18.2 in c:\\users\\risha\\anaconda3\\lib\\site-packages (from pydantic>=2.0.0->edgartools) (2.18.2)\n",
      "Requirement already satisfied: typing-extensions>=4.6.1 in c:\\users\\risha\\anaconda3\\lib\\site-packages (from pydantic>=2.0.0->edgartools) (4.9.0)\n",
      "Requirement already satisfied: decorator>=3.4.2 in c:\\users\\risha\\appdata\\roaming\\python\\python311\\site-packages (from retry>=0.9.2->edgartools) (5.1.1)\n",
      "Requirement already satisfied: py<2.0.0,>=1.4.26 in c:\\users\\risha\\anaconda3\\lib\\site-packages (from retry>=0.9.2->edgartools) (1.11.0)\n",
      "Requirement already satisfied: markdown-it-py<3.0.0,>=2.2.0 in c:\\users\\risha\\anaconda3\\lib\\site-packages (from rich>=13.0.0->edgartools) (2.2.0)\n",
      "Requirement already satisfied: pygments<3.0.0,>=2.13.0 in c:\\users\\risha\\appdata\\roaming\\python\\python311\\site-packages (from rich>=13.0.0->edgartools) (2.15.1)\n",
      "Requirement already satisfied: mdurl~=0.1 in c:\\users\\risha\\anaconda3\\lib\\site-packages (from markdown-it-py<3.0.0,>=2.2.0->rich>=13.0.0->edgartools) (0.1.0)\n",
      "Requirement already satisfied: six>=1.5 in c:\\users\\risha\\appdata\\roaming\\python\\python311\\site-packages (from python-dateutil>=2.8.2->pandas>=2.0.0->edgartools) (1.16.0)\n"
     ]
    },
    {
     "name": "stderr",
     "output_type": "stream",
     "text": [
      "WARNING: Ignoring invalid distribution ~rllib3 (C:\\Users\\risha\\AppData\\Roaming\\Python\\Python311\\site-packages)\n",
      "WARNING: Ignoring invalid distribution ~rllib3 (C:\\Users\\risha\\AppData\\Roaming\\Python\\Python311\\site-packages)\n",
      "WARNING: Ignoring invalid distribution ~rllib3 (C:\\Users\\risha\\AppData\\Roaming\\Python\\Python311\\site-packages)\n",
      "WARNING: Ignoring invalid distribution ~rllib3 (C:\\Users\\risha\\AppData\\Roaming\\Python\\Python311\\site-packages)\n",
      "WARNING: Ignoring invalid distribution ~rllib3 (C:\\Users\\risha\\AppData\\Roaming\\Python\\Python311\\site-packages)\n",
      "WARNING: Ignoring invalid distribution ~rllib3 (C:\\Users\\risha\\AppData\\Roaming\\Python\\Python311\\site-packages)\n"
     ]
    }
   ],
   "source": [
    "!pip install edgartools"
   ]
  },
  {
   "cell_type": "code",
   "execution_count": 2,
   "id": "82ca526a",
   "metadata": {},
   "outputs": [
    {
     "ename": "ImportError",
     "evalue": "cannot import name 'Filing' from 'edgar' (C:\\Users\\risha\\anaconda3\\Lib\\site-packages\\edgar\\__init__.py)",
     "output_type": "error",
     "traceback": [
      "\u001b[1;31m---------------------------------------------------------------------------\u001b[0m",
      "\u001b[1;31mImportError\u001b[0m                               Traceback (most recent call last)",
      "Cell \u001b[1;32mIn[2], line 1\u001b[0m\n\u001b[1;32m----> 1\u001b[0m \u001b[38;5;28;01mfrom\u001b[39;00m \u001b[38;5;21;01medgar\u001b[39;00m \u001b[38;5;28;01mimport\u001b[39;00m \u001b[38;5;241m*\u001b[39m\n",
      "File \u001b[1;32m~\\anaconda3\\Lib\\site-packages\\edgar\\muniadvisors.py:14\u001b[0m\n\u001b[0;32m     11\u001b[0m \u001b[38;5;28;01mfrom\u001b[39;00m \u001b[38;5;21;01mrich\u001b[39;00m\u001b[38;5;21;01m.\u001b[39;00m\u001b[38;5;21;01mtable\u001b[39;00m \u001b[38;5;28;01mimport\u001b[39;00m Table\n\u001b[0;32m     12\u001b[0m \u001b[38;5;28;01mfrom\u001b[39;00m \u001b[38;5;21;01mrich\u001b[39;00m\u001b[38;5;21;01m.\u001b[39;00m\u001b[38;5;21;01mtext\u001b[39;00m \u001b[38;5;28;01mimport\u001b[39;00m Text\n\u001b[1;32m---> 14\u001b[0m \u001b[38;5;28;01mfrom\u001b[39;00m \u001b[38;5;21;01medgar\u001b[39;00m \u001b[38;5;28;01mimport\u001b[39;00m Filing\n\u001b[0;32m     15\u001b[0m \u001b[38;5;28;01mfrom\u001b[39;00m \u001b[38;5;21;01medgar\u001b[39;00m\u001b[38;5;21;01m.\u001b[39;00m\u001b[38;5;21;01m_party\u001b[39;00m \u001b[38;5;28;01mimport\u001b[39;00m Name, Address\n\u001b[0;32m     16\u001b[0m \u001b[38;5;28;01mfrom\u001b[39;00m \u001b[38;5;21;01medgar\u001b[39;00m\u001b[38;5;21;01m.\u001b[39;00m\u001b[38;5;21;01m_rich\u001b[39;00m \u001b[38;5;28;01mimport\u001b[39;00m repr_rich\n",
      "\u001b[1;31mImportError\u001b[0m: cannot import name 'Filing' from 'edgar' (C:\\Users\\risha\\anaconda3\\Lib\\site-packages\\edgar\\__init__.py)"
     ]
    }
   ],
   "source": [
    "from edgar import *"
   ]
  },
  {
   "cell_type": "code",
   "execution_count": 10,
   "id": "ecd031fd",
   "metadata": {},
   "outputs": [
    {
     "name": "stdout",
     "output_type": "stream",
     "text": [
      "Requirement already satisfied: edgar in c:\\users\\risha\\anaconda3\\lib\\site-packages (5.4.3)\n",
      "Requirement already satisfied: requests in c:\\users\\risha\\appdata\\roaming\\python\\python311\\site-packages (from edgar) (2.31.0)\n",
      "Requirement already satisfied: lxml in c:\\users\\risha\\anaconda3\\lib\\site-packages (from edgar) (4.9.3)\n",
      "Requirement already satisfied: tqdm in c:\\users\\risha\\anaconda3\\lib\\site-packages (from edgar) (4.65.0)\n",
      "Requirement already satisfied: rapidfuzz in c:\\users\\risha\\anaconda3\\lib\\site-packages (from edgar) (3.9.0)\n",
      "Requirement already satisfied: charset-normalizer<4,>=2 in c:\\users\\risha\\anaconda3\\lib\\site-packages (from requests->edgar) (3.3.2)\n",
      "Requirement already satisfied: idna<4,>=2.5 in c:\\users\\risha\\appdata\\roaming\\python\\python311\\site-packages (from requests->edgar) (3.4)\n",
      "Collecting urllib3<3,>=1.21.1 (from requests->edgar)\n",
      "  Using cached urllib3-2.2.1-py3-none-any.whl.metadata (6.4 kB)\n",
      "Requirement already satisfied: certifi>=2017.4.17 in c:\\users\\risha\\appdata\\roaming\\python\\python311\\site-packages (from requests->edgar) (2023.7.22)\n",
      "Requirement already satisfied: colorama in c:\\users\\risha\\appdata\\roaming\\python\\python311\\site-packages (from tqdm->edgar) (0.4.6)\n",
      "Using cached urllib3-2.2.1-py3-none-any.whl (121 kB)\n",
      "Installing collected packages: urllib3\n",
      "Successfully installed urllib3-2.0.7\n",
      "Note: you may need to restart the kernel to use updated packages.\n"
     ]
    },
    {
     "name": "stderr",
     "output_type": "stream",
     "text": [
      "WARNING: Ignoring invalid distribution ~rllib3 (C:\\Users\\risha\\AppData\\Roaming\\Python\\Python311\\site-packages)\n",
      "WARNING: Ignoring invalid distribution ~rllib3 (C:\\Users\\risha\\AppData\\Roaming\\Python\\Python311\\site-packages)\n",
      "WARNING: Ignoring invalid distribution ~rllib3 (C:\\Users\\risha\\AppData\\Roaming\\Python\\Python311\\site-packages)\n",
      "ERROR: pip's dependency resolver does not currently take into account all the packages that are installed. This behaviour is the source of the following dependency conflicts.\n",
      "conda-repo-cli 1.0.75 requires requests_mock, which is not installed.\n",
      "anaconda-client 1.12.3 requires platformdirs<5.0,>=3.10.0, but you have platformdirs 3.9.1 which is incompatible.\n",
      "botocore 1.31.64 requires urllib3<2.1,>=1.25.4; python_version >= \"3.10\", but you have urllib3 2.2.1 which is incompatible.\n",
      "conda 24.4.0 requires platformdirs>=3.10.0, but you have platformdirs 3.9.1 which is incompatible.\n",
      "conda-build 24.1.2 requires jsonschema>=4.19, but you have jsonschema 4.18.4 which is incompatible.\n",
      "conda-repo-cli 1.0.75 requires clyent==1.2.1, but you have clyent 1.2.2 which is incompatible.\n",
      "WARNING: Ignoring invalid distribution ~rllib3 (C:\\Users\\risha\\AppData\\Roaming\\Python\\Python311\\site-packages)\n",
      "WARNING: Ignoring invalid distribution ~rllib3 (C:\\Users\\risha\\AppData\\Roaming\\Python\\Python311\\site-packages)\n",
      "WARNING: Ignoring invalid distribution ~rllib3 (C:\\Users\\risha\\AppData\\Roaming\\Python\\Python311\\site-packages)\n"
     ]
    }
   ],
   "source": [
    "pip install --upgrade edgar"
   ]
  },
  {
   "cell_type": "code",
   "execution_count": 1,
   "id": "81166e5d",
   "metadata": {},
   "outputs": [
    {
     "ename": "ImportError",
     "evalue": "cannot import name 'Filing' from 'edgar' (C:\\Users\\risha\\anaconda3\\Lib\\site-packages\\edgar\\__init__.py)",
     "output_type": "error",
     "traceback": [
      "\u001b[1;31m---------------------------------------------------------------------------\u001b[0m",
      "\u001b[1;31mImportError\u001b[0m                               Traceback (most recent call last)",
      "Cell \u001b[1;32mIn[1], line 1\u001b[0m\n\u001b[1;32m----> 1\u001b[0m \u001b[38;5;28;01mfrom\u001b[39;00m \u001b[38;5;21;01medgar\u001b[39;00m \u001b[38;5;28;01mimport\u001b[39;00m \u001b[38;5;241m*\u001b[39m\n\u001b[0;32m      3\u001b[0m \u001b[38;5;66;03m# Tell the SEC who you are\u001b[39;00m\n\u001b[0;32m      4\u001b[0m set_identity(\u001b[38;5;124m\"\u001b[39m\u001b[38;5;124mMichael Mccallum mike.mccalum@indigo.com\u001b[39m\u001b[38;5;124m\"\u001b[39m)\n",
      "File \u001b[1;32m~\\anaconda3\\Lib\\site-packages\\edgar\\muniadvisors.py:14\u001b[0m\n\u001b[0;32m     11\u001b[0m \u001b[38;5;28;01mfrom\u001b[39;00m \u001b[38;5;21;01mrich\u001b[39;00m\u001b[38;5;21;01m.\u001b[39;00m\u001b[38;5;21;01mtable\u001b[39;00m \u001b[38;5;28;01mimport\u001b[39;00m Table\n\u001b[0;32m     12\u001b[0m \u001b[38;5;28;01mfrom\u001b[39;00m \u001b[38;5;21;01mrich\u001b[39;00m\u001b[38;5;21;01m.\u001b[39;00m\u001b[38;5;21;01mtext\u001b[39;00m \u001b[38;5;28;01mimport\u001b[39;00m Text\n\u001b[1;32m---> 14\u001b[0m \u001b[38;5;28;01mfrom\u001b[39;00m \u001b[38;5;21;01medgar\u001b[39;00m \u001b[38;5;28;01mimport\u001b[39;00m Filing\n\u001b[0;32m     15\u001b[0m \u001b[38;5;28;01mfrom\u001b[39;00m \u001b[38;5;21;01medgar\u001b[39;00m\u001b[38;5;21;01m.\u001b[39;00m\u001b[38;5;21;01m_party\u001b[39;00m \u001b[38;5;28;01mimport\u001b[39;00m Name, Address\n\u001b[0;32m     16\u001b[0m \u001b[38;5;28;01mfrom\u001b[39;00m \u001b[38;5;21;01medgar\u001b[39;00m\u001b[38;5;21;01m.\u001b[39;00m\u001b[38;5;21;01m_rich\u001b[39;00m \u001b[38;5;28;01mimport\u001b[39;00m repr_rich\n",
      "\u001b[1;31mImportError\u001b[0m: cannot import name 'Filing' from 'edgar' (C:\\Users\\risha\\anaconda3\\Lib\\site-packages\\edgar\\__init__.py)"
     ]
    }
   ],
   "source": [
    "from edgar import *\n",
    "\n",
    "# Tell the SEC who you are\n",
    "set_identity(\"Michael Mccallum mike.mccalum@indigo.com\")\n",
    "\n",
    "filings = get_filings()"
   ]
  },
  {
   "cell_type": "code",
   "execution_count": 7,
   "id": "130ca2d8",
   "metadata": {},
   "outputs": [
    {
     "ename": "NameError",
     "evalue": "name 'set_identity' is not defined",
     "output_type": "error",
     "traceback": [
      "\u001b[1;31m---------------------------------------------------------------------------\u001b[0m",
      "\u001b[1;31mNameError\u001b[0m                                 Traceback (most recent call last)",
      "Cell \u001b[1;32mIn[7], line 1\u001b[0m\n\u001b[1;32m----> 1\u001b[0m \u001b[43mset_identity\u001b[49m(\u001b[38;5;124m\"\u001b[39m\u001b[38;5;124mRishabh Bhati rishabhbhati478@gmail.com\u001b[39m\u001b[38;5;124m\"\u001b[39m)\n\u001b[0;32m      2\u001b[0m filings \u001b[38;5;241m=\u001b[39m get_filings()\n",
      "\u001b[1;31mNameError\u001b[0m: name 'set_identity' is not defined"
     ]
    }
   ],
   "source": [
    "set_identity(\"Rishabh Bhati rishabhbhati478@gmail.com\")\n",
    "filings = get_filings()"
   ]
  },
  {
   "cell_type": "code",
   "execution_count": 4,
   "id": "b70d06db",
   "metadata": {},
   "outputs": [
    {
     "data": {
      "text/html": [
       "<div>\n",
       "<style scoped>\n",
       "    .dataframe tbody tr th:only-of-type {\n",
       "        vertical-align: middle;\n",
       "    }\n",
       "\n",
       "    .dataframe tbody tr th {\n",
       "        vertical-align: top;\n",
       "    }\n",
       "\n",
       "    .dataframe thead th {\n",
       "        text-align: right;\n",
       "    }\n",
       "</style>\n",
       "<table border=\"1\" class=\"dataframe\">\n",
       "  <thead>\n",
       "    <tr style=\"text-align: right;\">\n",
       "      <th></th>\n",
       "      <th>2023-09-30</th>\n",
       "      <th>2022-09-24</th>\n",
       "      <th>2021-09-25</th>\n",
       "    </tr>\n",
       "    <tr>\n",
       "      <th>Fact</th>\n",
       "      <th></th>\n",
       "      <th></th>\n",
       "      <th></th>\n",
       "    </tr>\n",
       "  </thead>\n",
       "  <tbody>\n",
       "    <tr>\n",
       "      <th>GrossProfit</th>\n",
       "      <td>169148000000</td>\n",
       "      <td>170782000000</td>\n",
       "      <td>152836000000</td>\n",
       "    </tr>\n",
       "    <tr>\n",
       "      <th>ResearchAndDevelopmentExpense</th>\n",
       "      <td>29915000000</td>\n",
       "      <td>26251000000</td>\n",
       "      <td>21914000000</td>\n",
       "    </tr>\n",
       "    <tr>\n",
       "      <th>OperatingExpenses</th>\n",
       "      <td>54847000000</td>\n",
       "      <td>51345000000</td>\n",
       "      <td>43887000000</td>\n",
       "    </tr>\n",
       "    <tr>\n",
       "      <th>OperatingIncomeLoss</th>\n",
       "      <td>114301000000</td>\n",
       "      <td>119437000000</td>\n",
       "      <td>108949000000</td>\n",
       "    </tr>\n",
       "    <tr>\n",
       "      <th>InterestExpense</th>\n",
       "      <td>3933000000</td>\n",
       "      <td>2931000000</td>\n",
       "      <td>2645000000</td>\n",
       "    </tr>\n",
       "    <tr>\n",
       "      <th>NonoperatingIncomeExpense</th>\n",
       "      <td>-565000000</td>\n",
       "      <td>-334000000</td>\n",
       "      <td>258000000</td>\n",
       "    </tr>\n",
       "    <tr>\n",
       "      <th>IncomeLossFromContinuingOperationsBeforeIncomeTaxesExtraordinaryItemsNoncontrollingInterest</th>\n",
       "      <td>113736000000</td>\n",
       "      <td>119103000000</td>\n",
       "      <td>109207000000</td>\n",
       "    </tr>\n",
       "    <tr>\n",
       "      <th>IncomeTaxExpenseBenefit</th>\n",
       "      <td>16741000000</td>\n",
       "      <td>19300000000</td>\n",
       "      <td>14527000000</td>\n",
       "    </tr>\n",
       "    <tr>\n",
       "      <th>NetIncomeLoss</th>\n",
       "      <td>96995000000</td>\n",
       "      <td>99803000000</td>\n",
       "      <td>94680000000</td>\n",
       "    </tr>\n",
       "    <tr>\n",
       "      <th>EarningsPerShareBasic</th>\n",
       "      <td>6.16</td>\n",
       "      <td>6.15</td>\n",
       "      <td>5.67</td>\n",
       "    </tr>\n",
       "    <tr>\n",
       "      <th>EarningsPerShareDiluted</th>\n",
       "      <td>6.13</td>\n",
       "      <td>6.11</td>\n",
       "      <td>5.61</td>\n",
       "    </tr>\n",
       "    <tr>\n",
       "      <th>WeightedAverageNumberOfSharesOutstandingBasic</th>\n",
       "      <td>15744231000</td>\n",
       "      <td>16215963000</td>\n",
       "      <td>16701272000</td>\n",
       "    </tr>\n",
       "    <tr>\n",
       "      <th>WeightedAverageNumberOfDilutedSharesOutstanding</th>\n",
       "      <td>15812547000</td>\n",
       "      <td>16325819000</td>\n",
       "      <td>16864919000</td>\n",
       "    </tr>\n",
       "  </tbody>\n",
       "</table>\n",
       "</div>"
      ],
      "text/plain": [
       "                                                      2023-09-30  \\\n",
       "Fact                                                               \n",
       "GrossProfit                                         169148000000   \n",
       "ResearchAndDevelopmentExpense                        29915000000   \n",
       "OperatingExpenses                                    54847000000   \n",
       "OperatingIncomeLoss                                 114301000000   \n",
       "InterestExpense                                       3933000000   \n",
       "NonoperatingIncomeExpense                             -565000000   \n",
       "IncomeLossFromContinuingOperationsBeforeIncomeT...  113736000000   \n",
       "IncomeTaxExpenseBenefit                              16741000000   \n",
       "NetIncomeLoss                                        96995000000   \n",
       "EarningsPerShareBasic                                       6.16   \n",
       "EarningsPerShareDiluted                                     6.13   \n",
       "WeightedAverageNumberOfSharesOutstandingBasic        15744231000   \n",
       "WeightedAverageNumberOfDilutedSharesOutstanding      15812547000   \n",
       "\n",
       "                                                      2022-09-24    2021-09-25  \n",
       "Fact                                                                            \n",
       "GrossProfit                                         170782000000  152836000000  \n",
       "ResearchAndDevelopmentExpense                        26251000000   21914000000  \n",
       "OperatingExpenses                                    51345000000   43887000000  \n",
       "OperatingIncomeLoss                                 119437000000  108949000000  \n",
       "InterestExpense                                       2931000000    2645000000  \n",
       "NonoperatingIncomeExpense                             -334000000     258000000  \n",
       "IncomeLossFromContinuingOperationsBeforeIncomeT...  119103000000  109207000000  \n",
       "IncomeTaxExpenseBenefit                              19300000000   14527000000  \n",
       "NetIncomeLoss                                        99803000000   94680000000  \n",
       "EarningsPerShareBasic                                       6.15          5.67  \n",
       "EarningsPerShareDiluted                                     6.11          5.61  \n",
       "WeightedAverageNumberOfSharesOutstandingBasic        16215963000   16701272000  \n",
       "WeightedAverageNumberOfDilutedSharesOutstanding      16325819000   16864919000  "
      ]
     },
     "execution_count": 4,
     "metadata": {},
     "output_type": "execute_result"
    }
   ],
   "source": [
    "tenk = Company(\"AAPL\").get_filings(form=\"10-K\").latest(1).obj()\n",
    "financials = tenk.financials\n",
    "income_statement_df = financials.income_statement.to_dataframe()\n",
    "income_statement_df"
   ]
  },
  {
   "cell_type": "code",
   "execution_count": 1,
   "id": "75379a40",
   "metadata": {},
   "outputs": [
    {
     "ename": "NameError",
     "evalue": "name 'Company' is not defined",
     "output_type": "error",
     "traceback": [
      "\u001b[1;31m---------------------------------------------------------------------------\u001b[0m",
      "\u001b[1;31mNameError\u001b[0m                                 Traceback (most recent call last)",
      "Cell \u001b[1;32mIn[1], line 1\u001b[0m\n\u001b[1;32m----> 1\u001b[0m tenk \u001b[38;5;241m=\u001b[39m \u001b[43mCompany\u001b[49m(\u001b[38;5;124m\"\u001b[39m\u001b[38;5;124m0000320193\u001b[39m\u001b[38;5;124m\"\u001b[39m)\u001b[38;5;241m.\u001b[39mget_filings(form\u001b[38;5;241m=\u001b[39m\u001b[38;5;124m\"\u001b[39m\u001b[38;5;124m10-K\u001b[39m\u001b[38;5;124m\"\u001b[39m)\u001b[38;5;241m.\u001b[39mlatest(\u001b[38;5;241m1\u001b[39m)\u001b[38;5;241m.\u001b[39mobj()\n\u001b[0;32m      2\u001b[0m financials \u001b[38;5;241m=\u001b[39m tenk\u001b[38;5;241m.\u001b[39mfinancials\n\u001b[0;32m      3\u001b[0m income_statement_df \u001b[38;5;241m=\u001b[39m financials\u001b[38;5;241m.\u001b[39mincome_statement\u001b[38;5;241m.\u001b[39mto_dataframe()\n",
      "\u001b[1;31mNameError\u001b[0m: name 'Company' is not defined"
     ]
    }
   ],
   "source": [
    "tenk = Company(\"0000320193\").get_filings(form=\"10-K\").latest(1).obj()\n",
    "financials = tenk.financials\n",
    "income_statement_df = financials.income_statement.to_dataframe()\n",
    "income_statement_df"
   ]
  },
  {
   "cell_type": "code",
   "execution_count": 10,
   "id": "ae2f1c54",
   "metadata": {},
   "outputs": [],
   "source": [
    "df=income_statement_df"
   ]
  },
  {
   "cell_type": "code",
   "execution_count": 11,
   "id": "84ae65d7",
   "metadata": {},
   "outputs": [
    {
     "name": "stdout",
     "output_type": "stream",
     "text": [
      "Fact         GrossProfit ResearchAndDevelopmentExpense OperatingExpenses  \\\n",
      "2023-09-30  169148000000                   29915000000       54847000000   \n",
      "2022-09-24  170782000000                   26251000000       51345000000   \n",
      "2021-09-25  152836000000                   21914000000       43887000000   \n",
      "\n",
      "Fact       OperatingIncomeLoss InterestExpense NonoperatingIncomeExpense  \\\n",
      "2023-09-30        114301000000      3933000000                -565000000   \n",
      "2022-09-24        119437000000      2931000000                -334000000   \n",
      "2021-09-25        108949000000      2645000000                 258000000   \n",
      "\n",
      "Fact       IncomeLossFromContinuingOperationsBeforeIncomeTaxesExtraordinaryItemsNoncontrollingInterest  \\\n",
      "2023-09-30                                       113736000000                                            \n",
      "2022-09-24                                       119103000000                                            \n",
      "2021-09-25                                       109207000000                                            \n",
      "\n",
      "Fact       IncomeTaxExpenseBenefit NetIncomeLoss EarningsPerShareBasic  \\\n",
      "2023-09-30             16741000000   96995000000                  6.16   \n",
      "2022-09-24             19300000000   99803000000                  6.15   \n",
      "2021-09-25             14527000000   94680000000                  5.67   \n",
      "\n",
      "Fact       EarningsPerShareDiluted  \\\n",
      "2023-09-30                    6.13   \n",
      "2022-09-24                    6.11   \n",
      "2021-09-25                    5.61   \n",
      "\n",
      "Fact       WeightedAverageNumberOfSharesOutstandingBasic  \\\n",
      "2023-09-30                                   15744231000   \n",
      "2022-09-24                                   16215963000   \n",
      "2021-09-25                                   16701272000   \n",
      "\n",
      "Fact       WeightedAverageNumberOfDilutedSharesOutstanding  \n",
      "2023-09-30                                     15812547000  \n",
      "2022-09-24                                     16325819000  \n",
      "2021-09-25                                     16864919000  \n"
     ]
    }
   ],
   "source": [
    "df_transposed = df.transpose()\n",
    "print(df_transposed)"
   ]
  },
  {
   "cell_type": "code",
   "execution_count": 15,
   "id": "96c79e71",
   "metadata": {},
   "outputs": [
    {
     "name": "stdout",
     "output_type": "stream",
     "text": [
      "Requirement already satisfied: matplotlib in c:\\users\\risha\\anaconda3\\lib\\site-packages (3.8.0)"
     ]
    },
    {
     "name": "stderr",
     "output_type": "stream",
     "text": [
      "WARNING: Ignoring invalid distribution ~rllib3 (C:\\Users\\risha\\AppData\\Roaming\\Python\\Python311\\site-packages)\n",
      "WARNING: Ignoring invalid distribution ~rllib3 (C:\\Users\\risha\\AppData\\Roaming\\Python\\Python311\\site-packages)\n",
      "WARNING: Ignoring invalid distribution ~rllib3 (C:\\Users\\risha\\AppData\\Roaming\\Python\\Python311\\site-packages)\n",
      "WARNING: Ignoring invalid distribution ~rllib3 (C:\\Users\\risha\\AppData\\Roaming\\Python\\Python311\\site-packages)\n",
      "WARNING: Ignoring invalid distribution ~rllib3 (C:\\Users\\risha\\AppData\\Roaming\\Python\\Python311\\site-packages)\n",
      "WARNING: Ignoring invalid distribution ~rllib3 (C:\\Users\\risha\\AppData\\Roaming\\Python\\Python311\\site-packages)\n"
     ]
    },
    {
     "name": "stdout",
     "output_type": "stream",
     "text": [
      "\n",
      "Requirement already satisfied: contourpy>=1.0.1 in c:\\users\\risha\\anaconda3\\lib\\site-packages (from matplotlib) (1.2.0)\n",
      "Requirement already satisfied: cycler>=0.10 in c:\\users\\risha\\anaconda3\\lib\\site-packages (from matplotlib) (0.11.0)\n",
      "Requirement already satisfied: fonttools>=4.22.0 in c:\\users\\risha\\anaconda3\\lib\\site-packages (from matplotlib) (4.25.0)\n",
      "Requirement already satisfied: kiwisolver>=1.0.1 in c:\\users\\risha\\anaconda3\\lib\\site-packages (from matplotlib) (1.4.4)\n",
      "Requirement already satisfied: numpy<2,>=1.21 in c:\\users\\risha\\anaconda3\\lib\\site-packages (from matplotlib) (1.26.4)\n",
      "Requirement already satisfied: packaging>=20.0 in c:\\users\\risha\\anaconda3\\lib\\site-packages (from matplotlib) (23.2)\n",
      "Requirement already satisfied: pillow>=6.2.0 in c:\\users\\risha\\anaconda3\\lib\\site-packages (from matplotlib) (10.2.0)\n",
      "Requirement already satisfied: pyparsing>=2.3.1 in c:\\users\\risha\\anaconda3\\lib\\site-packages (from matplotlib) (3.0.9)\n",
      "Requirement already satisfied: python-dateutil>=2.7 in c:\\users\\risha\\appdata\\roaming\\python\\python311\\site-packages (from matplotlib) (2.8.2)\n",
      "Requirement already satisfied: six>=1.5 in c:\\users\\risha\\appdata\\roaming\\python\\python311\\site-packages (from python-dateutil>=2.7->matplotlib) (1.16.0)\n"
     ]
    }
   ],
   "source": [
    "!pip install matplotlib"
   ]
  },
  {
   "cell_type": "code",
   "execution_count": 18,
   "id": "7a9a73a9",
   "metadata": {},
   "outputs": [
    {
     "name": "stdout",
     "output_type": "stream",
     "text": [
      "Index(['2023-09-30', '2022-09-24', '2021-09-25'], dtype='object')\n"
     ]
    }
   ],
   "source": [
    "print(df.columns)"
   ]
  },
  {
   "cell_type": "code",
   "execution_count": 20,
   "id": "fd699c93",
   "metadata": {},
   "outputs": [
    {
     "name": "stdout",
     "output_type": "stream",
     "text": [
      "Index(['GrossProfit', 'ResearchAndDevelopmentExpense', 'OperatingExpenses',\n",
      "       'OperatingIncomeLoss', 'InterestExpense', 'NonoperatingIncomeExpense',\n",
      "       'IncomeLossFromContinuingOperationsBeforeIncomeTaxesExtraordinaryItemsNoncontrollingInterest',\n",
      "       'IncomeTaxExpenseBenefit', 'NetIncomeLoss', 'EarningsPerShareBasic',\n",
      "       'EarningsPerShareDiluted',\n",
      "       'WeightedAverageNumberOfSharesOutstandingBasic',\n",
      "       'WeightedAverageNumberOfDilutedSharesOutstanding'],\n",
      "      dtype='object', name='Fact')\n"
     ]
    }
   ],
   "source": [
    "print(df_transposed.columns)"
   ]
  },
  {
   "cell_type": "code",
   "execution_count": 21,
   "id": "aaad5110",
   "metadata": {},
   "outputs": [
    {
     "data": {
      "text/html": [
       "<pre style=\"white-space:pre;overflow-x:auto;line-height:normal;font-family:Menlo,'DejaVu Sans Mono',consolas,'Courier New',monospace\"><span style=\"color: #7fbfbf; text-decoration-color: #7fbfbf\">[02:13:42] </span><span style=\"color: #000080; text-decoration-color: #000080\">INFO    </span> Using categorical units to plot a list of strings that are all parsable as      <a href=\"file://C:\\Users\\risha\\anaconda3\\Lib\\site-packages\\matplotlib\\category.py\" target=\"_blank\"><span style=\"color: #7f7f7f; text-decoration-color: #7f7f7f\">category.py</span></a><span style=\"color: #7f7f7f; text-decoration-color: #7f7f7f\">:</span><a href=\"file://C:\\Users\\risha\\anaconda3\\Lib\\site-packages\\matplotlib\\category.py#223\" target=\"_blank\"><span style=\"color: #7f7f7f; text-decoration-color: #7f7f7f\">223</span></a>\n",
       "<span style=\"color: #7fbfbf; text-decoration-color: #7fbfbf\">           </span>         floats or dates. If these strings should be plotted as numbers, cast to the     <span style=\"color: #7f7f7f; text-decoration-color: #7f7f7f\">               </span>\n",
       "<span style=\"color: #7fbfbf; text-decoration-color: #7fbfbf\">           </span>         appropriate data type before plotting.                                          <span style=\"color: #7f7f7f; text-decoration-color: #7f7f7f\">               </span>\n",
       "</pre>\n"
      ],
      "text/plain": [
       "\u001b[2;36m[02:13:42]\u001b[0m\u001b[2;36m \u001b[0m\u001b[34mINFO    \u001b[0m Using categorical units to plot a list of strings that are all parsable as      \u001b]8;id=869858;file://C:\\Users\\risha\\anaconda3\\Lib\\site-packages\\matplotlib\\category.py\u001b\\\u001b[2mcategory.py\u001b[0m\u001b]8;;\u001b\\\u001b[2m:\u001b[0m\u001b]8;id=53928;file://C:\\Users\\risha\\anaconda3\\Lib\\site-packages\\matplotlib\\category.py#223\u001b\\\u001b[2m223\u001b[0m\u001b]8;;\u001b\\\n",
       "\u001b[2;36m           \u001b[0m         floats or dates. If these strings should be plotted as numbers, cast to the     \u001b[2m               \u001b[0m\n",
       "\u001b[2;36m           \u001b[0m         appropriate data type before plotting.                                          \u001b[2m               \u001b[0m\n"
      ]
     },
     "metadata": {},
     "output_type": "display_data"
    },
    {
     "data": {
      "text/html": [
       "<pre style=\"white-space:pre;overflow-x:auto;line-height:normal;font-family:Menlo,'DejaVu Sans Mono',consolas,'Courier New',monospace\"><span style=\"color: #7fbfbf; text-decoration-color: #7fbfbf\">           </span><span style=\"color: #000080; text-decoration-color: #000080\">INFO    </span> Using categorical units to plot a list of strings that are all parsable as      <a href=\"file://C:\\Users\\risha\\anaconda3\\Lib\\site-packages\\matplotlib\\category.py\" target=\"_blank\"><span style=\"color: #7f7f7f; text-decoration-color: #7f7f7f\">category.py</span></a><span style=\"color: #7f7f7f; text-decoration-color: #7f7f7f\">:</span><a href=\"file://C:\\Users\\risha\\anaconda3\\Lib\\site-packages\\matplotlib\\category.py#223\" target=\"_blank\"><span style=\"color: #7f7f7f; text-decoration-color: #7f7f7f\">223</span></a>\n",
       "<span style=\"color: #7fbfbf; text-decoration-color: #7fbfbf\">           </span>         floats or dates. If these strings should be plotted as numbers, cast to the     <span style=\"color: #7f7f7f; text-decoration-color: #7f7f7f\">               </span>\n",
       "<span style=\"color: #7fbfbf; text-decoration-color: #7fbfbf\">           </span>         appropriate data type before plotting.                                          <span style=\"color: #7f7f7f; text-decoration-color: #7f7f7f\">               </span>\n",
       "</pre>\n"
      ],
      "text/plain": [
       "\u001b[2;36m          \u001b[0m\u001b[2;36m \u001b[0m\u001b[34mINFO    \u001b[0m Using categorical units to plot a list of strings that are all parsable as      \u001b]8;id=115936;file://C:\\Users\\risha\\anaconda3\\Lib\\site-packages\\matplotlib\\category.py\u001b\\\u001b[2mcategory.py\u001b[0m\u001b]8;;\u001b\\\u001b[2m:\u001b[0m\u001b]8;id=55070;file://C:\\Users\\risha\\anaconda3\\Lib\\site-packages\\matplotlib\\category.py#223\u001b\\\u001b[2m223\u001b[0m\u001b]8;;\u001b\\\n",
       "\u001b[2;36m           \u001b[0m         floats or dates. If these strings should be plotted as numbers, cast to the     \u001b[2m               \u001b[0m\n",
       "\u001b[2;36m           \u001b[0m         appropriate data type before plotting.                                          \u001b[2m               \u001b[0m\n"
      ]
     },
     "metadata": {},
     "output_type": "display_data"
    },
    {
     "data": {
      "text/html": [
       "<pre style=\"white-space:pre;overflow-x:auto;line-height:normal;font-family:Menlo,'DejaVu Sans Mono',consolas,'Courier New',monospace\"><span style=\"color: #7fbfbf; text-decoration-color: #7fbfbf\">           </span><span style=\"color: #000080; text-decoration-color: #000080\">INFO    </span> Using categorical units to plot a list of strings that are all parsable as      <a href=\"file://C:\\Users\\risha\\anaconda3\\Lib\\site-packages\\matplotlib\\category.py\" target=\"_blank\"><span style=\"color: #7f7f7f; text-decoration-color: #7f7f7f\">category.py</span></a><span style=\"color: #7f7f7f; text-decoration-color: #7f7f7f\">:</span><a href=\"file://C:\\Users\\risha\\anaconda3\\Lib\\site-packages\\matplotlib\\category.py#223\" target=\"_blank\"><span style=\"color: #7f7f7f; text-decoration-color: #7f7f7f\">223</span></a>\n",
       "<span style=\"color: #7fbfbf; text-decoration-color: #7fbfbf\">           </span>         floats or dates. If these strings should be plotted as numbers, cast to the     <span style=\"color: #7f7f7f; text-decoration-color: #7f7f7f\">               </span>\n",
       "<span style=\"color: #7fbfbf; text-decoration-color: #7fbfbf\">           </span>         appropriate data type before plotting.                                          <span style=\"color: #7f7f7f; text-decoration-color: #7f7f7f\">               </span>\n",
       "</pre>\n"
      ],
      "text/plain": [
       "\u001b[2;36m          \u001b[0m\u001b[2;36m \u001b[0m\u001b[34mINFO    \u001b[0m Using categorical units to plot a list of strings that are all parsable as      \u001b]8;id=895094;file://C:\\Users\\risha\\anaconda3\\Lib\\site-packages\\matplotlib\\category.py\u001b\\\u001b[2mcategory.py\u001b[0m\u001b]8;;\u001b\\\u001b[2m:\u001b[0m\u001b]8;id=347098;file://C:\\Users\\risha\\anaconda3\\Lib\\site-packages\\matplotlib\\category.py#223\u001b\\\u001b[2m223\u001b[0m\u001b]8;;\u001b\\\n",
       "\u001b[2;36m           \u001b[0m         floats or dates. If these strings should be plotted as numbers, cast to the     \u001b[2m               \u001b[0m\n",
       "\u001b[2;36m           \u001b[0m         appropriate data type before plotting.                                          \u001b[2m               \u001b[0m\n"
      ]
     },
     "metadata": {},
     "output_type": "display_data"
    },
    {
     "data": {
      "text/html": [
       "<pre style=\"white-space:pre;overflow-x:auto;line-height:normal;font-family:Menlo,'DejaVu Sans Mono',consolas,'Courier New',monospace\"><span style=\"color: #7fbfbf; text-decoration-color: #7fbfbf\">           </span><span style=\"color: #000080; text-decoration-color: #000080\">INFO    </span> Using categorical units to plot a list of strings that are all parsable as      <a href=\"file://C:\\Users\\risha\\anaconda3\\Lib\\site-packages\\matplotlib\\category.py\" target=\"_blank\"><span style=\"color: #7f7f7f; text-decoration-color: #7f7f7f\">category.py</span></a><span style=\"color: #7f7f7f; text-decoration-color: #7f7f7f\">:</span><a href=\"file://C:\\Users\\risha\\anaconda3\\Lib\\site-packages\\matplotlib\\category.py#223\" target=\"_blank\"><span style=\"color: #7f7f7f; text-decoration-color: #7f7f7f\">223</span></a>\n",
       "<span style=\"color: #7fbfbf; text-decoration-color: #7fbfbf\">           </span>         floats or dates. If these strings should be plotted as numbers, cast to the     <span style=\"color: #7f7f7f; text-decoration-color: #7f7f7f\">               </span>\n",
       "<span style=\"color: #7fbfbf; text-decoration-color: #7fbfbf\">           </span>         appropriate data type before plotting.                                          <span style=\"color: #7f7f7f; text-decoration-color: #7f7f7f\">               </span>\n",
       "</pre>\n"
      ],
      "text/plain": [
       "\u001b[2;36m          \u001b[0m\u001b[2;36m \u001b[0m\u001b[34mINFO    \u001b[0m Using categorical units to plot a list of strings that are all parsable as      \u001b]8;id=164363;file://C:\\Users\\risha\\anaconda3\\Lib\\site-packages\\matplotlib\\category.py\u001b\\\u001b[2mcategory.py\u001b[0m\u001b]8;;\u001b\\\u001b[2m:\u001b[0m\u001b]8;id=768741;file://C:\\Users\\risha\\anaconda3\\Lib\\site-packages\\matplotlib\\category.py#223\u001b\\\u001b[2m223\u001b[0m\u001b]8;;\u001b\\\n",
       "\u001b[2;36m           \u001b[0m         floats or dates. If these strings should be plotted as numbers, cast to the     \u001b[2m               \u001b[0m\n",
       "\u001b[2;36m           \u001b[0m         appropriate data type before plotting.                                          \u001b[2m               \u001b[0m\n"
      ]
     },
     "metadata": {},
     "output_type": "display_data"
    },
    {
     "data": {
      "image/png": "[encoded data removed]",
      "text/plain": [
       "<Figure size 640x480 with 1 Axes>"
      ]
     },
     "metadata": {},
     "output_type": "display_data"
    }
   ],
   "source": [
    "import matplotlib.pyplot as plt\n",
    "\n",
    "# Get a specific column or rows you want to visualize (e.g., 'Total Revenue')\n",
    "column_to_plot = 'NetIncomeLoss'  # Replace with the desired column name\n",
    "\n",
    "# Plot the data as a line chart\n",
    "plt.plot(df_transposed.index, df_transposed[column_to_plot])\n",
    "\n",
    "# Customize the plot (optional)\n",
    "plt.xlabel('2023-09-30')\n",
    "plt.ylabel(column_to_plot)\n",
    "plt.title(f\"{column_to_plot} over Time\")\n",
    "plt.grid(True)\n",
    "\n",
    "# Display the plot\n",
    "plt.show()\n"
   ]
  },
  {
   "cell_type": "code",
   "execution_count": 22,
   "id": "6eb4a014",
   "metadata": {},
   "outputs": [
    {
     "data": {
      "text/html": [
       "<pre style=\"white-space:pre;overflow-x:auto;line-height:normal;font-family:Menlo,'DejaVu Sans Mono',consolas,'Courier New',monospace\"><span style=\"color: #7fbfbf; text-decoration-color: #7fbfbf\">[02:20:11] </span><span style=\"color: #000080; text-decoration-color: #000080\">INFO    </span> Using categorical units to plot a list of strings that are all parsable as      <a href=\"file://C:\\Users\\risha\\anaconda3\\Lib\\site-packages\\matplotlib\\category.py\" target=\"_blank\"><span style=\"color: #7f7f7f; text-decoration-color: #7f7f7f\">category.py</span></a><span style=\"color: #7f7f7f; text-decoration-color: #7f7f7f\">:</span><a href=\"file://C:\\Users\\risha\\anaconda3\\Lib\\site-packages\\matplotlib\\category.py#223\" target=\"_blank\"><span style=\"color: #7f7f7f; text-decoration-color: #7f7f7f\">223</span></a>\n",
       "<span style=\"color: #7fbfbf; text-decoration-color: #7fbfbf\">           </span>         floats or dates. If these strings should be plotted as numbers, cast to the     <span style=\"color: #7f7f7f; text-decoration-color: #7f7f7f\">               </span>\n",
       "<span style=\"color: #7fbfbf; text-decoration-color: #7fbfbf\">           </span>         appropriate data type before plotting.                                          <span style=\"color: #7f7f7f; text-decoration-color: #7f7f7f\">               </span>\n",
       "</pre>\n"
      ],
      "text/plain": [
       "\u001b[2;36m[02:20:11]\u001b[0m\u001b[2;36m \u001b[0m\u001b[34mINFO    \u001b[0m Using categorical units to plot a list of strings that are all parsable as      \u001b]8;id=603952;file://C:\\Users\\risha\\anaconda3\\Lib\\site-packages\\matplotlib\\category.py\u001b\\\u001b[2mcategory.py\u001b[0m\u001b]8;;\u001b\\\u001b[2m:\u001b[0m\u001b]8;id=933894;file://C:\\Users\\risha\\anaconda3\\Lib\\site-packages\\matplotlib\\category.py#223\u001b\\\u001b[2m223\u001b[0m\u001b]8;;\u001b\\\n",
       "\u001b[2;36m           \u001b[0m         floats or dates. If these strings should be plotted as numbers, cast to the     \u001b[2m               \u001b[0m\n",
       "\u001b[2;36m           \u001b[0m         appropriate data type before plotting.                                          \u001b[2m               \u001b[0m\n"
      ]
     },
     "metadata": {},
     "output_type": "display_data"
    },
    {
     "data": {
      "text/html": [
       "<pre style=\"white-space:pre;overflow-x:auto;line-height:normal;font-family:Menlo,'DejaVu Sans Mono',consolas,'Courier New',monospace\"><span style=\"color: #7fbfbf; text-decoration-color: #7fbfbf\">           </span><span style=\"color: #000080; text-decoration-color: #000080\">INFO    </span> Using categorical units to plot a list of strings that are all parsable as      <a href=\"file://C:\\Users\\risha\\anaconda3\\Lib\\site-packages\\matplotlib\\category.py\" target=\"_blank\"><span style=\"color: #7f7f7f; text-decoration-color: #7f7f7f\">category.py</span></a><span style=\"color: #7f7f7f; text-decoration-color: #7f7f7f\">:</span><a href=\"file://C:\\Users\\risha\\anaconda3\\Lib\\site-packages\\matplotlib\\category.py#223\" target=\"_blank\"><span style=\"color: #7f7f7f; text-decoration-color: #7f7f7f\">223</span></a>\n",
       "<span style=\"color: #7fbfbf; text-decoration-color: #7fbfbf\">           </span>         floats or dates. If these strings should be plotted as numbers, cast to the     <span style=\"color: #7f7f7f; text-decoration-color: #7f7f7f\">               </span>\n",
       "<span style=\"color: #7fbfbf; text-decoration-color: #7fbfbf\">           </span>         appropriate data type before plotting.                                          <span style=\"color: #7f7f7f; text-decoration-color: #7f7f7f\">               </span>\n",
       "</pre>\n"
      ],
      "text/plain": [
       "\u001b[2;36m          \u001b[0m\u001b[2;36m \u001b[0m\u001b[34mINFO    \u001b[0m Using categorical units to plot a list of strings that are all parsable as      \u001b]8;id=256777;file://C:\\Users\\risha\\anaconda3\\Lib\\site-packages\\matplotlib\\category.py\u001b\\\u001b[2mcategory.py\u001b[0m\u001b]8;;\u001b\\\u001b[2m:\u001b[0m\u001b]8;id=249172;file://C:\\Users\\risha\\anaconda3\\Lib\\site-packages\\matplotlib\\category.py#223\u001b\\\u001b[2m223\u001b[0m\u001b]8;;\u001b\\\n",
       "\u001b[2;36m           \u001b[0m         floats or dates. If these strings should be plotted as numbers, cast to the     \u001b[2m               \u001b[0m\n",
       "\u001b[2;36m           \u001b[0m         appropriate data type before plotting.                                          \u001b[2m               \u001b[0m\n"
      ]
     },
     "metadata": {},
     "output_type": "display_data"
    },
    {
     "data": {
      "text/html": [
       "<pre style=\"white-space:pre;overflow-x:auto;line-height:normal;font-family:Menlo,'DejaVu Sans Mono',consolas,'Courier New',monospace\"><span style=\"color: #7fbfbf; text-decoration-color: #7fbfbf\">           </span><span style=\"color: #000080; text-decoration-color: #000080\">INFO    </span> Using categorical units to plot a list of strings that are all parsable as      <a href=\"file://C:\\Users\\risha\\anaconda3\\Lib\\site-packages\\matplotlib\\category.py\" target=\"_blank\"><span style=\"color: #7f7f7f; text-decoration-color: #7f7f7f\">category.py</span></a><span style=\"color: #7f7f7f; text-decoration-color: #7f7f7f\">:</span><a href=\"file://C:\\Users\\risha\\anaconda3\\Lib\\site-packages\\matplotlib\\category.py#223\" target=\"_blank\"><span style=\"color: #7f7f7f; text-decoration-color: #7f7f7f\">223</span></a>\n",
       "<span style=\"color: #7fbfbf; text-decoration-color: #7fbfbf\">           </span>         floats or dates. If these strings should be plotted as numbers, cast to the     <span style=\"color: #7f7f7f; text-decoration-color: #7f7f7f\">               </span>\n",
       "<span style=\"color: #7fbfbf; text-decoration-color: #7fbfbf\">           </span>         appropriate data type before plotting.                                          <span style=\"color: #7f7f7f; text-decoration-color: #7f7f7f\">               </span>\n",
       "</pre>\n"
      ],
      "text/plain": [
       "\u001b[2;36m          \u001b[0m\u001b[2;36m \u001b[0m\u001b[34mINFO    \u001b[0m Using categorical units to plot a list of strings that are all parsable as      \u001b]8;id=208264;file://C:\\Users\\risha\\anaconda3\\Lib\\site-packages\\matplotlib\\category.py\u001b\\\u001b[2mcategory.py\u001b[0m\u001b]8;;\u001b\\\u001b[2m:\u001b[0m\u001b]8;id=776060;file://C:\\Users\\risha\\anaconda3\\Lib\\site-packages\\matplotlib\\category.py#223\u001b\\\u001b[2m223\u001b[0m\u001b]8;;\u001b\\\n",
       "\u001b[2;36m           \u001b[0m         floats or dates. If these strings should be plotted as numbers, cast to the     \u001b[2m               \u001b[0m\n",
       "\u001b[2;36m           \u001b[0m         appropriate data type before plotting.                                          \u001b[2m               \u001b[0m\n"
      ]
     },
     "metadata": {},
     "output_type": "display_data"
    },
    {
     "data": {
      "text/html": [
       "<pre style=\"white-space:pre;overflow-x:auto;line-height:normal;font-family:Menlo,'DejaVu Sans Mono',consolas,'Courier New',monospace\"><span style=\"color: #7fbfbf; text-decoration-color: #7fbfbf\">           </span><span style=\"color: #000080; text-decoration-color: #000080\">INFO    </span> Using categorical units to plot a list of strings that are all parsable as      <a href=\"file://C:\\Users\\risha\\anaconda3\\Lib\\site-packages\\matplotlib\\category.py\" target=\"_blank\"><span style=\"color: #7f7f7f; text-decoration-color: #7f7f7f\">category.py</span></a><span style=\"color: #7f7f7f; text-decoration-color: #7f7f7f\">:</span><a href=\"file://C:\\Users\\risha\\anaconda3\\Lib\\site-packages\\matplotlib\\category.py#223\" target=\"_blank\"><span style=\"color: #7f7f7f; text-decoration-color: #7f7f7f\">223</span></a>\n",
       "<span style=\"color: #7fbfbf; text-decoration-color: #7fbfbf\">           </span>         floats or dates. If these strings should be plotted as numbers, cast to the     <span style=\"color: #7f7f7f; text-decoration-color: #7f7f7f\">               </span>\n",
       "<span style=\"color: #7fbfbf; text-decoration-color: #7fbfbf\">           </span>         appropriate data type before plotting.                                          <span style=\"color: #7f7f7f; text-decoration-color: #7f7f7f\">               </span>\n",
       "</pre>\n"
      ],
      "text/plain": [
       "\u001b[2;36m          \u001b[0m\u001b[2;36m \u001b[0m\u001b[34mINFO    \u001b[0m Using categorical units to plot a list of strings that are all parsable as      \u001b]8;id=914720;file://C:\\Users\\risha\\anaconda3\\Lib\\site-packages\\matplotlib\\category.py\u001b\\\u001b[2mcategory.py\u001b[0m\u001b]8;;\u001b\\\u001b[2m:\u001b[0m\u001b]8;id=312027;file://C:\\Users\\risha\\anaconda3\\Lib\\site-packages\\matplotlib\\category.py#223\u001b\\\u001b[2m223\u001b[0m\u001b]8;;\u001b\\\n",
       "\u001b[2;36m           \u001b[0m         floats or dates. If these strings should be plotted as numbers, cast to the     \u001b[2m               \u001b[0m\n",
       "\u001b[2;36m           \u001b[0m         appropriate data type before plotting.                                          \u001b[2m               \u001b[0m\n"
      ]
     },
     "metadata": {},
     "output_type": "display_data"
    },
    {
     "data": {
      "image/png": "[encoded data removed]",
      "text/plain": [
       "<Figure size 640x480 with 1 Axes>"
      ]
     },
     "metadata": {},
     "output_type": "display_data"
    }
   ],
   "source": [
    "import matplotlib.pyplot as plt\n",
    "\n",
    "# Get a specific column or rows you want to visualize (e.g., 'Total Revenue')\n",
    "column_to_plot = 'EarningsPerShareBasic'  # Replace with the desired column name\n",
    "\n",
    "# Plot the data as a line chart\n",
    "plt.plot(df_transposed.index, df_transposed[column_to_plot])\n",
    "\n",
    "# Customize the plot (optional)\n",
    "plt.xlabel('2023-09-30')\n",
    "plt.ylabel(column_to_plot)\n",
    "plt.title(f\"{column_to_plot} over Time\")\n",
    "plt.grid(True)\n",
    "\n",
    "# Display the plot\n",
    "plt.show()\n"
   ]
  },
  {
   "cell_type": "code",
   "execution_count": null,
   "id": "1db0bbc7",
   "metadata": {},
   "outputs": [],
   "source": []
  },
  {
   "cell_type": "code",
   "execution_count": 4,
   "id": "388072b6",
   "metadata": {},
   "outputs": [
    {
     "data": {
      "text/html": [
       "<pre style=\"white-space:pre;overflow-x:auto;line-height:normal;font-family:Menlo,'DejaVu Sans Mono',consolas,'Courier New',monospace\"><span style=\"color: #7fbfbf; text-decoration-color: #7fbfbf\">[12:06:44] </span><span style=\"color: #000080; text-decoration-color: #000080\">INFO    </span> Identity of the Edgar REST client set to <span style=\"font-weight: bold\">[</span>Rishabh Bhati rishabhbhati478@gmail.com<span style=\"font-weight: bold\">]</span>  <a href=\"file://C:\\Users\\risha\\anaconda3\\Lib\\site-packages\\edgar\\core.py\" target=\"_blank\"><span style=\"color: #7f7f7f; text-decoration-color: #7f7f7f\">core.py</span></a><span style=\"color: #7f7f7f; text-decoration-color: #7f7f7f\">:</span><a href=\"file://C:\\Users\\risha\\anaconda3\\Lib\\site-packages\\edgar\\core.py#155\" target=\"_blank\"><span style=\"color: #7f7f7f; text-decoration-color: #7f7f7f\">155</span></a>\n",
       "</pre>\n"
      ],
      "text/plain": [
       "\u001b[2;36m[12:06:44]\u001b[0m\u001b[2;36m \u001b[0m\u001b[34mINFO    \u001b[0m Identity of the Edgar REST client set to \u001b[1m[\u001b[0mRishabh Bhati rishabhbhati478@gmail.com\u001b[1m]\u001b[0m  \u001b]8;id=528958;file://C:\\Users\\risha\\anaconda3\\Lib\\site-packages\\edgar\\core.py\u001b\\\u001b[2mcore.py\u001b[0m\u001b]8;;\u001b\\\u001b[2m:\u001b[0m\u001b]8;id=170780;file://C:\\Users\\risha\\anaconda3\\Lib\\site-packages\\edgar\\core.py#155\u001b\\\u001b[2m155\u001b[0m\u001b]8;;\u001b\\\n"
      ]
     },
     "metadata": {},
     "output_type": "display_data"
    },
    {
     "name": "stdout",
     "output_type": "stream",
     "text": [
      "0000320193\n"
     ]
    },
    {
     "data": {
      "text/html": [
       "<pre style=\"white-space:pre;overflow-x:auto;line-height:normal;font-family:Menlo,'DejaVu Sans Mono',consolas,'Courier New',monospace\"><span style=\"color: #7fbfbf; text-decoration-color: #7fbfbf\">[12:06:52] </span><span style=\"color: #000080; text-decoration-color: #000080\">INFO    </span> Using categorical units to plot a list of strings that are all parsable as      <a href=\"file://C:\\Users\\risha\\anaconda3\\Lib\\site-packages\\matplotlib\\category.py\" target=\"_blank\"><span style=\"color: #7f7f7f; text-decoration-color: #7f7f7f\">category.py</span></a><span style=\"color: #7f7f7f; text-decoration-color: #7f7f7f\">:</span><a href=\"file://C:\\Users\\risha\\anaconda3\\Lib\\site-packages\\matplotlib\\category.py#223\" target=\"_blank\"><span style=\"color: #7f7f7f; text-decoration-color: #7f7f7f\">223</span></a>\n",
       "<span style=\"color: #7fbfbf; text-decoration-color: #7fbfbf\">           </span>         floats or dates. If these strings should be plotted as numbers, cast to the     <span style=\"color: #7f7f7f; text-decoration-color: #7f7f7f\">               </span>\n",
       "<span style=\"color: #7fbfbf; text-decoration-color: #7fbfbf\">           </span>         appropriate data type before plotting.                                          <span style=\"color: #7f7f7f; text-decoration-color: #7f7f7f\">               </span>\n",
       "</pre>\n"
      ],
      "text/plain": [
       "\u001b[2;36m[12:06:52]\u001b[0m\u001b[2;36m \u001b[0m\u001b[34mINFO    \u001b[0m Using categorical units to plot a list of strings that are all parsable as      \u001b]8;id=860228;file://C:\\Users\\risha\\anaconda3\\Lib\\site-packages\\matplotlib\\category.py\u001b\\\u001b[2mcategory.py\u001b[0m\u001b]8;;\u001b\\\u001b[2m:\u001b[0m\u001b]8;id=623932;file://C:\\Users\\risha\\anaconda3\\Lib\\site-packages\\matplotlib\\category.py#223\u001b\\\u001b[2m223\u001b[0m\u001b]8;;\u001b\\\n",
       "\u001b[2;36m           \u001b[0m         floats or dates. If these strings should be plotted as numbers, cast to the     \u001b[2m               \u001b[0m\n",
       "\u001b[2;36m           \u001b[0m         appropriate data type before plotting.                                          \u001b[2m               \u001b[0m\n"
      ]
     },
     "metadata": {},
     "output_type": "display_data"
    },
    {
     "data": {
      "text/html": [
       "<pre style=\"white-space:pre;overflow-x:auto;line-height:normal;font-family:Menlo,'DejaVu Sans Mono',consolas,'Courier New',monospace\"><span style=\"color: #7fbfbf; text-decoration-color: #7fbfbf\">           </span><span style=\"color: #000080; text-decoration-color: #000080\">INFO    </span> Using categorical units to plot a list of strings that are all parsable as      <a href=\"file://C:\\Users\\risha\\anaconda3\\Lib\\site-packages\\matplotlib\\category.py\" target=\"_blank\"><span style=\"color: #7f7f7f; text-decoration-color: #7f7f7f\">category.py</span></a><span style=\"color: #7f7f7f; text-decoration-color: #7f7f7f\">:</span><a href=\"file://C:\\Users\\risha\\anaconda3\\Lib\\site-packages\\matplotlib\\category.py#223\" target=\"_blank\"><span style=\"color: #7f7f7f; text-decoration-color: #7f7f7f\">223</span></a>\n",
       "<span style=\"color: #7fbfbf; text-decoration-color: #7fbfbf\">           </span>         floats or dates. If these strings should be plotted as numbers, cast to the     <span style=\"color: #7f7f7f; text-decoration-color: #7f7f7f\">               </span>\n",
       "<span style=\"color: #7fbfbf; text-decoration-color: #7fbfbf\">           </span>         appropriate data type before plotting.                                          <span style=\"color: #7f7f7f; text-decoration-color: #7f7f7f\">               </span>\n",
       "</pre>\n"
      ],
      "text/plain": [
       "\u001b[2;36m          \u001b[0m\u001b[2;36m \u001b[0m\u001b[34mINFO    \u001b[0m Using categorical units to plot a list of strings that are all parsable as      \u001b]8;id=757005;file://C:\\Users\\risha\\anaconda3\\Lib\\site-packages\\matplotlib\\category.py\u001b\\\u001b[2mcategory.py\u001b[0m\u001b]8;;\u001b\\\u001b[2m:\u001b[0m\u001b]8;id=478909;file://C:\\Users\\risha\\anaconda3\\Lib\\site-packages\\matplotlib\\category.py#223\u001b\\\u001b[2m223\u001b[0m\u001b]8;;\u001b\\\n",
       "\u001b[2;36m           \u001b[0m         floats or dates. If these strings should be plotted as numbers, cast to the     \u001b[2m               \u001b[0m\n",
       "\u001b[2;36m           \u001b[0m         appropriate data type before plotting.                                          \u001b[2m               \u001b[0m\n"
      ]
     },
     "metadata": {},
     "output_type": "display_data"
    },
    {
     "data": {
      "text/html": [
       "<pre style=\"white-space:pre;overflow-x:auto;line-height:normal;font-family:Menlo,'DejaVu Sans Mono',consolas,'Courier New',monospace\"><span style=\"color: #7fbfbf; text-decoration-color: #7fbfbf\">           </span><span style=\"color: #000080; text-decoration-color: #000080\">INFO    </span> Using categorical units to plot a list of strings that are all parsable as      <a href=\"file://C:\\Users\\risha\\anaconda3\\Lib\\site-packages\\matplotlib\\category.py\" target=\"_blank\"><span style=\"color: #7f7f7f; text-decoration-color: #7f7f7f\">category.py</span></a><span style=\"color: #7f7f7f; text-decoration-color: #7f7f7f\">:</span><a href=\"file://C:\\Users\\risha\\anaconda3\\Lib\\site-packages\\matplotlib\\category.py#223\" target=\"_blank\"><span style=\"color: #7f7f7f; text-decoration-color: #7f7f7f\">223</span></a>\n",
       "<span style=\"color: #7fbfbf; text-decoration-color: #7fbfbf\">           </span>         floats or dates. If these strings should be plotted as numbers, cast to the     <span style=\"color: #7f7f7f; text-decoration-color: #7f7f7f\">               </span>\n",
       "<span style=\"color: #7fbfbf; text-decoration-color: #7fbfbf\">           </span>         appropriate data type before plotting.                                          <span style=\"color: #7f7f7f; text-decoration-color: #7f7f7f\">               </span>\n",
       "</pre>\n"
      ],
      "text/plain": [
       "\u001b[2;36m          \u001b[0m\u001b[2;36m \u001b[0m\u001b[34mINFO    \u001b[0m Using categorical units to plot a list of strings that are all parsable as      \u001b]8;id=742357;file://C:\\Users\\risha\\anaconda3\\Lib\\site-packages\\matplotlib\\category.py\u001b\\\u001b[2mcategory.py\u001b[0m\u001b]8;;\u001b\\\u001b[2m:\u001b[0m\u001b]8;id=559533;file://C:\\Users\\risha\\anaconda3\\Lib\\site-packages\\matplotlib\\category.py#223\u001b\\\u001b[2m223\u001b[0m\u001b]8;;\u001b\\\n",
       "\u001b[2;36m           \u001b[0m         floats or dates. If these strings should be plotted as numbers, cast to the     \u001b[2m               \u001b[0m\n",
       "\u001b[2;36m           \u001b[0m         appropriate data type before plotting.                                          \u001b[2m               \u001b[0m\n"
      ]
     },
     "metadata": {},
     "output_type": "display_data"
    },
    {
     "data": {
      "text/html": [
       "<pre style=\"white-space:pre;overflow-x:auto;line-height:normal;font-family:Menlo,'DejaVu Sans Mono',consolas,'Courier New',monospace\"><span style=\"color: #7fbfbf; text-decoration-color: #7fbfbf\">           </span><span style=\"color: #000080; text-decoration-color: #000080\">INFO    </span> Using categorical units to plot a list of strings that are all parsable as      <a href=\"file://C:\\Users\\risha\\anaconda3\\Lib\\site-packages\\matplotlib\\category.py\" target=\"_blank\"><span style=\"color: #7f7f7f; text-decoration-color: #7f7f7f\">category.py</span></a><span style=\"color: #7f7f7f; text-decoration-color: #7f7f7f\">:</span><a href=\"file://C:\\Users\\risha\\anaconda3\\Lib\\site-packages\\matplotlib\\category.py#223\" target=\"_blank\"><span style=\"color: #7f7f7f; text-decoration-color: #7f7f7f\">223</span></a>\n",
       "<span style=\"color: #7fbfbf; text-decoration-color: #7fbfbf\">           </span>         floats or dates. If these strings should be plotted as numbers, cast to the     <span style=\"color: #7f7f7f; text-decoration-color: #7f7f7f\">               </span>\n",
       "<span style=\"color: #7fbfbf; text-decoration-color: #7fbfbf\">           </span>         appropriate data type before plotting.                                          <span style=\"color: #7f7f7f; text-decoration-color: #7f7f7f\">               </span>\n",
       "</pre>\n"
      ],
      "text/plain": [
       "\u001b[2;36m          \u001b[0m\u001b[2;36m \u001b[0m\u001b[34mINFO    \u001b[0m Using categorical units to plot a list of strings that are all parsable as      \u001b]8;id=227696;file://C:\\Users\\risha\\anaconda3\\Lib\\site-packages\\matplotlib\\category.py\u001b\\\u001b[2mcategory.py\u001b[0m\u001b]8;;\u001b\\\u001b[2m:\u001b[0m\u001b]8;id=939885;file://C:\\Users\\risha\\anaconda3\\Lib\\site-packages\\matplotlib\\category.py#223\u001b\\\u001b[2m223\u001b[0m\u001b]8;;\u001b\\\n",
       "\u001b[2;36m           \u001b[0m         floats or dates. If these strings should be plotted as numbers, cast to the     \u001b[2m               \u001b[0m\n",
       "\u001b[2;36m           \u001b[0m         appropriate data type before plotting.                                          \u001b[2m               \u001b[0m\n"
      ]
     },
     "metadata": {},
     "output_type": "display_data"
    },
    {
     "data": {
      "image/png": "[encoded data removed]",
      "text/plain": [
       "<Figure size 640x480 with 1 Axes>"
      ]
     },
     "metadata": {},
     "output_type": "display_data"
    }
   ],
   "source": [
    "from edgar import *\n",
    "set_identity(\"Rishabh Bhati rishabhbhati478@gmail.com\")\n",
    "a=input()\n",
    "company = Company(a)\n",
    "tenk = Company(a).get_filings(form=\"10-K\").latest(1).obj()\n",
    "financials = tenk.financials\n",
    "df = financials.income_statement.to_dataframe()\n",
    "df_transposed = df.transpose()\n",
    "import matplotlib.pyplot as plt\n",
    "\n",
    "# Get a specific column or rows you want to visualize (e.g., 'Total Revenue')\n",
    "column_to_plot = 'EarningsPerShareBasic'  # Replace with the desired column name\n",
    "\n",
    "# Plot the data as a line chart\n",
    "plt.plot(df_transposed.index, df_transposed[column_to_plot])\n",
    "\n",
    "# Customize the plot (optional)\n",
    "plt.xlabel('2023-09-30')\n",
    "plt.ylabel(column_to_plot)\n",
    "plt.title(f\"{column_to_plot} over Time\")\n",
    "plt.grid(True)\n",
    "\n",
    "# Display the plot\n",
    "plt.show()"
   ]
  },
  {
   "cell_type": "code",
   "execution_count": 13,
   "id": "edef1bb1",
   "metadata": {},
   "outputs": [
    {
     "ename": "ImportError",
     "evalue": "cannot import name 'Filing' from 'edgar' (C:\\Users\\risha\\anaconda3\\Lib\\site-packages\\edgar\\__init__.py)",
     "output_type": "error",
     "traceback": [
      "\u001b[1;31m---------------------------------------------------------------------------\u001b[0m",
      "\u001b[1;31mImportError\u001b[0m                               Traceback (most recent call last)",
      "Cell \u001b[1;32mIn[13], line 1\u001b[0m\n\u001b[1;32m----> 1\u001b[0m \u001b[38;5;28;01mfrom\u001b[39;00m \u001b[38;5;21;01medgar\u001b[39;00m \u001b[38;5;28;01mimport\u001b[39;00m \u001b[38;5;241m*\u001b[39m\n\u001b[0;32m      2\u001b[0m set_identity(\u001b[38;5;124m\"\u001b[39m\u001b[38;5;124mFirst Last email@domain.com\u001b[39m\u001b[38;5;124m\"\u001b[39m)\n\u001b[0;32m      3\u001b[0m a\u001b[38;5;241m=\u001b[39m\u001b[38;5;28minput\u001b[39m()\n",
      "File \u001b[1;32m~\\anaconda3\\Lib\\site-packages\\edgar\\muniadvisors.py:14\u001b[0m\n\u001b[0;32m     11\u001b[0m \u001b[38;5;28;01mfrom\u001b[39;00m \u001b[38;5;21;01mrich\u001b[39;00m\u001b[38;5;21;01m.\u001b[39;00m\u001b[38;5;21;01mtable\u001b[39;00m \u001b[38;5;28;01mimport\u001b[39;00m Table\n\u001b[0;32m     12\u001b[0m \u001b[38;5;28;01mfrom\u001b[39;00m \u001b[38;5;21;01mrich\u001b[39;00m\u001b[38;5;21;01m.\u001b[39;00m\u001b[38;5;21;01mtext\u001b[39;00m \u001b[38;5;28;01mimport\u001b[39;00m Text\n\u001b[1;32m---> 14\u001b[0m \u001b[38;5;28;01mfrom\u001b[39;00m \u001b[38;5;21;01medgar\u001b[39;00m \u001b[38;5;28;01mimport\u001b[39;00m Filing\n\u001b[0;32m     15\u001b[0m \u001b[38;5;28;01mfrom\u001b[39;00m \u001b[38;5;21;01medgar\u001b[39;00m\u001b[38;5;21;01m.\u001b[39;00m\u001b[38;5;21;01m_party\u001b[39;00m \u001b[38;5;28;01mimport\u001b[39;00m Name, Address\n\u001b[0;32m     16\u001b[0m \u001b[38;5;28;01mfrom\u001b[39;00m \u001b[38;5;21;01medgar\u001b[39;00m\u001b[38;5;21;01m.\u001b[39;00m\u001b[38;5;21;01m_rich\u001b[39;00m \u001b[38;5;28;01mimport\u001b[39;00m repr_rich\n",
      "\u001b[1;31mImportError\u001b[0m: cannot import name 'Filing' from 'edgar' (C:\\Users\\risha\\anaconda3\\Lib\\site-packages\\edgar\\__init__.py)"
     ]
    }
   ],
   "source": [
    "from edgar import *\n",
    "set_identity(\"First Last email@domain.com\")\n",
    "a=input()\n",
    "company = Company(a)\n",
    "tenk = Company(a).get_filings(form=\"10-K\").latest(1).obj()\n",
    "financials = tenk.financials\n",
    "df = financials.income_statement.to_dataframe()\n",
    "df_transposed = df.transpose()\n",
    "import matplotlib.pyplot as plt\n",
    "\n",
    "# Get a specific column or rows you want to visualize (e.g., 'Total Revenue')\n",
    "column_to_plot = 'EarningsPerShareBasic'  # Replace with the desired column name\n",
    "\n",
    "# Plot the data as a line chart\n",
    "plt.plot(df_transposed.index, df_transposed[column_to_plot])\n",
    "\n",
    "# Customize the plot (optional)\n",
    "plt.xlabel('2023-09-30')\n",
    "plt.ylabel(column_to_plot)\n",
    "plt.title(f\"{column_to_plot} over Time\")\n",
    "plt.grid(True)\n",
    "\n",
    "# Display the plot\n",
    "plt.show()"
   ]
  }
 ],
 "metadata": {
  "kernelspec": {
   "display_name": "Python 3 (ipykernel)",
   "language": "python",
   "name": "python3"
  },
  "language_info": {
   "codemirror_mode": {
    "name": "ipython",
    "version": 3
   },
   "file_extension": ".py",
   "mimetype": "text/x-python",
   "name": "python",
   "nbconvert_exporter": "python",
   "pygments_lexer": "ipython3",
   "version": "3.11.7"
  }
 },
 "nbformat": 4,
 "nbformat_minor": 5
}
